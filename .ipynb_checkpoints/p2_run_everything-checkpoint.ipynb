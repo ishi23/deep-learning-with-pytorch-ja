{
  "nbformat": 4,
  "nbformat_minor": 0,
  "metadata": {
    "kernelspec": {
      "display_name": "Python 3",
      "language": "python",
      "name": "python3"
    },
    "language_info": {
      "codemirror_mode": {
        "name": "ipython",
        "version": 3
      },
      "file_extension": ".py",
      "mimetype": "text/x-python",
      "name": "python",
      "nbconvert_exporter": "python",
      "pygments_lexer": "ipython3",
      "version": "3.6.9"
    },
    "colab": {
      "name": "p2_run_everything-checkpoint.ipynb",
      "provenance": [],
      "include_colab_link": true
    }
  },
  "cells": [
    {
      "cell_type": "markdown",
      "metadata": {
        "id": "view-in-github",
        "colab_type": "text"
      },
      "source": [
        "<a href=\"https://colab.research.google.com/github/ishi23/deep-learning-with-pytorch-ja/blob/main/.ipynb_checkpoints/p2_run_everything-checkpoint.ipynb\" target=\"_parent\"><img src=\"https://colab.research.google.com/assets/colab-badge.svg\" alt=\"Open In Colab\"/></a>"
      ]
    },
    {
      "cell_type": "code",
      "metadata": {
        "id": "UoqOArYwhZ2z"
      },
      "source": [
        "# test update on Colab\n",
        "import datetime\n",
        "\n",
        "from util.util import importstr\n",
        "from util.logconf import logging\n",
        "log = logging.getLogger('nb')"
      ],
      "execution_count": null,
      "outputs": []
    },
    {
      "cell_type": "code",
      "metadata": {
        "id": "IePBuohLhZ23"
      },
      "source": [
        "def run(app, *argv):\n",
        "    argv = list(argv)\n",
        "    argv.insert(0, '--num-workers=4')  # <1>\n",
        "    log.info(\"Running: {}({!r}).main()\".format(app, argv))\n",
        "    \n",
        "    app_cls = importstr(*app.rsplit('.', 1))  # <2>\n",
        "    app_cls(argv).main()\n",
        "    \n",
        "    log.info(\"Finished: {}.{!r}).main()\".format(app, argv))"
      ],
      "execution_count": null,
      "outputs": []
    },
    {
      "cell_type": "code",
      "metadata": {
        "id": "gw_e5eYFhZ24"
      },
      "source": [
        "import os\n",
        "import shutil\n",
        "\n",
        "# clean up any old data that might be around.\n",
        "# We don't call this by default because it's destructive, \n",
        "# and would waste a lot of time if it ran when nothing \n",
        "# on the application side had changed.\n",
        "def cleanCache():\n",
        "    shutil.rmtree('data-unversioned/cache')\n",
        "    os.mkdir('data-unversioned/cache')\n",
        "\n",
        "# cleanCache()"
      ],
      "execution_count": null,
      "outputs": []
    },
    {
      "cell_type": "code",
      "metadata": {
        "id": "_j4uCWjohZ24"
      },
      "source": [
        "training_epochs = 20\n",
        "experiment_epochs = 10\n",
        "final_epochs = 50\n",
        "\n",
        "training_epochs = 2\n",
        "experiment_epochs = 2\n",
        "final_epochs = 5\n",
        "seg_epochs = 10"
      ],
      "execution_count": null,
      "outputs": []
    },
    {
      "cell_type": "markdown",
      "metadata": {
        "id": "jN-c-ZPRhZ25"
      },
      "source": [
        "## Chapter 11"
      ]
    },
    {
      "cell_type": "code",
      "metadata": {
        "id": "DdwGm20mhZ25"
      },
      "source": [
        "run('p2ch11.prepcache.LunaPrepCacheApp')"
      ],
      "execution_count": null,
      "outputs": []
    },
    {
      "cell_type": "code",
      "metadata": {
        "id": "BhB6WnQUhZ26"
      },
      "source": [
        "run('p2ch11.training.LunaTrainingApp', '--epochs=1')"
      ],
      "execution_count": null,
      "outputs": []
    },
    {
      "cell_type": "code",
      "metadata": {
        "id": "a_SRKrSvhZ26"
      },
      "source": [
        "run('p2ch11.training.LunaTrainingApp', f'--epochs={experiment_epochs}')"
      ],
      "execution_count": null,
      "outputs": []
    },
    {
      "cell_type": "markdown",
      "metadata": {
        "id": "ZVkonubyhZ27"
      },
      "source": [
        "## Chapter 12"
      ]
    },
    {
      "cell_type": "code",
      "metadata": {
        "id": "HjK4FJvAhZ27"
      },
      "source": [
        "run('p2ch12.prepcache.LunaPrepCacheApp')"
      ],
      "execution_count": null,
      "outputs": []
    },
    {
      "cell_type": "code",
      "metadata": {
        "id": "lSwsfELThZ28"
      },
      "source": [
        "run('p2ch12.training.LunaTrainingApp', '--epochs=1', 'unbalanced')"
      ],
      "execution_count": null,
      "outputs": []
    },
    {
      "cell_type": "code",
      "metadata": {
        "id": "3_Alvo_EhZ28"
      },
      "source": [
        "run('p2ch12.training.LunaTrainingApp', f'--epochs={training_epochs}', '--balanced', 'balanced')"
      ],
      "execution_count": null,
      "outputs": []
    },
    {
      "cell_type": "code",
      "metadata": {
        "id": "ql_sG1rFhZ29"
      },
      "source": [
        "run('p2ch12.training.LunaTrainingApp', f'--epochs={experiment_epochs}', '--balanced', '--augment-flip', 'flip')"
      ],
      "execution_count": null,
      "outputs": []
    },
    {
      "cell_type": "code",
      "metadata": {
        "id": "taXA-eImhZ29"
      },
      "source": [
        "run('p2ch12.training.LunaTrainingApp', f'--epochs={experiment_epochs}', '--balanced', '--augment-offset', 'offset')"
      ],
      "execution_count": null,
      "outputs": []
    },
    {
      "cell_type": "code",
      "metadata": {
        "id": "56B6H-3mhZ2-"
      },
      "source": [
        "run('p2ch12.training.LunaTrainingApp', f'--epochs={experiment_epochs}', '--balanced', '--augment-scale', 'scale')"
      ],
      "execution_count": null,
      "outputs": []
    },
    {
      "cell_type": "code",
      "metadata": {
        "id": "cs8cnFlehZ2-"
      },
      "source": [
        "run('p2ch12.training.LunaTrainingApp', f'--epochs={experiment_epochs}', '--balanced', '--augment-rotate', 'rotate')"
      ],
      "execution_count": null,
      "outputs": []
    },
    {
      "cell_type": "code",
      "metadata": {
        "id": "MWKkhUaLhZ2-"
      },
      "source": [
        "run('p2ch12.training.LunaTrainingApp', f'--epochs={experiment_epochs}', '--balanced', '--augment-noise', 'noise')"
      ],
      "execution_count": null,
      "outputs": []
    },
    {
      "cell_type": "code",
      "metadata": {
        "id": "OOskFHLYhZ2_"
      },
      "source": [
        "run('p2ch12.training.LunaTrainingApp', f'--epochs={training_epochs}', '--balanced', '--augmented', 'fully-augmented')"
      ],
      "execution_count": null,
      "outputs": []
    },
    {
      "cell_type": "markdown",
      "metadata": {
        "id": "1h7p2KNGhZ3A"
      },
      "source": [
        "## Chapter 13"
      ]
    },
    {
      "cell_type": "code",
      "metadata": {
        "id": "y1JgXJL7hZ3B"
      },
      "source": [
        "run('p2ch13.prepcache.LunaPrepCacheApp')"
      ],
      "execution_count": null,
      "outputs": []
    },
    {
      "cell_type": "code",
      "metadata": {
        "id": "u0dXhGd_hZ3B"
      },
      "source": [
        "run('p2ch13.train_cls.LunaTrainingApp', f'--epochs={final_epochs}', '--balanced', '--augmented', 'final-cls')"
      ],
      "execution_count": null,
      "outputs": []
    },
    {
      "cell_type": "code",
      "metadata": {
        "scrolled": true,
        "id": "EUecfD7ehZ3C"
      },
      "source": [
        "run('p2ch13.train_seg.LunaTrainingApp', f'--epochs={seg_epochs}', '--augmented', 'final-seg')"
      ],
      "execution_count": null,
      "outputs": []
    },
    {
      "cell_type": "markdown",
      "metadata": {
        "id": "lxpfIc17hZ3C"
      },
      "source": [
        "## Chapter 14"
      ]
    },
    {
      "cell_type": "code",
      "metadata": {
        "id": "8dzsKBckhZ3D"
      },
      "source": [
        "run('p2ch14.prepcache.LunaPrepCacheApp')"
      ],
      "execution_count": null,
      "outputs": []
    },
    {
      "cell_type": "code",
      "metadata": {
        "scrolled": true,
        "id": "dH2VdeqUhZ3D"
      },
      "source": [
        "run('p2ch14.training.ClassificationTrainingApp', f'--epochs=100', 'nodule-nonnodule')"
      ],
      "execution_count": null,
      "outputs": []
    },
    {
      "cell_type": "code",
      "metadata": {
        "scrolled": false,
        "id": "v2K1VDKOhZ3D",
        "outputId": "276a0360-99b7-4c4d-dc7f-5e510be25085"
      },
      "source": [
        "# model名は適宜書き換えてください\n",
        "run('p2ch14.training.ClassificationTrainingApp', f'--epochs=40', '--malignant', '--dataset=MalignantLunaDataset',\n",
        "    '--finetune=''data/part2/models/cls_2020-02-06_14.16.55_final-nodule-nonnodule.best.state',\n",
        "    'finetune-head')\n"
      ],
      "execution_count": null,
      "outputs": [
        {
          "output_type": "error",
          "ename": "NameError",
          "evalue": "name 'run' is not defined",
          "traceback": [
            "\u001b[0;31m---------------------------------------------------------------------------\u001b[0m",
            "\u001b[0;31mNameError\u001b[0m                                 Traceback (most recent call last)",
            "\u001b[0;32m<ipython-input-1-7158a43cbe54>\u001b[0m in \u001b[0;36m<module>\u001b[0;34m\u001b[0m\n\u001b[0;32m----> 1\u001b[0;31m run('p2ch14.training.ClassificationTrainingApp', f'--epochs=40', '--malignant', '--dataset=MalignantLunaDataset',\n\u001b[0m\u001b[1;32m      2\u001b[0m     \u001b[0;34m'--finetune='\u001b[0m\u001b[0;34m'data/part2/models/cls_2020-02-06_14.16.55_final-nodule-nonnodule.best.state'\u001b[0m\u001b[0;34m,\u001b[0m\u001b[0;34m\u001b[0m\u001b[0;34m\u001b[0m\u001b[0m\n\u001b[1;32m      3\u001b[0m     'finetune-head')\n",
            "\u001b[0;31mNameError\u001b[0m: name 'run' is not defined"
          ]
        }
      ]
    },
    {
      "cell_type": "code",
      "metadata": {
        "scrolled": false,
        "id": "QQhYSKmNhZ3F"
      },
      "source": [
        "# model名は適宜書き換えてください\n",
        "run('p2ch14.training.ClassificationTrainingApp', f'--epochs=40', '--malignant', '--dataset=MalignantLunaDataset',\n",
        "    '--finetune=''data/part2/models/cls_2020-02-06_14.16.55_final-nodule-nonnodule.best.state',\n",
        "    '--finetune-depth=2',\n",
        "    'finetune-depth2')\n"
      ],
      "execution_count": null,
      "outputs": []
    },
    {
      "cell_type": "code",
      "metadata": {
        "id": "th6iyFwmhZ3G"
      },
      "source": [
        "run('p2ch14.nodule_analysis.NoduleAnalysisApp', '--run-validation')"
      ],
      "execution_count": null,
      "outputs": []
    },
    {
      "cell_type": "code",
      "metadata": {
        "id": "yI2XjM4ohZ3G"
      },
      "source": [
        "run('p2ch14.nodule_analysis.NoduleAnalysisApp', '--run-validation', '--malignancy-path')"
      ],
      "execution_count": null,
      "outputs": []
    },
    {
      "cell_type": "code",
      "metadata": {
        "id": "Kz-kYHxUhZ3H"
      },
      "source": [
        ""
      ],
      "execution_count": null,
      "outputs": []
    },
    {
      "cell_type": "code",
      "metadata": {
        "id": "VJjiorCMhZ3H"
      },
      "source": [
        ""
      ],
      "execution_count": null,
      "outputs": []
    }
  ]
}