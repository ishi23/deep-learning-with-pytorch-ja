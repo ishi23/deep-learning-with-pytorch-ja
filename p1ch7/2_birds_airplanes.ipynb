{
  "nbformat": 4,
  "nbformat_minor": 0,
  "metadata": {
    "kernelspec": {
      "display_name": "Python 3",
      "language": "python",
      "name": "python3"
    },
    "language_info": {
      "codemirror_mode": {
        "name": "ipython",
        "version": 3
      },
      "file_extension": ".py",
      "mimetype": "text/x-python",
      "name": "python",
      "nbconvert_exporter": "python",
      "pygments_lexer": "ipython3",
      "version": "3.7.6"
    },
    "colab": {
      "name": "2_birds_airplanes.ipynb",
      "provenance": [],
      "toc_visible": true
    },
    "accelerator": "GPU"
  },
  "cells": [
    {
      "cell_type": "markdown",
      "metadata": {
        "id": "GBk-CyKZPjdX"
      },
      "source": [
        "## 日本語版\n",
        "※ ここではGoogle Colaraboratoryでの実行を想定しています。"
      ]
    },
    {
      "cell_type": "code",
      "metadata": {
        "colab": {
          "base_uri": "https://localhost:8080/"
        },
        "id": "n1obxveoPo2w",
        "outputId": "b90b69a0-a39e-4ef9-f5e4-2af9ff84412e"
      },
      "source": [
        "from google.colab import drive\n",
        "drive.mount('/content/drive')"
      ],
      "execution_count": 1,
      "outputs": [
        {
          "output_type": "stream",
          "text": [
            "Mounted at /content/drive\n"
          ],
          "name": "stdout"
        }
      ]
    },
    {
      "cell_type": "code",
      "metadata": {
        "colab": {
          "base_uri": "https://localhost:8080/"
        },
        "id": "zm0kYM8tPxPr",
        "outputId": "6c7aa138-d8cc-47c2-b0d1-28390182302a"
      },
      "source": [
        "%cd /content/drive/MyDrive/repos/deep-learning-with-pytorch-ja/p1ch7/"
      ],
      "execution_count": 2,
      "outputs": [
        {
          "output_type": "stream",
          "text": [
            "/content/drive/MyDrive/repos/deep-learning-with-pytorch-ja/p1ch7\n"
          ],
          "name": "stdout"
        }
      ]
    },
    {
      "cell_type": "code",
      "metadata": {
        "colab": {
          "base_uri": "https://localhost:8080/"
        },
        "id": "TpXH9bWrPjdm",
        "outputId": "f2dd363b-3499-49b3-c3e7-c6cc26ccfdc5"
      },
      "source": [
        "%matplotlib inline\n",
        "from matplotlib import pyplot as plt\n",
        "import numpy as np\n",
        "import torch\n",
        "\n",
        "torch.set_printoptions(edgeitems=2)\n",
        "torch.manual_seed(123)"
      ],
      "execution_count": 3,
      "outputs": [
        {
          "output_type": "execute_result",
          "data": {
            "text/plain": [
              "<torch._C.Generator at 0x7f4d9c5b2f10>"
            ]
          },
          "metadata": {
            "tags": []
          },
          "execution_count": 3
        }
      ]
    },
    {
      "cell_type": "code",
      "metadata": {
        "colab": {
          "base_uri": "https://localhost:8080/"
        },
        "id": "Gj50MgRkhNvJ",
        "outputId": "cc45c1b4-3ccd-4a37-f2d0-8da4469ba1b2"
      },
      "source": [
        "torch.cuda.is_available()"
      ],
      "execution_count": 4,
      "outputs": [
        {
          "output_type": "execute_result",
          "data": {
            "text/plain": [
              "True"
            ]
          },
          "metadata": {
            "tags": []
          },
          "execution_count": 4
        }
      ]
    },
    {
      "cell_type": "code",
      "metadata": {
        "colab": {
          "base_uri": "https://localhost:8080/",
          "height": 37
        },
        "id": "tFiknz6oh1L6",
        "outputId": "f207b057-4c6b-4208-8a10-fa614717b84b"
      },
      "source": [
        "torch.cuda.get_device_name()"
      ],
      "execution_count": 5,
      "outputs": [
        {
          "output_type": "execute_result",
          "data": {
            "application/vnd.google.colaboratory.intrinsic+json": {
              "type": "string"
            },
            "text/plain": [
              "'Tesla T4'"
            ]
          },
          "metadata": {
            "tags": []
          },
          "execution_count": 5
        }
      ]
    },
    {
      "cell_type": "code",
      "metadata": {
        "colab": {
          "base_uri": "https://localhost:8080/"
        },
        "id": "GFU1KBgih_SP",
        "outputId": "56bb3ab5-0ef2-4ffb-f2fa-9dc620eb89a0"
      },
      "source": [
        "torch.cuda.get_device_capability()"
      ],
      "execution_count": 6,
      "outputs": [
        {
          "output_type": "execute_result",
          "data": {
            "text/plain": [
              "(7, 5)"
            ]
          },
          "metadata": {
            "tags": []
          },
          "execution_count": 6
        }
      ]
    },
    {
      "cell_type": "code",
      "metadata": {
        "colab": {
          "base_uri": "https://localhost:8080/"
        },
        "id": "FOUzxbQLiVRI",
        "outputId": "90c2a8ea-98cb-4f6f-a394-2bc8c72fa3f8"
      },
      "source": [
        "tensor_sample = torch.Tensor([1, 2])\n",
        "tensor_sample"
      ],
      "execution_count": 7,
      "outputs": [
        {
          "output_type": "execute_result",
          "data": {
            "text/plain": [
              "tensor([1., 2.])"
            ]
          },
          "metadata": {
            "tags": []
          },
          "execution_count": 7
        }
      ]
    },
    {
      "cell_type": "code",
      "metadata": {
        "colab": {
          "base_uri": "https://localhost:8080/"
        },
        "id": "IyDgxJWoip0N",
        "outputId": "a797d451-d0c9-44ae-dec4-4150b5380f59"
      },
      "source": [
        "tensor_sample.device"
      ],
      "execution_count": 8,
      "outputs": [
        {
          "output_type": "execute_result",
          "data": {
            "text/plain": [
              "device(type='cpu')"
            ]
          },
          "metadata": {
            "tags": []
          },
          "execution_count": 8
        }
      ]
    },
    {
      "cell_type": "code",
      "metadata": {
        "colab": {
          "base_uri": "https://localhost:8080/"
        },
        "id": "QD_V9UZQitXo",
        "outputId": "1f4ef9e8-3dff-400e-c81e-bb1c95fade99"
      },
      "source": [
        "tensor_sample.to('cuda').device"
      ],
      "execution_count": 9,
      "outputs": [
        {
          "output_type": "execute_result",
          "data": {
            "text/plain": [
              "device(type='cuda', index=0)"
            ]
          },
          "metadata": {
            "tags": []
          },
          "execution_count": 9
        }
      ]
    },
    {
      "cell_type": "markdown",
      "metadata": {
        "id": "XTyf1d0CQB8C"
      },
      "source": [
        "## 前項の前処理"
      ]
    },
    {
      "cell_type": "markdown",
      "metadata": {
        "id": "GVnu0bhpQBkp"
      },
      "source": [
        ""
      ]
    },
    {
      "cell_type": "code",
      "metadata": {
        "id": "Q95YFOlHPjdp"
      },
      "source": [
        "class_names = ['airplane','automobile','bird','cat','deer',\n",
        "               'dog','frog','horse','ship','truck']"
      ],
      "execution_count": 10,
      "outputs": []
    },
    {
      "cell_type": "code",
      "metadata": {
        "id": "YRwu8aWrPjdq"
      },
      "source": [
        "from torchvision import datasets, transforms\n",
        "data_path = '../data-unversioned/p1ch7/'\n",
        "cifar10 = datasets.CIFAR10(\n",
        "    data_path, train=True, download=False,\n",
        "    transform=transforms.Compose([\n",
        "        transforms.ToTensor(),\n",
        "        transforms.Normalize((0.4915, 0.4823, 0.4468),\n",
        "                             (0.2470, 0.2435, 0.2616))\n",
        "    ]))"
      ],
      "execution_count": 11,
      "outputs": []
    },
    {
      "cell_type": "code",
      "metadata": {
        "id": "rr0WD70QPjdr"
      },
      "source": [
        "cifar10_val = datasets.CIFAR10(\n",
        "    data_path, train=False, download=False,\n",
        "    transform=transforms.Compose([\n",
        "        transforms.ToTensor(),\n",
        "        transforms.Normalize((0.4915, 0.4823, 0.4468),\n",
        "                             (0.2470, 0.2435, 0.2616))\n",
        "    ]))"
      ],
      "execution_count": 12,
      "outputs": []
    },
    {
      "cell_type": "markdown",
      "metadata": {
        "id": "ikYOWwu9R3QK"
      },
      "source": [
        "## airplane と bird のみを抽出してモデリング"
      ]
    },
    {
      "cell_type": "code",
      "metadata": {
        "id": "_B7m4u8qPjdr"
      },
      "source": [
        "# ラベルの再定義\n",
        "label_map = {0: 0, 2: 1}\n",
        "class_names = ['airplane', 'bird']\n",
        "\n",
        "# （今回の場合は）\n",
        "# __len__と__getitem__があれば良いのでDatasetオブジェクトではなくリストで対応可能\n",
        "cifar2 = [(img, label_map[label])\n",
        "          for img, label in cifar10 \n",
        "          if label in [0, 2]]\n",
        "cifar2_val = [(img, label_map[label])\n",
        "              for img, label in cifar10_val\n",
        "              if label in [0, 2]]"
      ],
      "execution_count": 13,
      "outputs": []
    },
    {
      "cell_type": "code",
      "metadata": {
        "id": "AW5ALHb4Pjds"
      },
      "source": [
        "# 単純にモデルを組んでみる\n",
        "import torch.nn as nn\n",
        "\n",
        "n_out = 2\n",
        "\n",
        "model = nn.Sequential(\n",
        "            nn.Linear(\n",
        "                3072,  # 3 x 32 x 32\n",
        "                512,   # 任意\n",
        "            ),\n",
        "            nn.Tanh(),\n",
        "            nn.Linear(\n",
        "                512,   # 一つ前に出力層数\n",
        "                n_out, # 2\n",
        "            )\n",
        "        )\n",
        "# n_outには[0]と[1]それぞれに対するスコアがはいる"
      ],
      "execution_count": 14,
      "outputs": []
    },
    {
      "cell_type": "code",
      "metadata": {
        "id": "XKHQ9NZEPjdt"
      },
      "source": [
        "# softmax関数は各スコアのベクトルを確率に変換する機能を持つ\n",
        "# exp()を用いるのはexp()が単調増加関数であり、正負に惑わされないためである\n",
        "# 但し、これを「確率」とする妥当性については、必ずしも妥当とは言えない可能性がある。\n",
        "def softmax(x):\n",
        "    return torch.exp(x) / torch.exp(x).sum()"
      ],
      "execution_count": 15,
      "outputs": []
    },
    {
      "cell_type": "code",
      "metadata": {
        "colab": {
          "base_uri": "https://localhost:8080/"
        },
        "id": "WdOhJr6QPjdt",
        "outputId": "07a93d2e-47c9-4cf7-8bd8-a056ef5e59e5"
      },
      "source": [
        "x = torch.tensor([1.0, 2.0, 3.0])\n",
        "\n",
        "softmax(x)"
      ],
      "execution_count": 16,
      "outputs": [
        {
          "output_type": "execute_result",
          "data": {
            "text/plain": [
              "tensor([0.0900, 0.2447, 0.6652])"
            ]
          },
          "metadata": {
            "tags": []
          },
          "execution_count": 16
        }
      ]
    },
    {
      "cell_type": "code",
      "metadata": {
        "colab": {
          "base_uri": "https://localhost:8080/"
        },
        "id": "66uh-chBPjdu",
        "outputId": "263ad923-561a-4dfb-b5c5-dbb99fa8ccc6"
      },
      "source": [
        "softmax(x).sum()"
      ],
      "execution_count": 17,
      "outputs": [
        {
          "output_type": "execute_result",
          "data": {
            "text/plain": [
              "tensor(1.)"
            ]
          },
          "metadata": {
            "tags": []
          },
          "execution_count": 17
        }
      ]
    },
    {
      "cell_type": "code",
      "metadata": {
        "colab": {
          "base_uri": "https://localhost:8080/"
        },
        "id": "oiMQ0BQQPjdv",
        "outputId": "f5c213f6-0a62-474c-a117-8ccaa555c224"
      },
      "source": [
        "# softmax関数はnnモジュールに用意されている\n",
        "# 次元指定が必要\n",
        "softmax = nn.Softmax(dim=1)\n",
        "\n",
        "x = torch.tensor([[1.0, 2.0, 3.0],\n",
        "                  [1.0, 2.0, 3.0]])\n",
        "\n",
        "softmax(x)"
      ],
      "execution_count": 18,
      "outputs": [
        {
          "output_type": "execute_result",
          "data": {
            "text/plain": [
              "tensor([[0.0900, 0.2447, 0.6652],\n",
              "        [0.0900, 0.2447, 0.6652]])"
            ]
          },
          "metadata": {
            "tags": []
          },
          "execution_count": 18
        }
      ]
    },
    {
      "cell_type": "code",
      "metadata": {
        "id": "4Z1XCxUQPjdw"
      },
      "source": [
        "# softmaxを用いて確率を返すNNを再定義\n",
        "model = nn.Sequential(\n",
        "            nn.Linear(3072, 512),\n",
        "            nn.Tanh(),\n",
        "            nn.Linear(512, 2),\n",
        "            nn.Softmax(dim=1))"
      ],
      "execution_count": 19,
      "outputs": []
    },
    {
      "cell_type": "code",
      "metadata": {
        "colab": {
          "base_uri": "https://localhost:8080/",
          "height": 283
        },
        "id": "pbfnFsjhPjdx",
        "outputId": "8c98d149-c25a-4235-9b6d-cf163fd3e5a3"
      },
      "source": [
        "img, _ = cifar2[0]\n",
        "\n",
        "plt.imshow(img.permute(1, 2, 0))\n",
        "plt.show()"
      ],
      "execution_count": 20,
      "outputs": [
        {
          "output_type": "stream",
          "text": [
            "Clipping input data to the valid range for imshow with RGB data ([0..1] for floats or [0..255] for integers).\n"
          ],
          "name": "stderr"
        },
        {
          "output_type": "display_data",
          "data": {
            "image/png": "[encoded data removed]",
            "text/plain": [
              "<Figure size 432x288 with 1 Axes>"
            ]
          },
          "metadata": {
            "tags": [],
            "needs_background": "light"
          }
        }
      ]
    },
    {
      "cell_type": "code",
      "metadata": {
        "colab": {
          "base_uri": "https://localhost:8080/"
        },
        "id": "ZG3bZLC8Pjdy",
        "outputId": "bde7f8da-150a-4f14-fdf0-09fd71843e62"
      },
      "source": [
        "# 1枚入りのバッチを作成\n",
        "img_batch = img.view(-1).unsqueeze(0) # 1次元化と次元の挿入\n",
        "img_batch.shape"
      ],
      "execution_count": 21,
      "outputs": [
        {
          "output_type": "execute_result",
          "data": {
            "text/plain": [
              "torch.Size([1, 3072])"
            ]
          },
          "metadata": {
            "tags": []
          },
          "execution_count": 21
        }
      ]
    },
    {
      "cell_type": "code",
      "metadata": {
        "colab": {
          "base_uri": "https://localhost:8080/"
        },
        "id": "axxZ4FJfPjdy",
        "outputId": "188fd162-b038-498f-f7be-b10959d862c2"
      },
      "source": [
        "# 未学習モデルで順伝播してみる\n",
        "out = model(img_batch)\n",
        "out"
      ],
      "execution_count": 22,
      "outputs": [
        {
          "output_type": "execute_result",
          "data": {
            "text/plain": [
              "tensor([[0.4784, 0.5216]], grad_fn=<SoftmaxBackward>)"
            ]
          },
          "metadata": {
            "tags": []
          },
          "execution_count": 22
        }
      ]
    },
    {
      "cell_type": "code",
      "metadata": {
        "colab": {
          "base_uri": "https://localhost:8080/"
        },
        "id": "X9ekw9dmPjdz",
        "outputId": "4b73e7f3-fe83-4d54-8638-d610f2cf7adf"
      },
      "source": [
        "# torch.max(tensor, dim)で値とargmaxを取得。予測結果を得る\n",
        "_, index = torch.max(out, dim=1)\n",
        "\n",
        "index"
      ],
      "execution_count": 23,
      "outputs": [
        {
          "output_type": "execute_result",
          "data": {
            "text/plain": [
              "tensor([1])"
            ]
          },
          "metadata": {
            "tags": []
          },
          "execution_count": 23
        }
      ]
    },
    {
      "cell_type": "code",
      "metadata": {
        "colab": {
          "base_uri": "https://localhost:8080/"
        },
        "id": "kv0cseWBPjd0",
        "outputId": "3ed1914c-7674-4081-bebb-5725dda83bde"
      },
      "source": [
        "# デモンストレーション用Output。バッチサイズ４だとする\n",
        "out = torch.tensor([\n",
        "    [0.6, 0.4],\n",
        "    [0.9, 0.1],\n",
        "    [0.3, 0.7],\n",
        "    [0.2, 0.8],\n",
        "])\n",
        "class_index = torch.tensor([0, 0, 1, 1]).unsqueeze(1)\n",
        "\n",
        "# 正解ラベルを準備。\n",
        "truth = torch.zeros((4,2))\n",
        "truth.scatter_(dim=1, index=class_index, value=1.0)\n",
        "truth"
      ],
      "execution_count": 24,
      "outputs": [
        {
          "output_type": "execute_result",
          "data": {
            "text/plain": [
              "tensor([[1., 0.],\n",
              "        [1., 0.],\n",
              "        [0., 1.],\n",
              "        [0., 1.]])"
            ]
          },
          "metadata": {
            "tags": []
          },
          "execution_count": 24
        }
      ]
    },
    {
      "cell_type": "code",
      "metadata": {
        "colab": {
          "base_uri": "https://localhost:8080/"
        },
        "id": "6qArmFyQPjd1",
        "outputId": "c76f3557-5bf3-42ff-d6fd-a032c6a7aa43"
      },
      "source": [
        "# MSEの場合\n",
        "def mse(out):\n",
        "    return ((out - truth) ** 2).sum(dim=1).mean()\n",
        "mse(out)"
      ],
      "execution_count": 25,
      "outputs": [
        {
          "output_type": "execute_result",
          "data": {
            "text/plain": [
              "tensor(0.1500)"
            ]
          },
          "metadata": {
            "tags": []
          },
          "execution_count": 25
        }
      ]
    },
    {
      "cell_type": "code",
      "metadata": {
        "colab": {
          "base_uri": "https://localhost:8080/"
        },
        "id": "RQ52rGSb_QqN",
        "outputId": "5a7553a7-47ab-4036-9811-cb3edf48dfed"
      },
      "source": [
        "(out - truth) ** 2"
      ],
      "execution_count": 26,
      "outputs": [
        {
          "output_type": "execute_result",
          "data": {
            "text/plain": [
              "tensor([[0.1600, 0.1600],\n",
              "        [0.0100, 0.0100],\n",
              "        [0.0900, 0.0900],\n",
              "        [0.0400, 0.0400]])"
            ]
          },
          "metadata": {
            "tags": []
          },
          "execution_count": 26
        }
      ]
    },
    {
      "cell_type": "code",
      "metadata": {
        "colab": {
          "base_uri": "https://localhost:8080/"
        },
        "id": "V8p6NJnCPjd3",
        "outputId": "c29e85cc-dc10-4dcb-b964-678ee4735bf0"
      },
      "source": [
        "# 正解ラベルの確率のみを抽出\n",
        "out.gather(dim=1, index=class_index)"
      ],
      "execution_count": 27,
      "outputs": [
        {
          "output_type": "execute_result",
          "data": {
            "text/plain": [
              "tensor([[0.6000],\n",
              "        [0.9000],\n",
              "        [0.7000],\n",
              "        [0.8000]])"
            ]
          },
          "metadata": {
            "tags": []
          },
          "execution_count": 27
        }
      ]
    },
    {
      "cell_type": "code",
      "metadata": {
        "colab": {
          "base_uri": "https://localhost:8080/"
        },
        "id": "pXNBs39byVjT",
        "outputId": "98a88d19-e304-4ea2-d19e-3f6cb4cb71eb"
      },
      "source": [
        "# MSE修正\n",
        "def mse(out):\n",
        "    return ((1 - out.gather(dim=1, index=class_index)) ** 2).sum(dim=1).mean()\n",
        "mse(out)"
      ],
      "execution_count": 28,
      "outputs": [
        {
          "output_type": "execute_result",
          "data": {
            "text/plain": [
              "tensor(0.0750)"
            ]
          },
          "metadata": {
            "tags": []
          },
          "execution_count": 28
        }
      ]
    },
    {
      "cell_type": "code",
      "metadata": {
        "colab": {
          "base_uri": "https://localhost:8080/",
          "height": 315
        },
        "id": "GWtzzhjrNegZ",
        "outputId": "155d7fe5-d2c4-4b69-98d3-f7b9441b81d0"
      },
      "source": [
        "# MSEの見た目\n",
        "samples = torch.Tensor([0.1 * (i+1) for i in range(10)])\n",
        "plt.plot(samples, (1 - samples) ** 2)\n",
        "plt.xlabel('value')\n",
        "plt.ylabel('MSE')\n",
        "plt.title('MSE curve')\n",
        ";"
      ],
      "execution_count": 29,
      "outputs": [
        {
          "output_type": "execute_result",
          "data": {
            "application/vnd.google.colaboratory.intrinsic+json": {
              "type": "string"
            },
            "text/plain": [
              "''"
            ]
          },
          "metadata": {
            "tags": []
          },
          "execution_count": 29
        },
        {
          "output_type": "display_data",
          "data": {
            "image/png": "[encoded data removed]",
            "text/plain": [
              "<Figure size 432x288 with 1 Axes>"
            ]
          },
          "metadata": {
            "tags": [],
            "needs_background": "light"
          }
        }
      ]
    },
    {
      "cell_type": "code",
      "metadata": {
        "colab": {
          "base_uri": "https://localhost:8080/"
        },
        "id": "VPXy1Rj7Pjd4",
        "outputId": "6262e929-5930-4eca-b9a5-28386f76e748"
      },
      "source": [
        "# MSEではなく尤度損失関数を定義\n",
        "# 各確度を掛け合わせる\n",
        "def likelihood(out):\n",
        "    prod = 1.0\n",
        "    for x in out.gather(dim=1, index=class_index):\n",
        "        prod *= x\n",
        "    return prod\n",
        "\n",
        "likelihood(out)"
      ],
      "execution_count": 30,
      "outputs": [
        {
          "output_type": "execute_result",
          "data": {
            "text/plain": [
              "tensor([0.3024])"
            ]
          },
          "metadata": {
            "tags": []
          },
          "execution_count": 30
        }
      ]
    },
    {
      "cell_type": "code",
      "metadata": {
        "colab": {
          "base_uri": "https://localhost:8080/"
        },
        "id": "XKcX7tHPPjd4",
        "outputId": "d470c952-6be7-4c76-b64d-fec05a0757ee"
      },
      "source": [
        "# negative log likelihood\n",
        "# \n",
        "def neg_log_likelihood(out):\n",
        "    return -likelihood(out).log()\n",
        "\n",
        "neg_log_likelihood(out)"
      ],
      "execution_count": 31,
      "outputs": [
        {
          "output_type": "execute_result",
          "data": {
            "text/plain": [
              "tensor([1.1960])"
            ]
          },
          "metadata": {
            "tags": []
          },
          "execution_count": 31
        }
      ]
    },
    {
      "cell_type": "code",
      "metadata": {
        "colab": {
          "base_uri": "https://localhost:8080/",
          "height": 315
        },
        "id": "w8FdC9epKUoM",
        "outputId": "29dafb5a-4a54-4141-9963-161f83fb045e"
      },
      "source": [
        "samples = torch.Tensor([0.1 * (i+1) for i in range(10)])\n",
        "plt.plot(samples, -samples.log())\n",
        "plt.xlabel('value')\n",
        "plt.ylabel('NLL LOSS')\n",
        "plt.title('NLL LOSS curve')\n",
        ";"
      ],
      "execution_count": 32,
      "outputs": [
        {
          "output_type": "execute_result",
          "data": {
            "application/vnd.google.colaboratory.intrinsic+json": {
              "type": "string"
            },
            "text/plain": [
              "''"
            ]
          },
          "metadata": {
            "tags": []
          },
          "execution_count": 32
        },
        {
          "output_type": "display_data",
          "data": {
            "image/png": "[encoded data removed]",
            "text/plain": [
              "<Figure size 432x288 with 1 Axes>"
            ]
          },
          "metadata": {
            "tags": [],
            "needs_background": "light"
          }
        }
      ]
    },
    {
      "cell_type": "code",
      "metadata": {
        "colab": {
          "base_uri": "https://localhost:8080/"
        },
        "id": "vTDMt6CwzXbo",
        "outputId": "0d43fad2-7244-438a-ae27-8a95dd47edb6"
      },
      "source": [
        "out.clone().detach()"
      ],
      "execution_count": 33,
      "outputs": [
        {
          "output_type": "execute_result",
          "data": {
            "text/plain": [
              "tensor([[0.6000, 0.4000],\n",
              "        [0.9000, 0.1000],\n",
              "        [0.3000, 0.7000],\n",
              "        [0.2000, 0.8000]])"
            ]
          },
          "metadata": {
            "tags": []
          },
          "execution_count": 33
        }
      ]
    },
    {
      "cell_type": "code",
      "metadata": {
        "colab": {
          "base_uri": "https://localhost:8080/"
        },
        "id": "h5SQLSClPjd5",
        "outputId": "b899e9d7-26ca-4290-d314-0bd96933e8cf"
      },
      "source": [
        "# MSEの検証\n",
        "# ズレの程度の違うoutputを準備して比べてみる。\n",
        "out0 = out.clone().detach()\n",
        "out0[0] = torch.tensor([0.9, 0.1]) # more right\n",
        "\n",
        "out2 = out.clone().detach()\n",
        "out2[0] = torch.tensor([0.4, 0.6]) # slightly wrong\n",
        "\n",
        "out3 = out.clone().detach()\n",
        "out3[0] = torch.tensor([0.1, 0.9]) # very wrong\n",
        "\n",
        "mse_comparison = torch.tensor([mse(o) for o in [out0, out, out2, out3]])\n",
        "mse_comparison\n",
        "# ズレが大きいほどロスが大きい"
      ],
      "execution_count": 34,
      "outputs": [
        {
          "output_type": "execute_result",
          "data": {
            "text/plain": [
              "tensor([0.0375, 0.0750, 0.1250, 0.2375])"
            ]
          },
          "metadata": {
            "tags": []
          },
          "execution_count": 34
        }
      ]
    },
    {
      "cell_type": "code",
      "metadata": {
        "colab": {
          "base_uri": "https://localhost:8080/"
        },
        "id": "I3U0TZwmPjd6",
        "outputId": "deef6792-e2b9-4431-d408-acfe182d6a8d"
      },
      "source": [
        "# %diff\n",
        "((mse_comparison / mse_comparison[1]) - 1) * 100"
      ],
      "execution_count": 35,
      "outputs": [
        {
          "output_type": "execute_result",
          "data": {
            "text/plain": [
              "tensor([-50.0000,   0.0000,  66.6667, 216.6667])"
            ]
          },
          "metadata": {
            "tags": []
          },
          "execution_count": 35
        }
      ]
    },
    {
      "cell_type": "code",
      "metadata": {
        "colab": {
          "base_uri": "https://localhost:8080/"
        },
        "id": "-H-qZeUvPjd6",
        "outputId": "9b43068d-f3c0-47d5-cf16-72b64d381a1b"
      },
      "source": [
        "# NLLでもやってみる\n",
        "nll_comparison = torch.tensor([neg_log_likelihood(o) \n",
        "                               for o in [out0, out, out2, out3]])\n",
        "nll_comparison\n",
        "# 同様にずれに応じてロスが大きくなる"
      ],
      "execution_count": 36,
      "outputs": [
        {
          "output_type": "execute_result",
          "data": {
            "text/plain": [
              "tensor([0.7905, 1.1960, 1.6015, 2.9878])"
            ]
          },
          "metadata": {
            "tags": []
          },
          "execution_count": 36
        }
      ]
    },
    {
      "cell_type": "code",
      "metadata": {
        "colab": {
          "base_uri": "https://localhost:8080/"
        },
        "id": "DfDY-UssPjd7",
        "outputId": "7411546b-176d-4f25-9bd9-bc02054a7445"
      },
      "source": [
        "# %diff\n",
        "((nll_comparison / nll_comparison[1]) - 1) * 100"
      ],
      "execution_count": 37,
      "outputs": [
        {
          "output_type": "execute_result",
          "data": {
            "text/plain": [
              "tensor([-33.9016,   0.0000,  33.9017, 149.8121])"
            ]
          },
          "metadata": {
            "tags": []
          },
          "execution_count": 37
        }
      ]
    },
    {
      "cell_type": "code",
      "metadata": {
        "id": "6aFoMdqR8ixl"
      },
      "source": [
        "# nn.NLLLossは対数確率のテンソルを受け取る\n",
        "# そのため、Networkの最後はsoftmaxではなくLogSoftmaxを使う"
      ],
      "execution_count": 38,
      "outputs": []
    },
    {
      "cell_type": "code",
      "metadata": {
        "colab": {
          "base_uri": "https://localhost:8080/"
        },
        "id": "THJ9Kc3KPjd8",
        "outputId": "8dc4dd8d-ed5b-4096-d835-14bc840f54cf"
      },
      "source": [
        "softmax = nn.Softmax(dim=1)\n",
        "\n",
        "log_softmax = nn.LogSoftmax(dim=1)\n",
        "\n",
        "x = torch.tensor([[0.0, 104.0]])\n",
        "\n",
        "softmax(x)"
      ],
      "execution_count": 39,
      "outputs": [
        {
          "output_type": "execute_result",
          "data": {
            "text/plain": [
              "tensor([[0., 1.]])"
            ]
          },
          "metadata": {
            "tags": []
          },
          "execution_count": 39
        }
      ]
    },
    {
      "cell_type": "code",
      "metadata": {
        "id": "rJR7NDE7930n"
      },
      "source": [
        "# 検証：log(softmaxx(x))とlog_softmax(x)の違い\n",
        "# 結果：log_softmax(x)は0入力に対して無限に飛ばないようになっているっぽい\n",
        "x = torch.tensor([[0.0, 108.0]])"
      ],
      "execution_count": 40,
      "outputs": []
    },
    {
      "cell_type": "code",
      "metadata": {
        "colab": {
          "base_uri": "https://localhost:8080/"
        },
        "id": "BtDBhkeW_O2C",
        "outputId": "fe9471b7-76c8-4cda-df74-7045ad516380"
      },
      "source": [
        "x"
      ],
      "execution_count": 41,
      "outputs": [
        {
          "output_type": "execute_result",
          "data": {
            "text/plain": [
              "tensor([[  0., 108.]])"
            ]
          },
          "metadata": {
            "tags": []
          },
          "execution_count": 41
        }
      ]
    },
    {
      "cell_type": "code",
      "metadata": {
        "colab": {
          "base_uri": "https://localhost:8080/"
        },
        "id": "H8a3l-Lq-lCe",
        "outputId": "799f4d77-aef4-480d-9fad-c957826c3f53"
      },
      "source": [
        "softmax(x)"
      ],
      "execution_count": 42,
      "outputs": [
        {
          "output_type": "execute_result",
          "data": {
            "text/plain": [
              "tensor([[0., 1.]])"
            ]
          },
          "metadata": {
            "tags": []
          },
          "execution_count": 42
        }
      ]
    },
    {
      "cell_type": "code",
      "metadata": {
        "colab": {
          "base_uri": "https://localhost:8080/"
        },
        "id": "SDaegj2DPjd9",
        "outputId": "16b809b2-e315-4edd-ddf3-872969ea9073"
      },
      "source": [
        "torch.log(softmax(x))"
      ],
      "execution_count": 43,
      "outputs": [
        {
          "output_type": "execute_result",
          "data": {
            "text/plain": [
              "tensor([[-inf, 0.]])"
            ]
          },
          "metadata": {
            "tags": []
          },
          "execution_count": 43
        }
      ]
    },
    {
      "cell_type": "code",
      "metadata": {
        "colab": {
          "base_uri": "https://localhost:8080/"
        },
        "id": "vFHaYBXOPjd9",
        "outputId": "b8da1616-e164-44ef-9d8c-549faa3b7f79"
      },
      "source": [
        "log_softmax(x)"
      ],
      "execution_count": 44,
      "outputs": [
        {
          "output_type": "execute_result",
          "data": {
            "text/plain": [
              "tensor([[-108.,    0.]])"
            ]
          },
          "metadata": {
            "tags": []
          },
          "execution_count": 44
        }
      ]
    },
    {
      "cell_type": "code",
      "metadata": {
        "colab": {
          "base_uri": "https://localhost:8080/"
        },
        "id": "Pr4_QxZXPjd-",
        "outputId": "986c6a40-4473-49bf-c63e-5eb5d82e92e0"
      },
      "source": [
        "torch.exp(log_softmax(x))"
      ],
      "execution_count": 45,
      "outputs": [
        {
          "output_type": "execute_result",
          "data": {
            "text/plain": [
              "tensor([[0., 1.]])"
            ]
          },
          "metadata": {
            "tags": []
          },
          "execution_count": 45
        }
      ]
    },
    {
      "cell_type": "code",
      "metadata": {
        "id": "vHYe_Jk7Pjd_"
      },
      "source": [
        "# LogSoftmaxを採用したモデル\n",
        "model = nn.Sequential(\n",
        "            nn.Linear(3072, 512),\n",
        "            nn.Tanh(),\n",
        "            nn.Linear(512, 2),\n",
        "            nn.LogSoftmax(dim=1))"
      ],
      "execution_count": 46,
      "outputs": []
    },
    {
      "cell_type": "code",
      "metadata": {
        "id": "xmDTZptqPjd_"
      },
      "source": [
        "# NLLLossを採用: 出力と正解ラベルインデックスを引数に取る\n",
        "loss = nn.NLLLoss()"
      ],
      "execution_count": 47,
      "outputs": []
    },
    {
      "cell_type": "code",
      "metadata": {
        "colab": {
          "base_uri": "https://localhost:8080/"
        },
        "id": "mNBf_fyoPjeA",
        "outputId": "0ab5fdd2-e35a-4be0-e480-96f171e3f64d"
      },
      "source": [
        "# モデルを走らせてみる\n",
        "\n",
        "img, label = cifar2[0]\n",
        "print(label)\n",
        "\n",
        "out = model(img.view(-1).unsqueeze(0))\n",
        "print(out)\n",
        "print(torch.exp(out))\n",
        "print(loss(out, torch.tensor([label])))"
      ],
      "execution_count": 48,
      "outputs": [
        {
          "output_type": "stream",
          "text": [
            "1\n",
            "tensor([[-0.9211, -0.5077]], grad_fn=<LogSoftmaxBackward>)\n",
            "tensor([[0.3981, 0.6019]], grad_fn=<ExpBackward>)\n",
            "tensor(0.5077, grad_fn=<NllLossBackward>)\n"
          ],
          "name": "stdout"
        }
      ]
    },
    {
      "cell_type": "code",
      "metadata": {
        "colab": {
          "base_uri": "https://localhost:8080/"
        },
        "id": "FYzEecJCPjeA",
        "outputId": "bc0eac8e-38b9-44ac-e1d5-7a6cc0fd8606"
      },
      "source": [
        "%%time\n",
        "\n",
        "# NLLLossで学習してみる\n",
        "# 一枚ずつ学習する場合\n",
        "\n",
        "import torch\n",
        "import torch.nn as nn\n",
        "import torch.optim as optim\n",
        "\n",
        "model = nn.Sequential(\n",
        "            nn.Linear(3072, 512),\n",
        "            nn.Tanh(),\n",
        "            nn.Linear(512, 2),\n",
        "            nn.LogSoftmax(dim=1))\n",
        "\n",
        "model.to('cuda')\n",
        "\n",
        "learning_rate = 1e-2\n",
        "\n",
        "optimizer = optim.SGD(model.parameters(), lr=learning_rate)\n",
        "\n",
        "loss_fn = nn.NLLLoss()\n",
        "\n",
        "n_epochs = 100\n",
        "\n",
        "losses = []\n",
        "accs = []\n",
        "\n",
        "for epoch in range(n_epochs):\n",
        "\n",
        "    running_loss = 0.0\n",
        "    running_acc = 0.0\n",
        "\n",
        "    for img, label in cifar2:\n",
        "\n",
        "        img_gpu = img.view(-1).unsqueeze(0).to('cuda')\n",
        "        label_gpu = torch.tensor(label).unsqueeze(0).to('cuda')\n",
        "\n",
        "        out = model(img_gpu)\n",
        "        loss = loss_fn(out, label_gpu)\n",
        "\n",
        "\n",
        "        optimizer.zero_grad()\n",
        "\n",
        "        running_loss += loss.item() # .item()で値を取り出してrunning_lossに足す\n",
        "        pred = torch.argmax(out, dim=1) # outputには各分類ラベルに対するスコアが入っているだけの状態なので、最高スコアを取り出す。そのラベルが予測値となる。\n",
        "        running_acc += torch.mean(pred.eq(label).float()) # predとラベルが一致した率を計算\n",
        "        loss.backward() # 誤差逆伝播\n",
        "        optimizer.step() # 重みの更新\n",
        "\n",
        "    running_loss /= len(cifar2) # 損失値の平均\n",
        "    running_acc /= len(cifar2) # Accuracyの平均\n",
        "    losses.append(running_loss) # このエポックでのロスをリストに追加\n",
        "    accs.append(running_acc) # このエポックでのaccuracyをリストに追加\n",
        "    print(\"epoch: {}, loss: {}, acc: {}\".format(epoch, running_loss, running_acc))\n",
        "\n"
      ],
      "execution_count": 49,
      "outputs": [
        {
          "output_type": "stream",
          "text": [
            "epoch: 0, loss: 1.0554666463463795, acc: 0.6886999607086182\n",
            "epoch: 1, loss: 1.3657543937220882, acc: 0.6937999725341797\n",
            "epoch: 2, loss: 1.3724240921941608, acc: 0.7027999758720398\n",
            "epoch: 3, loss: 1.379102645198374, acc: 0.7055000066757202\n",
            "epoch: 4, loss: 1.3483050211726102, acc: 0.7129999995231628\n",
            "epoch: 5, loss: 1.3322341639684656, acc: 0.7177000045776367\n",
            "epoch: 6, loss: 1.300853624408404, acc: 0.725600004196167\n",
            "epoch: 7, loss: 1.3044334529327897, acc: 0.7253999710083008\n",
            "epoch: 8, loss: 1.2696365531568983, acc: 0.7299999594688416\n",
            "epoch: 9, loss: 1.274447246219178, acc: 0.7319999933242798\n",
            "epoch: 10, loss: 1.2447657076541778, acc: 0.7425000071525574\n",
            "epoch: 11, loss: 1.217543378085206, acc: 0.7487999796867371\n",
            "epoch: 12, loss: 1.2282617680288832, acc: 0.7479000091552734\n",
            "epoch: 13, loss: 1.1750577684916619, acc: 0.7554000020027161\n",
            "epoch: 14, loss: 1.1629906759095883, acc: 0.7536999583244324\n",
            "epoch: 15, loss: 1.1818556708497334, acc: 0.7554999589920044\n",
            "epoch: 16, loss: 1.165250528347209, acc: 0.7568999528884888\n",
            "epoch: 17, loss: 1.1517114750850517, acc: 0.7652999758720398\n",
            "epoch: 18, loss: 1.131926002394628, acc: 0.7635999917984009\n",
            "epoch: 19, loss: 1.164758121345339, acc: 0.7597999572753906\n",
            "epoch: 20, loss: 1.158899118657977, acc: 0.7639999985694885\n",
            "epoch: 21, loss: 1.1153068875160277, acc: 0.765999972820282\n",
            "epoch: 22, loss: 1.0815015315780483, acc: 0.7771999835968018\n",
            "epoch: 23, loss: 1.1052736173878692, acc: 0.7752000093460083\n",
            "epoch: 24, loss: 1.0912426140768803, acc: 0.7719999551773071\n",
            "epoch: 25, loss: 1.1219439711748898, acc: 0.7746999859809875\n",
            "epoch: 26, loss: 1.1013895394224331, acc: 0.7723000049591064\n",
            "epoch: 27, loss: 1.0583570297195246, acc: 0.7846999764442444\n",
            "epoch: 28, loss: 1.0460409151215835, acc: 0.7838999629020691\n",
            "epoch: 29, loss: 1.0382762110992922, acc: 0.7857999801635742\n",
            "epoch: 30, loss: 1.0068520070181506, acc: 0.786899983882904\n",
            "epoch: 31, loss: 1.025992574183157, acc: 0.7872999906539917\n",
            "epoch: 32, loss: 1.0329391678918132, acc: 0.7910000085830688\n",
            "epoch: 33, loss: 1.0062361609000787, acc: 0.7888000011444092\n",
            "epoch: 34, loss: 1.0184244561515055, acc: 0.7929999828338623\n",
            "epoch: 35, loss: 1.0122893568634879, acc: 0.79339998960495\n",
            "epoch: 36, loss: 1.014119281183933, acc: 0.795699954032898\n",
            "epoch: 37, loss: 1.034481084324209, acc: 0.7881999611854553\n",
            "epoch: 38, loss: 0.9878522067335692, acc: 0.7949999570846558\n",
            "epoch: 39, loss: 1.0148766733122063, acc: 0.7908999919891357\n",
            "epoch: 40, loss: 0.9772856512813478, acc: 0.7972999811172485\n",
            "epoch: 41, loss: 0.9792227635060919, acc: 0.7971000075340271\n",
            "epoch: 42, loss: 0.9709861405260892, acc: 0.8016999959945679\n",
            "epoch: 43, loss: 0.9658083672395198, acc: 0.8032999634742737\n",
            "epoch: 44, loss: 0.9455388859542241, acc: 0.8034999966621399\n",
            "epoch: 45, loss: 0.9484702788093288, acc: 0.8072999715805054\n",
            "epoch: 46, loss: 0.9433404112350223, acc: 0.8082999587059021\n",
            "epoch: 47, loss: 0.9352351303010555, acc: 0.8050999641418457\n",
            "epoch: 48, loss: 0.9700116913073819, acc: 0.804099977016449\n",
            "epoch: 49, loss: 0.8701347318987653, acc: 0.8167999982833862\n",
            "epoch: 50, loss: 0.8711916141834366, acc: 0.8198999762535095\n",
            "epoch: 51, loss: 0.8744134006468789, acc: 0.8187999725341797\n",
            "epoch: 52, loss: 0.9313362557983325, acc: 0.8133999705314636\n",
            "epoch: 53, loss: 0.9316399809385283, acc: 0.811199963092804\n",
            "epoch: 54, loss: 0.9444011253719816, acc: 0.8104999661445618\n",
            "epoch: 55, loss: 0.9135540255210038, acc: 0.8125\n",
            "epoch: 56, loss: 0.9172762399906782, acc: 0.8136999607086182\n",
            "epoch: 57, loss: 0.8975186892174388, acc: 0.8154999613761902\n",
            "epoch: 58, loss: 0.8644783753653741, acc: 0.8219999670982361\n",
            "epoch: 59, loss: 0.8553514521773253, acc: 0.8203999996185303\n",
            "epoch: 60, loss: 0.8724881581748488, acc: 0.8233000040054321\n",
            "epoch: 61, loss: 0.8644487040095635, acc: 0.8242999911308289\n",
            "epoch: 62, loss: 0.8511504129869228, acc: 0.8245999813079834\n",
            "epoch: 63, loss: 0.8712479860286841, acc: 0.8270999789237976\n",
            "epoch: 64, loss: 0.8634888525458415, acc: 0.8217999935150146\n",
            "epoch: 65, loss: 0.8729650961908235, acc: 0.819599986076355\n",
            "epoch: 66, loss: 0.8661279507261898, acc: 0.8211999535560608\n",
            "epoch: 67, loss: 0.8858052936308026, acc: 0.821899950504303\n",
            "epoch: 68, loss: 0.882876185265417, acc: 0.8204999566078186\n",
            "epoch: 69, loss: 0.8260009858003632, acc: 0.8315999507904053\n",
            "epoch: 70, loss: 0.8336169661937194, acc: 0.8274999856948853\n",
            "epoch: 71, loss: 0.8557859109043924, acc: 0.8270999789237976\n",
            "epoch: 72, loss: 0.8370319309528051, acc: 0.8287000060081482\n",
            "epoch: 73, loss: 0.8598317470363578, acc: 0.8270999789237976\n",
            "epoch: 74, loss: 0.8856645254924961, acc: 0.819599986076355\n",
            "epoch: 75, loss: 0.8467729465169294, acc: 0.8262999653816223\n",
            "epoch: 76, loss: 0.8629455390361769, acc: 0.8222000002861023\n",
            "epoch: 77, loss: 0.8396187684469276, acc: 0.8260999917984009\n",
            "epoch: 78, loss: 0.8536735403118537, acc: 0.8247999548912048\n",
            "epoch: 79, loss: 0.8584617460466499, acc: 0.8269000053405762\n",
            "epoch: 80, loss: 0.9030252487814654, acc: 0.81659996509552\n",
            "epoch: 81, loss: 0.8604831298021179, acc: 0.8233999609947205\n",
            "epoch: 82, loss: 0.86719259388195, acc: 0.823699951171875\n",
            "epoch: 83, loss: 0.8448660232257784, acc: 0.8294000029563904\n",
            "epoch: 84, loss: 0.8215574341671369, acc: 0.8307999968528748\n",
            "epoch: 85, loss: 0.8510950302806018, acc: 0.82669997215271\n",
            "epoch: 86, loss: 0.8041408709543298, acc: 0.8341000080108643\n",
            "epoch: 87, loss: 0.8846021746599916, acc: 0.8197999596595764\n",
            "epoch: 88, loss: 0.8283744252569893, acc: 0.8335999846458435\n",
            "epoch: 89, loss: 0.8207431997359849, acc: 0.8323000073432922\n",
            "epoch: 90, loss: 0.840532098902436, acc: 0.8295999765396118\n",
            "epoch: 91, loss: 0.8212431176634399, acc: 0.8315999507904053\n",
            "epoch: 92, loss: 0.7838286920053454, acc: 0.836899995803833\n",
            "epoch: 93, loss: 0.7731081473801957, acc: 0.8427000045776367\n",
            "epoch: 94, loss: 0.7704427480795287, acc: 0.8333999514579773\n",
            "epoch: 95, loss: 0.7961025208774012, acc: 0.8362999558448792\n",
            "epoch: 96, loss: 0.8035940763928315, acc: 0.8355000019073486\n",
            "epoch: 97, loss: 0.7633023685861107, acc: 0.840499997138977\n",
            "epoch: 98, loss: 0.7670281166084151, acc: 0.8398999571800232\n",
            "epoch: 99, loss: 0.8012316222696326, acc: 0.8377999663352966\n",
            "CPU times: user 14min 53s, sys: 32.3 s, total: 15min 25s\n",
            "Wall time: 15min 14s\n"
          ],
          "name": "stdout"
        }
      ]
    },
    {
      "cell_type": "code",
      "metadata": {
        "colab": {
          "base_uri": "https://localhost:8080/",
          "height": 515
        },
        "id": "rlg78giJu5ie",
        "outputId": "73143a7d-9472-43b1-b590-bf8ca27f0d54"
      },
      "source": [
        "fig, ax = plt.subplots(figsize=(20,10), ncols=2)\n",
        "ax[0].plot(losses)\n",
        "ax[0].grid()\n",
        "ax[1].plot(accs)\n",
        "ax[1].grid()\n",
        "ax[1].set_ylim([0,1])\n",
        ";"
      ],
      "execution_count": 50,
      "outputs": [
        {
          "output_type": "execute_result",
          "data": {
            "application/vnd.google.colaboratory.intrinsic+json": {
              "type": "string"
            },
            "text/plain": [
              "''"
            ]
          },
          "metadata": {
            "tags": []
          },
          "execution_count": 50
        },
        {
          "output_type": "display_data",
          "data": {
            "image/png": "[encoded data removed]",
            "text/plain": [
              "<Figure size 1440x720 with 2 Axes>"
            ]
          },
          "metadata": {
            "tags": [],
            "needs_background": "light"
          }
        }
      ]
    },
    {
      "cell_type": "code",
      "metadata": {
        "id": "Gu9Gg9wOPjeC"
      },
      "source": [
        "# DataLoaderを使う\n",
        "# ミニバッチ作成\n",
        "train_loader = torch.utils.data.DataLoader(cifar2, batch_size=64,\n",
        "                                           shuffle=True)"
      ],
      "execution_count": 51,
      "outputs": []
    },
    {
      "cell_type": "code",
      "metadata": {
        "colab": {
          "base_uri": "https://localhost:8080/"
        },
        "id": "QfRWuEXhPjeG",
        "outputId": "08aca3ae-f14c-43e5-a51b-e48d865ccd86"
      },
      "source": [
        "%%time\n",
        "# DataLoaderでミニバッチ法を採用したモデル学習\n",
        "# 高速且つ高精度\n",
        "import torch\n",
        "import torch.nn as nn\n",
        "import torch.optim as optim\n",
        "\n",
        "batch_size = 64\n",
        "train_loader = torch.utils.data.DataLoader(cifar2, batch_size=batch_size,\n",
        "                                           shuffle=True)\n",
        "\n",
        "model = nn.Sequential(\n",
        "            nn.Linear(3072, 128),\n",
        "            nn.Tanh(),\n",
        "            nn.Linear(128, 2),\n",
        "            nn.LogSoftmax(dim=1))\n",
        "\n",
        "model.to('cuda')\n",
        "\n",
        "learning_rate = 1e-2\n",
        "\n",
        "optimizer = optim.SGD(model.parameters(), lr=learning_rate)\n",
        "\n",
        "loss_fn = nn.NLLLoss()\n",
        "\n",
        "n_epochs = 100\n",
        "\n",
        "losses = []\n",
        "accs = []\n",
        "\n",
        "for epoch in range(n_epochs):\n",
        "\n",
        "    running_loss = 0.0\n",
        "    running_acc = 0.0\n",
        "\n",
        "    for imgs, labels in train_loader:\n",
        "\n",
        "        imgs_gpu = imgs.view(imgs.shape[0], -1).to('cuda')\n",
        "        labels_gpu = torch.tensor(labels).to('cuda')\n",
        "\n",
        "        out = model(imgs_gpu)\n",
        "        loss = loss_fn(out, labels_gpu)\n",
        "\n",
        "        optimizer.zero_grad()\n",
        "\n",
        "        running_loss += loss.item() # .item()で値を取り出してrunning_lossに足す\n",
        "        pred = torch.argmax(out, dim=1) # outputには各分類ラベルに対するスコアが入っているだけの状態なので、最高スコアを取り出す。そのラベルが予測値となる。\n",
        "        running_acc += torch.mean(pred.eq(labels_gpu).float()) # predとラベルが一致した率を計算\n",
        "        loss.backward() # 誤差逆伝播\n",
        "        optimizer.step() # 重みの更新\n",
        "\n",
        "    running_loss /= len(train_loader) # 損失値の平均\n",
        "    running_acc /= len(train_loader) # Accuracyの平均\n",
        "    losses.append(running_loss) # このエポックでのロスをリストに追加\n",
        "    accs.append(running_acc) # このエポックでのaccuracyをリストに追加\n",
        "    print(\"epoch: {}, loss: {}, acc: {}\".format(epoch, running_loss, running_acc))\n"
      ],
      "execution_count": 52,
      "outputs": [
        {
          "output_type": "stream",
          "text": [
            "/usr/local/lib/python3.7/dist-packages/ipykernel_launcher.py:38: UserWarning: To copy construct from a tensor, it is recommended to use sourceTensor.clone().detach() or sourceTensor.clone().detach().requires_grad_(True), rather than torch.tensor(sourceTensor).\n"
          ],
          "name": "stderr"
        },
        {
          "output_type": "stream",
          "text": [
            "epoch: 0, loss: 0.5020287682296364, acc: 0.765127420425415\n",
            "epoch: 1, loss: 0.46298433432153835, acc: 0.7906051278114319\n",
            "epoch: 2, loss: 0.4486563258869633, acc: 0.8012539744377136\n",
            "epoch: 3, loss: 0.4350929920840415, acc: 0.8052349090576172\n",
            "epoch: 4, loss: 0.42663423270936224, acc: 0.8108081221580505\n",
            "epoch: 5, loss: 0.41478736964380664, acc: 0.8199641704559326\n",
            "epoch: 6, loss: 0.40680986908590716, acc: 0.825039803981781\n",
            "epoch: 7, loss: 0.3984639423478181, acc: 0.8270302414894104\n",
            "epoch: 8, loss: 0.38820118442842155, acc: 0.8356887102127075\n",
            "epoch: 9, loss: 0.38090037464336224, acc: 0.8381767868995667\n",
            "epoch: 10, loss: 0.3745280985429788, acc: 0.8400676846504211\n",
            "epoch: 11, loss: 0.3643182270276319, acc: 0.8460389971733093\n",
            "epoch: 12, loss: 0.35837509222091385, acc: 0.8470342755317688\n",
            "epoch: 13, loss: 0.3485703034575578, acc: 0.8555931448936462\n",
            "epoch: 14, loss: 0.3394906061470129, acc: 0.858877420425415\n",
            "epoch: 15, loss: 0.33237425403989806, acc: 0.8610668778419495\n",
            "epoch: 16, loss: 0.32177134683937025, acc: 0.8690286874771118\n",
            "epoch: 17, loss: 0.31766793426055057, acc: 0.8681329488754272\n",
            "epoch: 18, loss: 0.30792749582961865, acc: 0.8771895170211792\n",
            "epoch: 19, loss: 0.29562148470787486, acc: 0.8850517868995667\n",
            "epoch: 20, loss: 0.2911313948737588, acc: 0.8845541477203369\n",
            "epoch: 21, loss: 0.2860178560208363, acc: 0.8865445852279663\n",
            "epoch: 22, loss: 0.27399474486803554, acc: 0.8930135369300842\n",
            "epoch: 23, loss: 0.2642602038801096, acc: 0.8975915908813477\n",
            "epoch: 24, loss: 0.26036119242762307, acc: 0.8987858295440674\n",
            "epoch: 25, loss: 0.2524219530213411, acc: 0.9050557613372803\n",
            "epoch: 26, loss: 0.24646910977591374, acc: 0.90625\n",
            "epoch: 27, loss: 0.2337784213814766, acc: 0.9121218323707581\n",
            "epoch: 28, loss: 0.2268586253189737, acc: 0.9166003465652466\n",
            "epoch: 29, loss: 0.22038259561274462, acc: 0.9195860028266907\n",
            "epoch: 30, loss: 0.21339644553365222, acc: 0.9221735596656799\n",
            "epoch: 31, loss: 0.2054660738843262, acc: 0.9253582954406738\n",
            "epoch: 32, loss: 0.19787031592457158, acc: 0.9310310482978821\n",
            "epoch: 33, loss: 0.18908861640152658, acc: 0.9352110028266907\n",
            "epoch: 34, loss: 0.18694856174432548, acc: 0.9381966590881348\n",
            "epoch: 35, loss: 0.17653873510611284, acc: 0.9408837556838989\n",
            "epoch: 36, loss: 0.1695693416675185, acc: 0.9450637102127075\n",
            "epoch: 37, loss: 0.16214054495475855, acc: 0.9491441249847412\n",
            "epoch: 38, loss: 0.16093853533647623, acc: 0.949542224407196\n",
            "epoch: 39, loss: 0.15564868850692823, acc: 0.9494426846504211\n",
            "epoch: 40, loss: 0.15537605880741862, acc: 0.9516322016716003\n",
            "epoch: 41, loss: 0.14074707629194685, acc: 0.9578025341033936\n",
            "epoch: 42, loss: 0.13229179788072398, acc: 0.9618829488754272\n",
            "epoch: 43, loss: 0.1327926329556544, acc: 0.9617834687232971\n",
            "epoch: 44, loss: 0.1281109153987116, acc: 0.9629777073860168\n",
            "epoch: 45, loss: 0.12019209471193089, acc: 0.9684514403343201\n",
            "epoch: 46, loss: 0.11426486181700306, acc: 0.9700437784194946\n",
            "epoch: 47, loss: 0.10912440086056473, acc: 0.9727309346199036\n",
            "epoch: 48, loss: 0.10579513288607263, acc: 0.9738256335258484\n",
            "epoch: 49, loss: 0.10359870179728338, acc: 0.974920392036438\n",
            "epoch: 50, loss: 0.09838244969108302, acc: 0.9770103693008423\n",
            "epoch: 51, loss: 0.09362224259289206, acc: 0.9783041477203369\n",
            "epoch: 52, loss: 0.09201634226805845, acc: 0.978204607963562\n",
            "epoch: 53, loss: 0.08562077375449192, acc: 0.9817874431610107\n",
            "epoch: 54, loss: 0.08375370135874885, acc: 0.9819864630699158\n",
            "epoch: 55, loss: 0.08209332951884361, acc: 0.9827826619148254\n",
            "epoch: 56, loss: 0.08021049967901722, acc: 0.9818869829177856\n",
            "epoch: 57, loss: 0.0783252645592401, acc: 0.9831807613372803\n",
            "epoch: 58, loss: 0.07479290149299203, acc: 0.9853702187538147\n",
            "epoch: 59, loss: 0.07027547562103363, acc: 0.9858678579330444\n",
            "epoch: 60, loss: 0.06768189041999875, acc: 0.9867635369300842\n",
            "epoch: 61, loss: 0.06700294181277418, acc: 0.9868630766868591\n",
            "epoch: 62, loss: 0.06105225204614697, acc: 0.9892516136169434\n",
            "epoch: 63, loss: 0.05901247665143696, acc: 0.990047812461853\n",
            "epoch: 64, loss: 0.05897500769347901, acc: 0.9901472926139832\n",
            "epoch: 65, loss: 0.05557595901665794, acc: 0.9909434914588928\n",
            "epoch: 66, loss: 0.055453739692546, acc: 0.9904458522796631\n",
            "epoch: 67, loss: 0.051957160246315276, acc: 0.9923368096351624\n",
            "epoch: 68, loss: 0.05078205041539897, acc: 0.9919387102127075\n",
            "epoch: 69, loss: 0.04922358083070084, acc: 0.993332028388977\n",
            "epoch: 70, loss: 0.047274883373812505, acc: 0.993630588054657\n",
            "epoch: 71, loss: 0.04380417163157539, acc: 0.9942277073860168\n",
            "epoch: 72, loss: 0.04477872288708759, acc: 0.9932324886322021\n",
            "epoch: 73, loss: 0.041476370624391135, acc: 0.9951234459877014\n",
            "epoch: 74, loss: 0.04143323101530409, acc: 0.9948248267173767\n",
            "epoch: 75, loss: 0.03985351857960604, acc: 0.9946258068084717\n",
            "epoch: 76, loss: 0.03843051414628317, acc: 0.9955214858055115\n",
            "epoch: 77, loss: 0.03990090672804671, acc: 0.9950239062309265\n",
            "epoch: 78, loss: 0.03717567327960282, acc: 0.9960191249847412\n",
            "epoch: 79, loss: 0.03697862875926646, acc: 0.9949243664741516\n",
            "epoch: 80, loss: 0.03610396781449864, acc: 0.9954220056533813\n",
            "epoch: 81, loss: 0.03396324630067417, acc: 0.996914803981781\n",
            "epoch: 82, loss: 0.03350377242988462, acc: 0.996914803981781\n",
            "epoch: 83, loss: 0.03050206790850231, acc: 0.9978105425834656\n",
            "epoch: 84, loss: 0.03121740681231971, acc: 0.9970143437385559\n",
            "epoch: 85, loss: 0.030048836182779187, acc: 0.9973129034042358\n",
            "epoch: 86, loss: 0.028413450398784915, acc: 0.9976114630699158\n",
            "epoch: 87, loss: 0.0279167996434744, acc: 0.9978105425834656\n",
            "epoch: 88, loss: 0.027732090579618694, acc: 0.9975119829177856\n",
            "epoch: 89, loss: 0.026528991456291857, acc: 0.9977110028266907\n",
            "epoch: 90, loss: 0.026218746533724153, acc: 0.9979100227355957\n",
            "epoch: 91, loss: 0.026820008002316497, acc: 0.9979100227355957\n",
            "epoch: 92, loss: 0.025060935918787483, acc: 0.9984076619148254\n",
            "epoch: 93, loss: 0.024071346173525614, acc: 0.9983081221580505\n",
            "epoch: 94, loss: 0.023355360759813693, acc: 0.9987062215805054\n",
            "epoch: 95, loss: 0.02311225373084378, acc: 0.9985072016716003\n",
            "epoch: 96, loss: 0.022568493707781766, acc: 0.9988057613372803\n",
            "epoch: 97, loss: 0.021984458070509375, acc: 0.9983081221580505\n",
            "epoch: 98, loss: 0.021444402196130176, acc: 0.9987062215805054\n",
            "epoch: 99, loss: 0.022265389235393635, acc: 0.9983081221580505\n",
            "CPU times: user 23.4 s, sys: 870 ms, total: 24.2 s\n",
            "Wall time: 24.4 s\n"
          ],
          "name": "stdout"
        }
      ]
    },
    {
      "cell_type": "code",
      "metadata": {
        "colab": {
          "base_uri": "https://localhost:8080/",
          "height": 515
        },
        "id": "X-eOUvHTztyW",
        "outputId": "15562dfe-1490-4eb9-ea28-6810f796cce4"
      },
      "source": [
        "fig, ax = plt.subplots(figsize=(20,10), ncols=2)\n",
        "ax[0].plot(losses)\n",
        "ax[0].grid()\n",
        "ax[1].plot(accs)\n",
        "ax[1].grid()\n",
        "ax[1].set_ylim([0,1])\n",
        ";"
      ],
      "execution_count": 53,
      "outputs": [
        {
          "output_type": "execute_result",
          "data": {
            "application/vnd.google.colaboratory.intrinsic+json": {
              "type": "string"
            },
            "text/plain": [
              "''"
            ]
          },
          "metadata": {
            "tags": []
          },
          "execution_count": 53
        },
        {
          "output_type": "display_data",
          "data": {
            "image/png": "[encoded data removed]",
            "text/plain": [
              "<Figure size 1440x720 with 2 Axes>"
            ]
          },
          "metadata": {
            "tags": [],
            "needs_background": "light"
          }
        }
      ]
    },
    {
      "cell_type": "code",
      "metadata": {
        "colab": {
          "base_uri": "https://localhost:8080/"
        },
        "id": "69bxp6zSPjeI",
        "outputId": "a39212eb-0b35-4e86-8ef2-44dae9e40eb5"
      },
      "source": [
        "%%time\n",
        "\n",
        "# 1層目の出力（2層目の入力）の数を 128 → 512\n",
        "import torch\n",
        "import torch.nn as nn\n",
        "import torch.optim as optim\n",
        "\n",
        "train_loader = torch.utils.data.DataLoader(cifar2, batch_size=64,\n",
        "                                           shuffle=True)\n",
        "\n",
        "model = nn.Sequential(\n",
        "            nn.Linear(3072, 512),\n",
        "            nn.Tanh(),\n",
        "            nn.Linear(512, 2),\n",
        "            nn.LogSoftmax(dim=1))\n",
        "\n",
        "model.to('cuda')\n",
        "\n",
        "learning_rate = 1e-2\n",
        "\n",
        "optimizer = optim.SGD(model.parameters(), lr=learning_rate)\n",
        "\n",
        "loss_fn = nn.NLLLoss()\n",
        "\n",
        "n_epochs = 100\n",
        "\n",
        "losses = []\n",
        "accs = []\n",
        "\n",
        "for epoch in range(n_epochs):\n",
        "\n",
        "    running_loss = 0.0\n",
        "    running_acc = 0.0\n",
        "\n",
        "    for imgs, labels in train_loader:\n",
        "\n",
        "        imgs_gpu = imgs.view(imgs.shape[0], -1).to('cuda')\n",
        "        labels_gpu = torch.tensor(labels).to('cuda')\n",
        "\n",
        "        out = model(imgs_gpu)\n",
        "        loss = loss_fn(out, labels_gpu)\n",
        "\n",
        "        running_loss += loss.item() # .item()で値を取り出してrunning_lossに足す\n",
        "        pred = torch.argmax(out, dim=1) # outputには各分類ラベルに対するスコアが入っているだけの状態なので、最高スコアを取り出す。そのラベルが予測値となる。\n",
        "        running_acc += torch.mean(pred.eq(labels_gpu).float()) # predとラベルが一致した率を計算\n",
        "\n",
        "        running_loss += loss\n",
        "\n",
        "        optimizer.zero_grad()\n",
        "        loss.backward()\n",
        "        optimizer.step()\n",
        "\n",
        "\n",
        "    running_loss /= len(train_loader) # 損失値の平均\n",
        "    running_acc /= len(train_loader) # Accuracyの平均\n",
        "    losses.append(running_loss) # このエポックでのロスをリストに追加\n",
        "    accs.append(running_acc) # このエポックでのaccuracyをリストに追加\n",
        "    print(\"epoch: {}, loss: {}, acc: {}\".format(epoch, running_loss, running_acc))\n"
      ],
      "execution_count": 54,
      "outputs": [
        {
          "output_type": "stream",
          "text": [
            "/usr/local/lib/python3.7/dist-packages/ipykernel_launcher.py:37: UserWarning: To copy construct from a tensor, it is recommended to use sourceTensor.clone().detach() or sourceTensor.clone().detach().requires_grad_(True), rather than torch.tensor(sourceTensor).\n"
          ],
          "name": "stderr"
        },
        {
          "output_type": "stream",
          "text": [
            "epoch: 0, loss: 1.017665982246399, acc: 0.762042224407196\n",
            "epoch: 1, loss: 0.933479368686676, acc: 0.7880175113677979\n",
            "epoch: 2, loss: 0.8988736867904663, acc: 0.7958797812461853\n",
            "epoch: 3, loss: 0.8698118329048157, acc: 0.8083201050758362\n",
            "epoch: 4, loss: 0.8512380123138428, acc: 0.8142914175987244\n",
            "epoch: 5, loss: 0.8309837579727173, acc: 0.8166799545288086\n",
            "epoch: 6, loss: 0.8135880827903748, acc: 0.8254379034042358\n",
            "epoch: 7, loss: 0.792569637298584, acc: 0.8287221193313599\n",
            "epoch: 8, loss: 0.7762061953544617, acc: 0.8315087556838989\n",
            "epoch: 9, loss: 0.7711830735206604, acc: 0.8349920511245728\n",
            "epoch: 10, loss: 0.7469660639762878, acc: 0.8421576619148254\n",
            "epoch: 11, loss: 0.7332887649536133, acc: 0.8429538607597351\n",
            "epoch: 12, loss: 0.7160378098487854, acc: 0.8472332954406738\n",
            "epoch: 13, loss: 0.7015784978866577, acc: 0.8505175113677979\n",
            "epoch: 14, loss: 0.6790096759796143, acc: 0.8571855425834656\n",
            "epoch: 15, loss: 0.6708673238754272, acc: 0.8618630766868591\n",
            "epoch: 16, loss: 0.6484720706939697, acc: 0.865047812461853\n",
            "epoch: 17, loss: 0.6379908919334412, acc: 0.8702229261398315\n",
            "epoch: 18, loss: 0.6150645017623901, acc: 0.8760947585105896\n",
            "epoch: 19, loss: 0.597783088684082, acc: 0.8787818551063538\n",
            "epoch: 20, loss: 0.5965864658355713, acc: 0.8791799545288086\n",
            "epoch: 21, loss: 0.5624802112579346, acc: 0.8903264403343201\n",
            "epoch: 22, loss: 0.5570060014724731, acc: 0.8903264403343201\n",
            "epoch: 23, loss: 0.5347625613212585, acc: 0.8949044942855835\n",
            "epoch: 24, loss: 0.5203940868377686, acc: 0.8982882499694824\n",
            "epoch: 25, loss: 0.5074682831764221, acc: 0.9015724658966064\n",
            "epoch: 26, loss: 0.4914686381816864, acc: 0.905752420425415\n",
            "epoch: 27, loss: 0.46477022767066956, acc: 0.9147093892097473\n",
            "epoch: 28, loss: 0.432598739862442, acc: 0.9196855425834656\n",
            "epoch: 29, loss: 0.43682175874710083, acc: 0.9201831221580505\n",
            "epoch: 30, loss: 0.42081689834594727, acc: 0.9240645170211792\n",
            "epoch: 31, loss: 0.4015364944934845, acc: 0.9267516136169434\n",
            "epoch: 32, loss: 0.4063473641872406, acc: 0.9257563948631287\n",
            "epoch: 33, loss: 0.36942940950393677, acc: 0.9359076619148254\n",
            "epoch: 34, loss: 0.36901408433914185, acc: 0.9365047812461853\n",
            "epoch: 35, loss: 0.3371886909008026, acc: 0.9442675113677979\n",
            "epoch: 36, loss: 0.33449527621269226, acc: 0.9446656107902527\n",
            "epoch: 37, loss: 0.32710519433021545, acc: 0.9448646903038025\n",
            "epoch: 38, loss: 0.30131322145462036, acc: 0.9528264403343201\n",
            "epoch: 39, loss: 0.2894989550113678, acc: 0.956011176109314\n",
            "epoch: 40, loss: 0.28692394495010376, acc: 0.9552149772644043\n",
            "epoch: 41, loss: 0.27651360630989075, acc: 0.9569068551063538\n",
            "epoch: 42, loss: 0.2481844276189804, acc: 0.9635748267173767\n",
            "epoch: 43, loss: 0.24493570625782013, acc: 0.9650676846504211\n",
            "epoch: 44, loss: 0.232486292719841, acc: 0.9673566818237305\n",
            "epoch: 45, loss: 0.22228436172008514, acc: 0.9701433181762695\n",
            "epoch: 46, loss: 0.20783278346061707, acc: 0.9740247130393982\n",
            "epoch: 47, loss: 0.1970958411693573, acc: 0.9757165908813477\n",
            "epoch: 48, loss: 0.19606919586658478, acc: 0.9756170511245728\n",
            "epoch: 49, loss: 0.18410930037498474, acc: 0.9774084687232971\n",
            "epoch: 50, loss: 0.19293718039989471, acc: 0.974721372127533\n",
            "epoch: 51, loss: 0.18023249506950378, acc: 0.977707028388977\n",
            "epoch: 52, loss: 0.15775316953659058, acc: 0.9830812215805054\n",
            "epoch: 53, loss: 0.1610639989376068, acc: 0.9824841022491455\n",
            "epoch: 54, loss: 0.14943096041679382, acc: 0.9845740795135498\n",
            "epoch: 55, loss: 0.14032283425331116, acc: 0.9862659573554993\n",
            "epoch: 56, loss: 0.13407133519649506, acc: 0.986962616443634\n",
            "epoch: 57, loss: 0.12468435615301132, acc: 0.9882563948631287\n",
            "epoch: 58, loss: 0.12880074977874756, acc: 0.9877587556838989\n",
            "epoch: 59, loss: 0.11381775140762329, acc: 0.9912420511245728\n",
            "epoch: 60, loss: 0.11149796843528748, acc: 0.9906449317932129\n",
            "epoch: 61, loss: 0.10967610776424408, acc: 0.9899482727050781\n",
            "epoch: 62, loss: 0.11321708559989929, acc: 0.9894506335258484\n",
            "epoch: 63, loss: 0.09945506602525711, acc: 0.9928343892097473\n",
            "epoch: 64, loss: 0.0945301353931427, acc: 0.9928343892097473\n",
            "epoch: 65, loss: 0.09547824412584305, acc: 0.9918391704559326\n",
            "epoch: 66, loss: 0.09623126685619354, acc: 0.9921377301216125\n",
            "epoch: 67, loss: 0.08744294941425323, acc: 0.993829607963562\n",
            "epoch: 68, loss: 0.08034835010766983, acc: 0.9943272471427917\n",
            "epoch: 69, loss: 0.08046677708625793, acc: 0.9946258068084717\n",
            "epoch: 70, loss: 0.07651971280574799, acc: 0.9952229261398315\n",
            "epoch: 71, loss: 0.0759352371096611, acc: 0.9958201050758362\n",
            "epoch: 72, loss: 0.07058161497116089, acc: 0.9956210255622864\n",
            "epoch: 73, loss: 0.06952429562807083, acc: 0.996516764163971\n",
            "epoch: 74, loss: 0.0665108785033226, acc: 0.9968153238296509\n",
            "epoch: 75, loss: 0.06567232310771942, acc: 0.9968153238296509\n",
            "epoch: 76, loss: 0.061030007898807526, acc: 0.9979100227355957\n",
            "epoch: 77, loss: 0.060254208743572235, acc: 0.9968153238296509\n",
            "epoch: 78, loss: 0.05886312946677208, acc: 0.9974124431610107\n",
            "epoch: 79, loss: 0.05672510340809822, acc: 0.9973129034042358\n",
            "epoch: 80, loss: 0.05679034814238548, acc: 0.9973129034042358\n",
            "epoch: 81, loss: 0.05190342292189598, acc: 0.9980095624923706\n",
            "epoch: 82, loss: 0.053063325583934784, acc: 0.9973129034042358\n",
            "epoch: 83, loss: 0.04941532388329506, acc: 0.9986066818237305\n",
            "epoch: 84, loss: 0.05006606504321098, acc: 0.9980095624923706\n",
            "epoch: 85, loss: 0.04962506890296936, acc: 0.9983081221580505\n",
            "epoch: 86, loss: 0.05542777106165886, acc: 0.9958201050758362\n",
            "epoch: 87, loss: 0.04491748288273811, acc: 0.9987062215805054\n",
            "epoch: 88, loss: 0.043182190507650375, acc: 0.9984076619148254\n",
            "epoch: 89, loss: 0.04214648902416229, acc: 0.9989052414894104\n",
            "epoch: 90, loss: 0.04182538762688637, acc: 0.9988057613372803\n",
            "epoch: 91, loss: 0.04017100855708122, acc: 0.9991043210029602\n",
            "epoch: 92, loss: 0.039918359369039536, acc: 0.9986066818237305\n",
            "epoch: 93, loss: 0.03851745277643204, acc: 0.9986066818237305\n",
            "epoch: 94, loss: 0.0372852124273777, acc: 0.9991043210029602\n",
            "epoch: 95, loss: 0.04460723698139191, acc: 0.9970143437385559\n",
            "epoch: 96, loss: 0.035078391432762146, acc: 0.9990047812461853\n",
            "epoch: 97, loss: 0.03397666662931442, acc: 0.9994028806686401\n",
            "epoch: 98, loss: 0.034057676792144775, acc: 0.9991043210029602\n",
            "epoch: 99, loss: 0.03381980210542679, acc: 0.9993033409118652\n",
            "CPU times: user 24 s, sys: 888 ms, total: 24.9 s\n",
            "Wall time: 25.1 s\n"
          ],
          "name": "stdout"
        }
      ]
    },
    {
      "cell_type": "code",
      "metadata": {
        "colab": {
          "base_uri": "https://localhost:8080/",
          "height": 515
        },
        "id": "JnIvw4mu2mCc",
        "outputId": "bacc8452-797c-45ba-a747-8737847bf64f"
      },
      "source": [
        "fig, ax = plt.subplots(figsize=(20,10), ncols=2)\n",
        "ax[0].plot(losses)\n",
        "ax[0].grid()\n",
        "ax[1].plot(accs)\n",
        "ax[1].grid()\n",
        "ax[1].set_ylim([0,1])\n",
        ";"
      ],
      "execution_count": 55,
      "outputs": [
        {
          "output_type": "execute_result",
          "data": {
            "application/vnd.google.colaboratory.intrinsic+json": {
              "type": "string"
            },
            "text/plain": [
              "''"
            ]
          },
          "metadata": {
            "tags": []
          },
          "execution_count": 55
        },
        {
          "output_type": "display_data",
          "data": {
            "image/png": "[encoded data removed]",
            "text/plain": [
              "<Figure size 1440x720 with 2 Axes>"
            ]
          },
          "metadata": {
            "tags": [],
            "needs_background": "light"
          }
        }
      ]
    },
    {
      "cell_type": "code",
      "metadata": {
        "colab": {
          "base_uri": "https://localhost:8080/"
        },
        "id": "i6fcsX5oPjeJ",
        "outputId": "50a8f9e7-24d3-4238-db38-707929b25812"
      },
      "source": [
        "train_loader = torch.utils.data.DataLoader(cifar2, batch_size=64,\n",
        "                                           shuffle=False)\n",
        "\n",
        "correct = 0\n",
        "total = 0\n",
        "\n",
        "with torch.no_grad():\n",
        "    for imgs, labels in train_loader:\n",
        "        outputs = model(imgs.view(imgs.shape[0], -1).to('cuda'))\n",
        "        _, predicted = torch.max(outputs, dim=1)\n",
        "        total += labels.shape[0]\n",
        "        correct += int((predicted == labels.to('cuda')).sum())\n",
        "        \n",
        "print(\"Accuracy: %f\" % (correct / total))"
      ],
      "execution_count": 56,
      "outputs": [
        {
          "output_type": "stream",
          "text": [
            "Accuracy: 0.999800\n"
          ],
          "name": "stdout"
        }
      ]
    },
    {
      "cell_type": "code",
      "metadata": {
        "colab": {
          "base_uri": "https://localhost:8080/"
        },
        "id": "fwAtwCxVPjeK",
        "outputId": "72953e7b-36fd-4423-e063-049ba55a9ecc"
      },
      "source": [
        "val_loader = torch.utils.data.DataLoader(cifar2_val, batch_size=64,\n",
        "                                         shuffle=False)\n",
        "\n",
        "correct = 0\n",
        "total = 0\n",
        "\n",
        "with torch.no_grad():\n",
        "    for imgs, labels in val_loader:\n",
        "        outputs = model(imgs.view(imgs.shape[0], -1).to('cuda'))\n",
        "        _, predicted = torch.max(outputs, dim=1)\n",
        "        total += labels.shape[0]\n",
        "        correct += int((predicted == labels.to('cuda')).sum())\n",
        "        \n",
        "print(\"Accuracy: %f\" % (correct / total))"
      ],
      "execution_count": 57,
      "outputs": [
        {
          "output_type": "stream",
          "text": [
            "Accuracy: 0.813500\n"
          ],
          "name": "stdout"
        }
      ]
    },
    {
      "cell_type": "code",
      "metadata": {
        "id": "1JGSG0hNPjeK"
      },
      "source": [
        "# 階層を一つ深くした\n",
        "model = nn.Sequential(\n",
        "            nn.Linear(3072, 1024),\n",
        "            nn.Tanh(),\n",
        "            nn.Linear(1024, 512),\n",
        "            nn.Tanh(),\n",
        "            nn.Linear(512, 128),\n",
        "            nn.Tanh(),\n",
        "            nn.Linear(128, 2),\n",
        "            nn.LogSoftmax(dim=1))\n",
        "\n",
        "loss_fn = nn.NLLLoss()"
      ],
      "execution_count": 58,
      "outputs": []
    },
    {
      "cell_type": "code",
      "metadata": {
        "id": "x2TlHEnKPjeL"
      },
      "source": [
        "# 線形層出力 + nn.CrossEntropyLoss()  ==  LogSoftmax()出力 + nn.NLLLoss()\n",
        "# 書き方が簡単になるが、softmax値である予測確率を取り出せなくなるため注意\n",
        "model = nn.Sequential(\n",
        "            nn.Linear(3072, 1024),\n",
        "            nn.Tanh(),\n",
        "            nn.Linear(1024, 512),\n",
        "            nn.Tanh(),\n",
        "            nn.Linear(512, 128),\n",
        "            nn.Tanh(),\n",
        "            nn.Linear(128, 2))\n",
        "\n",
        "loss_fn = nn.CrossEntropyLoss()"
      ],
      "execution_count": 59,
      "outputs": []
    },
    {
      "cell_type": "code",
      "metadata": {
        "colab": {
          "base_uri": "https://localhost:8080/"
        },
        "id": "gz9ZNLm5PjeL",
        "outputId": "9388218f-7efb-4fb9-d6a9-60e01e91143b"
      },
      "source": [
        "import torch\n",
        "import torch.nn as nn\n",
        "import torch.optim as optim\n",
        "\n",
        "train_loader = torch.utils.data.DataLoader(cifar2, batch_size=64,\n",
        "                                           shuffle=True)\n",
        "\n",
        "model = nn.Sequential(\n",
        "            nn.Linear(3072, 1024),\n",
        "            nn.Tanh(),\n",
        "            nn.Linear(1024, 512),\n",
        "            nn.Tanh(),\n",
        "            nn.Linear(512, 128),\n",
        "            nn.Tanh(),\n",
        "            nn.Linear(128, 2))\n",
        "\n",
        "model.to('cuda')\n",
        "\n",
        "learning_rate = 1e-2\n",
        "\n",
        "optimizer = optim.SGD(model.parameters(), lr=learning_rate)\n",
        "\n",
        "loss_fn = nn.CrossEntropyLoss()\n",
        "\n",
        "n_epochs = 100\n",
        "\n",
        "losses = []\n",
        "accs = []\n",
        "\n",
        "for epoch in range(n_epochs):\n",
        "    \n",
        "    running_loss = 0.0\n",
        "    running_acc = 0.0\n",
        "    \n",
        "    for imgs, labels in train_loader:\n",
        "\n",
        "        imgs_gpu = imgs.view(imgs.shape[0], -1).to('cuda')\n",
        "        labels_gpu = torch.tensor(labels).to('cuda')\n",
        "\n",
        "\n",
        "        out = model(imgs_gpu)\n",
        "        loss = loss_fn(out, labels_gpu)\n",
        "\n",
        "        running_loss += loss.item() # .item()で値を取り出してrunning_lossに足す\n",
        "        pred = torch.argmax(out, dim=1) # outputには各分類ラベルに対するスコアが入っているだけの状態なので、最高スコアを取り出す。そのラベルが予測値となる。\n",
        "        running_acc += torch.mean(pred.eq(labels_gpu).float()) # predとラベルが一致した率を計算\n",
        "\n",
        "        running_loss += loss\n",
        "\n",
        "        optimizer.zero_grad()\n",
        "        loss.backward()\n",
        "        optimizer.step()\n",
        "\n",
        "\n",
        "    running_loss /= len(train_loader) # 損失値の平均\n",
        "    running_acc /= len(train_loader) # Accuracyの平均\n",
        "    losses.append(running_loss) # このエポックでのロスをリストに追加\n",
        "    accs.append(running_acc) # このエポックでのaccuracyをリストに追加\n",
        "    print(\"epoch: {}, loss: {}, acc: {}\".format(epoch, running_loss, running_acc))"
      ],
      "execution_count": 60,
      "outputs": [
        {
          "output_type": "stream",
          "text": [
            "/usr/local/lib/python3.7/dist-packages/ipykernel_launcher.py:38: UserWarning: To copy construct from a tensor, it is recommended to use sourceTensor.clone().detach() or sourceTensor.clone().detach().requires_grad_(True), rather than torch.tensor(sourceTensor).\n"
          ],
          "name": "stderr"
        },
        {
          "output_type": "stream",
          "text": [
            "epoch: 0, loss: 1.0686873197555542, acc: 0.7522889971733093\n",
            "epoch: 1, loss: 0.965146005153656, acc: 0.7865247130393982\n",
            "epoch: 2, loss: 0.9313876628875732, acc: 0.7926951050758362\n",
            "epoch: 3, loss: 0.9089221358299255, acc: 0.7974721193313599\n",
            "epoch: 4, loss: 0.8867025375366211, acc: 0.8029458522796631\n",
            "epoch: 5, loss: 0.8715624809265137, acc: 0.8067277073860168\n",
            "epoch: 6, loss: 0.8502001166343689, acc: 0.8128980994224548\n",
            "epoch: 7, loss: 0.8361421227455139, acc: 0.8161823153495789\n",
            "epoch: 8, loss: 0.8215336799621582, acc: 0.8240445852279663\n",
            "epoch: 9, loss: 0.8073435425758362, acc: 0.825039803981781\n",
            "epoch: 10, loss: 0.7891348004341125, acc: 0.8296178579330444\n",
            "epoch: 11, loss: 0.7760486006736755, acc: 0.8352906107902527\n",
            "epoch: 12, loss: 0.7568254470825195, acc: 0.8366839289665222\n",
            "epoch: 13, loss: 0.7413906455039978, acc: 0.8378781676292419\n",
            "epoch: 14, loss: 0.7313490509986877, acc: 0.8429538607597351\n",
            "epoch: 15, loss: 0.7196580767631531, acc: 0.8439490795135498\n",
            "epoch: 16, loss: 0.7101576328277588, acc: 0.8520103693008423\n",
            "epoch: 17, loss: 0.6923211216926575, acc: 0.8522093892097473\n",
            "epoch: 18, loss: 0.6814966201782227, acc: 0.8555931448936462\n",
            "epoch: 19, loss: 0.652117133140564, acc: 0.8649482727050781\n",
            "epoch: 20, loss: 0.6477844715118408, acc: 0.8645501732826233\n",
            "epoch: 21, loss: 0.6163167357444763, acc: 0.8740047812461853\n",
            "epoch: 22, loss: 0.6106579303741455, acc: 0.874800980091095\n",
            "epoch: 23, loss: 0.5966842770576477, acc: 0.880971372127533\n",
            "epoch: 24, loss: 0.5644328594207764, acc: 0.8845541477203369\n",
            "epoch: 25, loss: 0.5446617603302002, acc: 0.8896297812461853\n",
            "epoch: 26, loss: 0.5409798622131348, acc: 0.8943073153495789\n",
            "epoch: 27, loss: 0.5001499652862549, acc: 0.9032643437385559\n",
            "epoch: 28, loss: 0.5090447664260864, acc: 0.8983877301216125\n",
            "epoch: 29, loss: 0.46296820044517517, acc: 0.9099323153495789\n",
            "epoch: 30, loss: 0.471221387386322, acc: 0.9065485596656799\n",
            "epoch: 31, loss: 0.4378805458545685, acc: 0.9128184914588928\n",
            "epoch: 32, loss: 0.4363737106323242, acc: 0.9151074886322021\n",
            "epoch: 33, loss: 0.41672483086586, acc: 0.9223726391792297\n",
            "epoch: 34, loss: 0.37838464975357056, acc: 0.931329607963562\n",
            "epoch: 35, loss: 0.3757576644420624, acc: 0.928045392036438\n",
            "epoch: 36, loss: 0.3391711115837097, acc: 0.9381966590881348\n",
            "epoch: 37, loss: 0.32436129450798035, acc: 0.9408837556838989\n",
            "epoch: 38, loss: 0.3027544617652893, acc: 0.9456608295440674\n",
            "epoch: 39, loss: 0.3076646625995636, acc: 0.9446656107902527\n",
            "epoch: 40, loss: 0.2806343734264374, acc: 0.9550159573554993\n",
            "epoch: 41, loss: 0.28061696887016296, acc: 0.9475517868995667\n",
            "epoch: 42, loss: 0.21255473792552948, acc: 0.9631767868995667\n",
            "epoch: 43, loss: 0.23109354078769684, acc: 0.9628782272338867\n",
            "epoch: 44, loss: 0.2369435578584671, acc: 0.959494411945343\n",
            "epoch: 45, loss: 0.2559516727924347, acc: 0.9608877301216125\n",
            "epoch: 46, loss: 0.1896030157804489, acc: 0.9693471193313599\n",
            "epoch: 47, loss: 0.19041790068149567, acc: 0.9707404375076294\n",
            "epoch: 48, loss: 0.150376558303833, acc: 0.974422812461853\n",
            "epoch: 49, loss: 0.16643700003623962, acc: 0.9734275341033936\n",
            "epoch: 50, loss: 0.10423704236745834, acc: 0.9835788607597351\n",
            "epoch: 51, loss: 0.14670172333717346, acc: 0.9793989062309265\n",
            "epoch: 52, loss: 0.1221432164311409, acc: 0.9839769005775452\n",
            "epoch: 53, loss: 0.09329761564731598, acc: 0.9861664175987244\n",
            "epoch: 54, loss: 0.21315182745456696, acc: 0.9756170511245728\n",
            "epoch: 55, loss: 0.21070808172225952, acc: 0.9769108295440674\n",
            "epoch: 56, loss: 0.12369030714035034, acc: 0.9832802414894104\n",
            "epoch: 57, loss: 0.09678640961647034, acc: 0.986962616443634\n",
            "epoch: 58, loss: 0.05882702395319939, acc: 0.9929339289665222\n",
            "epoch: 59, loss: 0.10111209750175476, acc: 0.9879578351974487\n",
            "epoch: 60, loss: 0.060512226074934006, acc: 0.9919387102127075\n",
            "epoch: 61, loss: 0.15810039639472961, acc: 0.983877420425415\n",
            "epoch: 62, loss: 0.054936572909355164, acc: 0.9923368096351624\n",
            "epoch: 63, loss: 0.035183120518922806, acc: 0.9954220056533813\n",
            "epoch: 64, loss: 0.09724101424217224, acc: 0.9902468323707581\n",
            "epoch: 65, loss: 0.07973290234804153, acc: 0.9888535141944885\n",
            "epoch: 66, loss: 0.02671618014574051, acc: 0.9977110028266907\n",
            "epoch: 67, loss: 0.07699521631002426, acc: 0.9909434914588928\n",
            "epoch: 68, loss: 0.029360689222812653, acc: 0.996914803981781\n",
            "epoch: 69, loss: 0.020228926092386246, acc: 0.9980095624923706\n",
            "epoch: 70, loss: 0.01742178574204445, acc: 0.9986066818237305\n",
            "epoch: 71, loss: 0.0420667938888073, acc: 0.9954220056533813\n",
            "epoch: 72, loss: 0.1639743447303772, acc: 0.981289803981781\n",
            "epoch: 73, loss: 0.021591592580080032, acc: 0.9981091022491455\n",
            "epoch: 74, loss: 0.015972411260008812, acc: 0.9987062215805054\n",
            "epoch: 75, loss: 0.011946788057684898, acc: 0.999502420425415\n",
            "epoch: 76, loss: 0.01215024758130312, acc: 0.9989052414894104\n",
            "epoch: 77, loss: 0.17662681639194489, acc: 0.9858678579330444\n",
            "epoch: 78, loss: 0.04006492346525192, acc: 0.9957205653190613\n",
            "epoch: 79, loss: 0.013384933583438396, acc: 0.9992038607597351\n",
            "epoch: 80, loss: 0.011541339568793774, acc: 0.9996019005775452\n",
            "epoch: 81, loss: 0.01018807664513588, acc: 0.9993033409118652\n",
            "epoch: 82, loss: 0.012758820317685604, acc: 0.9988057613372803\n",
            "epoch: 83, loss: 0.008838827721774578, acc: 0.9993033409118652\n",
            "epoch: 84, loss: 0.009638238698244095, acc: 0.9993033409118652\n",
            "epoch: 85, loss: 0.0778510719537735, acc: 0.9926353693008423\n",
            "epoch: 86, loss: 0.035624321550130844, acc: 0.9959195852279663\n",
            "epoch: 87, loss: 0.00798835325986147, acc: 0.999800980091095\n",
            "epoch: 88, loss: 0.006118823308497667, acc: 0.999800980091095\n",
            "epoch: 89, loss: 0.009451953694224358, acc: 0.9989052414894104\n",
            "epoch: 90, loss: 0.007434036582708359, acc: 0.9993033409118652\n",
            "epoch: 91, loss: 0.005467370618134737, acc: 0.9997014403343201\n",
            "epoch: 92, loss: 0.004153738263994455, acc: 0.9999005198478699\n",
            "epoch: 93, loss: 0.003792175557464361, acc: 1.0\n",
            "epoch: 94, loss: 0.007066025398671627, acc: 0.9991043210029602\n",
            "epoch: 95, loss: 0.21647274494171143, acc: 0.9788017868995667\n",
            "epoch: 96, loss: 0.01118017639964819, acc: 0.999502420425415\n",
            "epoch: 97, loss: 0.007427669130265713, acc: 0.999502420425415\n",
            "epoch: 98, loss: 0.006040683947503567, acc: 0.999800980091095\n",
            "epoch: 99, loss: 0.004604834597557783, acc: 0.9999005198478699\n"
          ],
          "name": "stdout"
        }
      ]
    },
    {
      "cell_type": "code",
      "metadata": {
        "colab": {
          "base_uri": "https://localhost:8080/",
          "height": 515
        },
        "id": "TMqSF9Ui7l9g",
        "outputId": "ac81a555-328a-4881-b86f-48b3f0e43d26"
      },
      "source": [
        "fig, ax = plt.subplots(figsize=(20,10), ncols=2)\n",
        "ax[0].plot(losses)\n",
        "ax[0].grid()\n",
        "ax[1].plot(accs)\n",
        "ax[1].grid()\n",
        "ax[1].set_ylim([0,1])\n",
        ";"
      ],
      "execution_count": 61,
      "outputs": [
        {
          "output_type": "execute_result",
          "data": {
            "application/vnd.google.colaboratory.intrinsic+json": {
              "type": "string"
            },
            "text/plain": [
              "''"
            ]
          },
          "metadata": {
            "tags": []
          },
          "execution_count": 61
        },
        {
          "output_type": "display_data",
          "data": {
            "image/png": "[encoded data removed]",
            "text/plain": [
              "<Figure size 1440x720 with 2 Axes>"
            ]
          },
          "metadata": {
            "tags": [],
            "needs_background": "light"
          }
        }
      ]
    },
    {
      "cell_type": "code",
      "metadata": {
        "colab": {
          "base_uri": "https://localhost:8080/"
        },
        "id": "YoXSZ-kmPjeL",
        "outputId": "a60eeb7f-284f-4617-e101-30208a9c4a34"
      },
      "source": [
        "# 訓練誤差は殆ど無し\n",
        "train_loader = torch.utils.data.DataLoader(cifar2, batch_size=64,\n",
        "                                           shuffle=False)\n",
        "\n",
        "correct = 0\n",
        "total = 0\n",
        "\n",
        "with torch.no_grad():\n",
        "    for imgs, labels in train_loader:\n",
        "        outputs = model(imgs.view(imgs.shape[0], -1).to('cuda'))\n",
        "        _, predicted = torch.max(outputs, dim=1)\n",
        "        total += labels.shape[0]\n",
        "        correct += int((predicted == labels.to('cuda')).sum())\n",
        "        \n",
        "print(\"Accuracy: %f\" % (correct / total))"
      ],
      "execution_count": 62,
      "outputs": [
        {
          "output_type": "stream",
          "text": [
            "Accuracy: 1.000000\n"
          ],
          "name": "stdout"
        }
      ]
    },
    {
      "cell_type": "code",
      "metadata": {
        "colab": {
          "base_uri": "https://localhost:8080/"
        },
        "id": "T5RE8ps_PjeM",
        "outputId": "7e60bc9a-d2b1-4172-cd99-8e8cffd3c7e5"
      },
      "source": [
        "# 検証誤差は結構ある\n",
        "val_loader = torch.utils.data.DataLoader(cifar2_val, batch_size=64,\n",
        "                                         shuffle=False)\n",
        "\n",
        "correct = 0\n",
        "total = 0\n",
        "\n",
        "with torch.no_grad():\n",
        "    for imgs, labels in val_loader:\n",
        "        outputs = model(imgs.view(imgs.shape[0], -1).to('cuda'))\n",
        "        _, predicted = torch.max(outputs, dim=1)\n",
        "        total += labels.shape[0]\n",
        "        correct += int((predicted == labels.to('cuda')).sum())\n",
        "        \n",
        "print(\"Accuracy: %f\" % (correct / total))"
      ],
      "execution_count": 63,
      "outputs": [
        {
          "output_type": "stream",
          "text": [
            "Accuracy: 0.813500\n"
          ],
          "name": "stdout"
        }
      ]
    },
    {
      "cell_type": "code",
      "metadata": {
        "colab": {
          "base_uri": "https://localhost:8080/",
          "height": 181
        },
        "id": "M-2TpRoH82hp",
        "outputId": "f84481bf-146a-4da2-b7e9-7f0ac9fede39"
      },
      "source": [
        "# parameters()はlen()不可\n",
        "len(model.parameters())"
      ],
      "execution_count": 64,
      "outputs": [
        {
          "output_type": "error",
          "ename": "TypeError",
          "evalue": "ignored",
          "traceback": [
            "\u001b[0;31m---------------------------------------------------------------------------\u001b[0m",
            "\u001b[0;31mTypeError\u001b[0m                                 Traceback (most recent call last)",
            "\u001b[0;32m<ipython-input-64-068a88203c79>\u001b[0m in \u001b[0;36m<module>\u001b[0;34m()\u001b[0m\n\u001b[1;32m      1\u001b[0m \u001b[0;31m# parameters()はlen()不可\u001b[0m\u001b[0;34m\u001b[0m\u001b[0;34m\u001b[0m\u001b[0;34m\u001b[0m\u001b[0m\n\u001b[0;32m----> 2\u001b[0;31m \u001b[0mlen\u001b[0m\u001b[0;34m(\u001b[0m\u001b[0mmodel\u001b[0m\u001b[0;34m.\u001b[0m\u001b[0mparameters\u001b[0m\u001b[0;34m(\u001b[0m\u001b[0;34m)\u001b[0m\u001b[0;34m)\u001b[0m\u001b[0;34m\u001b[0m\u001b[0;34m\u001b[0m\u001b[0m\n\u001b[0m",
            "\u001b[0;31mTypeError\u001b[0m: object of type 'generator' has no len()"
          ]
        }
      ]
    },
    {
      "cell_type": "code",
      "metadata": {
        "colab": {
          "base_uri": "https://localhost:8080/"
        },
        "id": "TeuRTI6tPjeN",
        "outputId": "a839a936-b3eb-48f7-f189-556ad35155a3"
      },
      "source": [
        "# 直近モデルだと370万パラメータ\n",
        "sum([p.numel() for p in model.parameters()])"
      ],
      "execution_count": 65,
      "outputs": [
        {
          "output_type": "execute_result",
          "data": {
            "text/plain": [
              "3737474"
            ]
          },
          "metadata": {
            "tags": []
          },
          "execution_count": 65
        }
      ]
    },
    {
      "cell_type": "code",
      "metadata": {
        "colab": {
          "base_uri": "https://localhost:8080/"
        },
        "id": "xCQGN0YIPjeO",
        "outputId": "a563ef2f-f72b-4bb1-be07-f718b49154a4"
      },
      "source": [
        "sum([p.numel() for p in model.parameters() if p.requires_grad == True])"
      ],
      "execution_count": 66,
      "outputs": [
        {
          "output_type": "execute_result",
          "data": {
            "text/plain": [
              "3737474"
            ]
          },
          "metadata": {
            "tags": []
          },
          "execution_count": 66
        }
      ]
    },
    {
      "cell_type": "code",
      "metadata": {
        "colab": {
          "base_uri": "https://localhost:8080/"
        },
        "id": "jYWxb5cMPjeO",
        "outputId": "80a03ce6-fc38-4758-d467-51fce27a4d59"
      },
      "source": [
        "# 最初のモデルだと150万パラメータ\n",
        "first_model = nn.Sequential(\n",
        "                nn.Linear(3072, 512),\n",
        "                nn.Tanh(),\n",
        "                nn.Linear(512, 2),\n",
        "                nn.LogSoftmax(dim=1))\n",
        "\n",
        "sum([p.numel() for p in first_model.parameters()])"
      ],
      "execution_count": 67,
      "outputs": [
        {
          "output_type": "execute_result",
          "data": {
            "text/plain": [
              "1574402"
            ]
          },
          "metadata": {
            "tags": []
          },
          "execution_count": 67
        }
      ]
    },
    {
      "cell_type": "code",
      "metadata": {
        "colab": {
          "base_uri": "https://localhost:8080/"
        },
        "id": "Fd2OYZg8PjeO",
        "outputId": "2bc88b2d-d58b-4838-b8e5-fa9751892a64"
      },
      "source": [
        "# 最初の層がほとんどのパラメータ数を占める\n",
        "sum([p.numel() for p in nn.Linear(3072, 512).parameters()])"
      ],
      "execution_count": 68,
      "outputs": [
        {
          "output_type": "execute_result",
          "data": {
            "text/plain": [
              "1573376"
            ]
          },
          "metadata": {
            "tags": []
          },
          "execution_count": 68
        }
      ]
    },
    {
      "cell_type": "code",
      "metadata": {
        "colab": {
          "base_uri": "https://localhost:8080/"
        },
        "id": "oaqUNeYDPjeO",
        "outputId": "cc2beebd-4a61-4996-bc46-72fd6d0ae403"
      },
      "source": [
        "sum([p.numel() for p in nn.Linear(3072, 1024).parameters()])"
      ],
      "execution_count": 69,
      "outputs": [
        {
          "output_type": "execute_result",
          "data": {
            "text/plain": [
              "3146752"
            ]
          },
          "metadata": {
            "tags": []
          },
          "execution_count": 69
        }
      ]
    },
    {
      "cell_type": "code",
      "metadata": {
        "colab": {
          "base_uri": "https://localhost:8080/"
        },
        "id": "cobHE65y-TLZ",
        "outputId": "37293672-277a-482a-96c1-1fdb5dbd93ff"
      },
      "source": [
        "# 1024 x 1024の画像などはGPUメモリ的にキツくなる\n",
        "sum([p.numel() for p in nn.Linear(1024 * 1024, 1024).parameters()])"
      ],
      "execution_count": 70,
      "outputs": [
        {
          "output_type": "execute_result",
          "data": {
            "text/plain": [
              "1073742848"
            ]
          },
          "metadata": {
            "tags": []
          },
          "execution_count": 70
        }
      ]
    },
    {
      "cell_type": "code",
      "metadata": {
        "colab": {
          "base_uri": "https://localhost:8080/"
        },
        "id": "BiTnWdrAPjeP",
        "outputId": "2a2d6a3b-fab2-4cda-866c-fb8dbea62f67"
      },
      "source": [
        "linear = nn.Linear(3072, 1024)\n",
        "\n",
        "linear.weight.shape, linear.bias.shape"
      ],
      "execution_count": 71,
      "outputs": [
        {
          "output_type": "execute_result",
          "data": {
            "text/plain": [
              "(torch.Size([1024, 3072]), torch.Size([1024]))"
            ]
          },
          "metadata": {
            "tags": []
          },
          "execution_count": 71
        }
      ]
    },
    {
      "cell_type": "markdown",
      "metadata": {
        "id": "F_q8SEiiH-aM"
      },
      "source": [
        "# 畳込み"
      ]
    },
    {
      "cell_type": "code",
      "metadata": {
        "id": "qktvRNxuPjeP"
      },
      "source": [
        "# nn.Conv2d: 畳込み層の定義。入力層、出力層、カーネルサイズ\n",
        "# RGB入力の場合は入力３、出力任意\n",
        "conv = nn.Conv2d(3, 16, kernel_size=3)"
      ],
      "execution_count": 99,
      "outputs": []
    },
    {
      "cell_type": "code",
      "metadata": {
        "colab": {
          "base_uri": "https://localhost:8080/"
        },
        "id": "YmqBe71RPjeP",
        "outputId": "46fe7c2b-8b11-4488-ca8d-60c73a516477"
      },
      "source": [
        "# カーネルサイズ（3x3）がin_channel数あり、それがout_channel数ある\n",
        "conv.weight.shape"
      ],
      "execution_count": 100,
      "outputs": [
        {
          "output_type": "execute_result",
          "data": {
            "text/plain": [
              "torch.Size([16, 3, 3, 3])"
            ]
          },
          "metadata": {
            "tags": []
          },
          "execution_count": 100
        }
      ]
    },
    {
      "cell_type": "code",
      "metadata": {
        "colab": {
          "base_uri": "https://localhost:8080/"
        },
        "id": "dbsCmqEXPjeQ",
        "outputId": "ee4f5548-5f58-45ac-f588-cd9c958091c8"
      },
      "source": [
        "conv.bias.shape"
      ],
      "execution_count": 101,
      "outputs": [
        {
          "output_type": "execute_result",
          "data": {
            "text/plain": [
              "torch.Size([16])"
            ]
          },
          "metadata": {
            "tags": []
          },
          "execution_count": 101
        }
      ]
    },
    {
      "cell_type": "code",
      "metadata": {
        "colab": {
          "base_uri": "https://localhost:8080/"
        },
        "id": "FMbvLcSSPjeQ",
        "outputId": "b3eaf134-1f73-4c7c-e5e1-10481d2a4072"
      },
      "source": [
        "# 初期パラメータでConv層を通してみる\n",
        "\n",
        "img, _ = cifar2[0]\n",
        "output = conv(img.unsqueeze(0)) # 畳込み\n",
        "img.unsqueeze(0).shape, output.shape"
      ],
      "execution_count": 102,
      "outputs": [
        {
          "output_type": "execute_result",
          "data": {
            "text/plain": [
              "(torch.Size([1, 3, 32, 32]), torch.Size([1, 16, 30, 30]))"
            ]
          },
          "metadata": {
            "tags": []
          },
          "execution_count": 102
        }
      ]
    },
    {
      "cell_type": "code",
      "metadata": {
        "colab": {
          "base_uri": "https://localhost:8080/",
          "height": 283
        },
        "id": "4vki1XA8PjeQ",
        "outputId": "a6a14fe1-fb10-4f20-ddc2-b32924efac77"
      },
      "source": [
        "plt.imshow(img.permute(1, 2, 0), cmap='gray')\n",
        "plt.show()"
      ],
      "execution_count": 103,
      "outputs": [
        {
          "output_type": "stream",
          "text": [
            "Clipping input data to the valid range for imshow with RGB data ([0..1] for floats or [0..255] for integers).\n"
          ],
          "name": "stderr"
        },
        {
          "output_type": "display_data",
          "data": {
            "image/png": "[encoded data removed]",
            "text/plain": [
              "<Figure size 432x288 with 1 Axes>"
            ]
          },
          "metadata": {
            "tags": [],
            "needs_background": "light"
          }
        }
      ]
    },
    {
      "cell_type": "code",
      "metadata": {
        "colab": {
          "base_uri": "https://localhost:8080/",
          "height": 594
        },
        "id": "Z9i0u9j_PjeQ",
        "outputId": "d42c9b41-fddf-4f98-b85e-dbf7e73f3e4c"
      },
      "source": [
        "# カーネルを通過した16のout画像\n",
        "nrows = 4\n",
        "ncols = 4\n",
        "fig, ax = plt.subplots(figsize=(10,10), nrows=nrows, ncols=ncols)\n",
        "for i, im in enumerate(output[0].detach()):\n",
        "    row = i // ncols\n",
        "    col = i % ncols\n",
        "    ax[row,col].imshow(im, 'gray')\n",
        "# plt.imshow(output[0, 0].detach(), cmap='gray')\n",
        "# plt.show()"
      ],
      "execution_count": 104,
      "outputs": [
        {
          "output_type": "display_data",
          "data": {
            "image/png": "[encoded data removed]",
            "text/plain": [
              "<Figure size 720x720 with 16 Axes>"
            ]
          },
          "metadata": {
            "tags": [],
            "needs_background": "light"
          }
        }
      ]
    },
    {
      "cell_type": "code",
      "metadata": {
        "colab": {
          "base_uri": "https://localhost:8080/"
        },
        "id": "Y9jfU_akPjeR",
        "outputId": "91a027ad-e408-4acb-8b36-bb41f5e67c19"
      },
      "source": [
        "output.shape"
      ],
      "execution_count": 87,
      "outputs": [
        {
          "output_type": "execute_result",
          "data": {
            "text/plain": [
              "torch.Size([1, 16, 30, 30])"
            ]
          },
          "metadata": {
            "tags": []
          },
          "execution_count": 87
        }
      ]
    },
    {
      "cell_type": "code",
      "metadata": {
        "id": "GhRJxfk_PjeR"
      },
      "source": [
        "# 32 x 32 -> 30 x 30 になってしまっているのでpaddingを入れる\n",
        "conv = nn.Conv2d(3, 1, kernel_size=3, padding=1)"
      ],
      "execution_count": 88,
      "outputs": []
    },
    {
      "cell_type": "code",
      "metadata": {
        "colab": {
          "base_uri": "https://localhost:8080/"
        },
        "id": "9v4G6lHdPjeR",
        "outputId": "26bad62c-b05c-4c17-8817-afcf97f61674"
      },
      "source": [
        "output = conv(img.unsqueeze(0))\n",
        "\n",
        "output.shape"
      ],
      "execution_count": 89,
      "outputs": [
        {
          "output_type": "execute_result",
          "data": {
            "text/plain": [
              "torch.Size([1, 1, 32, 32])"
            ]
          },
          "metadata": {
            "tags": []
          },
          "execution_count": 89
        }
      ]
    },
    {
      "cell_type": "code",
      "metadata": {
        "colab": {
          "base_uri": "https://localhost:8080/",
          "height": 594
        },
        "id": "oSaXW9kUPjeR",
        "outputId": "eb7aed6f-6c14-4a3d-c3d5-14411107bd34"
      },
      "source": [
        "# 手動で全カーネル値が1/9のaverage filterにしてみる\n",
        "conv2 = nn.Conv2d(3, 16, kernel_size=3, padding=1)\n",
        "\n",
        "with torch.no_grad():\n",
        "    conv2.bias.zero_()\n",
        "\n",
        "with torch.no_grad():\n",
        "    conv2.weight.fill_(1.0 / 9.0)\n",
        "\n",
        "img, _ = cifar2[0]\n",
        "output = conv2(img.unsqueeze(0))\n",
        "nrows = 4\n",
        "ncols = 4\n",
        "fig, ax = plt.subplots(figsize=(10,10), nrows=nrows, ncols=ncols)\n",
        "for i, im in enumerate(output[0].detach()):\n",
        "    row = i // ncols\n",
        "    col = i % ncols\n",
        "    ax[row,col].imshow(im, 'gray')\n",
        "# 全て同じ、average filterがかかった画像になる"
      ],
      "execution_count": 106,
      "outputs": [
        {
          "output_type": "display_data",
          "data": {
            "image/png": "[encoded data removed]",
            "text/plain": [
              "<Figure size 720x720 with 16 Axes>"
            ]
          },
          "metadata": {
            "tags": [],
            "needs_background": "light"
          }
        }
      ]
    },
    {
      "cell_type": "code",
      "metadata": {
        "id": "1EgoaGIlPjeS"
      },
      "source": [
        "# エッジフィルター\n",
        "conv3 = nn.Conv2d(3, 1, kernel_size=3, padding=1)\n",
        "\n",
        "with torch.no_grad():\n",
        "    conv3.weight[:] = torch.tensor([[-1.0, 0.0, 1.0],\n",
        "                                   [-1.0, 0.0, 1.0],\n",
        "                                   [-1.0, 0.0, 1.0]])\n",
        "    conv3.bias.zero_()"
      ],
      "execution_count": 107,
      "outputs": []
    },
    {
      "cell_type": "code",
      "metadata": {
        "colab": {
          "base_uri": "https://localhost:8080/",
          "height": 266
        },
        "id": "h2-Ozve8PjeS",
        "outputId": "4cb19f22-5843-45dd-f0f1-3d3aa9c4f3e2"
      },
      "source": [
        "output = conv3(img.unsqueeze(0))\n",
        "plt.imshow(output[0, 0].detach(), cmap='gray')\n",
        "plt.show()"
      ],
      "execution_count": 108,
      "outputs": [
        {
          "output_type": "display_data",
          "data": {
            "image/png": "[encoded data removed]",
            "text/plain": [
              "<Figure size 432x288 with 1 Axes>"
            ]
          },
          "metadata": {
            "tags": [],
            "needs_background": "light"
          }
        }
      ]
    },
    {
      "cell_type": "code",
      "metadata": {
        "id": "whB40l69PjeS"
      },
      "source": [
        "# pooling\n",
        "pool = nn.MaxPool2d(2)"
      ],
      "execution_count": 109,
      "outputs": []
    },
    {
      "cell_type": "code",
      "metadata": {
        "colab": {
          "base_uri": "https://localhost:8080/"
        },
        "id": "AwO9CkjrPjeS",
        "outputId": "bedf9271-99f6-4b7c-a628-2890d40d48b5"
      },
      "source": [
        "# pool層を通すとサイズが落ちる\n",
        "output = pool(img.unsqueeze(0))\n",
        "print(img.unsqueeze(0).shape)\n",
        "print(output.shape)"
      ],
      "execution_count": 111,
      "outputs": [
        {
          "output_type": "stream",
          "text": [
            "torch.Size([1, 3, 32, 32])\n",
            "torch.Size([1, 3, 16, 16])\n"
          ],
          "name": "stdout"
        }
      ]
    },
    {
      "cell_type": "code",
      "metadata": {
        "id": "6m57x8LRPjeS"
      },
      "source": [
        "model = nn.Sequential(\n",
        "            nn.Conv2d(3, 16, kernel_size=3, padding=1),\n",
        "            nn.Tanh(),\n",
        "            nn.MaxPool2d(2),\n",
        "            nn.Conv2d(16, 8, kernel_size=3, padding=1),\n",
        "            nn.Tanh(),\n",
        "            nn.MaxPool2d(2),\n",
        "            #...\n",
        "            )"
      ],
      "execution_count": 112,
      "outputs": []
    },
    {
      "cell_type": "code",
      "metadata": {
        "id": "gTM0HgJKPjeT"
      },
      "source": [
        "model = nn.Sequential(\n",
        "            nn.Conv2d(3, 16, kernel_size=3, padding=1),\n",
        "            nn.Tanh(),\n",
        "            nn.MaxPool2d(2),\n",
        "            nn.Conv2d(16, 8, kernel_size=3, padding=1),\n",
        "            nn.Tanh(),\n",
        "            nn.MaxPool2d(2),\n",
        "            # WARNING: something missing here\n",
        "            nn.Linear(512, 32),\n",
        "            nn.Tanh(),\n",
        "            nn.Linear(32, 2))"
      ],
      "execution_count": 113,
      "outputs": []
    },
    {
      "cell_type": "code",
      "metadata": {
        "colab": {
          "base_uri": "https://localhost:8080/"
        },
        "id": "n9Dz8K1JPjeT",
        "outputId": "524453f9-e844-47f8-8784-5049049ddfb1"
      },
      "source": [
        "numel_list = [p.numel() for p in model.parameters()]\n",
        "sum(numel_list), numel_list"
      ],
      "execution_count": 116,
      "outputs": [
        {
          "output_type": "execute_result",
          "data": {
            "text/plain": [
              "(18090, [432, 16, 1152, 8, 16384, 32, 64, 2])"
            ]
          },
          "metadata": {
            "tags": []
          },
          "execution_count": 116
        }
      ]
    },
    {
      "cell_type": "code",
      "metadata": {
        "colab": {
          "base_uri": "https://localhost:8080/",
          "height": 324
        },
        "id": "_gym9yMJPjeT",
        "outputId": "fd84922d-a5b7-4826-b53a-f9085cf51706"
      },
      "source": [
        "# 線形層への入力が1次元のベクトルになっていないためエラー\n",
        "model(img.unsqueeze(0))"
      ],
      "execution_count": 117,
      "outputs": [
        {
          "output_type": "error",
          "ename": "RuntimeError",
          "evalue": "ignored",
          "traceback": [
            "\u001b[0;31m---------------------------------------------------------------------------\u001b[0m",
            "\u001b[0;31mRuntimeError\u001b[0m                              Traceback (most recent call last)",
            "\u001b[0;32m<ipython-input-117-4b8ce9298354>\u001b[0m in \u001b[0;36m<module>\u001b[0;34m()\u001b[0m\n\u001b[1;32m      1\u001b[0m \u001b[0;31m# 線形層への入力が1次元のベクトルになっていないためエラー\u001b[0m\u001b[0;34m\u001b[0m\u001b[0;34m\u001b[0m\u001b[0;34m\u001b[0m\u001b[0m\n\u001b[0;32m----> 2\u001b[0;31m \u001b[0mmodel\u001b[0m\u001b[0;34m(\u001b[0m\u001b[0mimg\u001b[0m\u001b[0;34m.\u001b[0m\u001b[0munsqueeze\u001b[0m\u001b[0;34m(\u001b[0m\u001b[0;36m0\u001b[0m\u001b[0;34m)\u001b[0m\u001b[0;34m)\u001b[0m\u001b[0;34m\u001b[0m\u001b[0;34m\u001b[0m\u001b[0m\n\u001b[0m",
            "\u001b[0;32m/usr/local/lib/python3.7/dist-packages/torch/nn/modules/module.py\u001b[0m in \u001b[0;36m_call_impl\u001b[0;34m(self, *input, **kwargs)\u001b[0m\n\u001b[1;32m    887\u001b[0m             \u001b[0mresult\u001b[0m \u001b[0;34m=\u001b[0m \u001b[0mself\u001b[0m\u001b[0;34m.\u001b[0m\u001b[0m_slow_forward\u001b[0m\u001b[0;34m(\u001b[0m\u001b[0;34m*\u001b[0m\u001b[0minput\u001b[0m\u001b[0;34m,\u001b[0m \u001b[0;34m**\u001b[0m\u001b[0mkwargs\u001b[0m\u001b[0;34m)\u001b[0m\u001b[0;34m\u001b[0m\u001b[0;34m\u001b[0m\u001b[0m\n\u001b[1;32m    888\u001b[0m         \u001b[0;32melse\u001b[0m\u001b[0;34m:\u001b[0m\u001b[0;34m\u001b[0m\u001b[0;34m\u001b[0m\u001b[0m\n\u001b[0;32m--> 889\u001b[0;31m             \u001b[0mresult\u001b[0m \u001b[0;34m=\u001b[0m \u001b[0mself\u001b[0m\u001b[0;34m.\u001b[0m\u001b[0mforward\u001b[0m\u001b[0;34m(\u001b[0m\u001b[0;34m*\u001b[0m\u001b[0minput\u001b[0m\u001b[0;34m,\u001b[0m \u001b[0;34m**\u001b[0m\u001b[0mkwargs\u001b[0m\u001b[0;34m)\u001b[0m\u001b[0;34m\u001b[0m\u001b[0;34m\u001b[0m\u001b[0m\n\u001b[0m\u001b[1;32m    890\u001b[0m         for hook in itertools.chain(\n\u001b[1;32m    891\u001b[0m                 \u001b[0m_global_forward_hooks\u001b[0m\u001b[0;34m.\u001b[0m\u001b[0mvalues\u001b[0m\u001b[0;34m(\u001b[0m\u001b[0;34m)\u001b[0m\u001b[0;34m,\u001b[0m\u001b[0;34m\u001b[0m\u001b[0;34m\u001b[0m\u001b[0m\n",
            "\u001b[0;32m/usr/local/lib/python3.7/dist-packages/torch/nn/modules/container.py\u001b[0m in \u001b[0;36mforward\u001b[0;34m(self, input)\u001b[0m\n\u001b[1;32m    117\u001b[0m     \u001b[0;32mdef\u001b[0m \u001b[0mforward\u001b[0m\u001b[0;34m(\u001b[0m\u001b[0mself\u001b[0m\u001b[0;34m,\u001b[0m \u001b[0minput\u001b[0m\u001b[0;34m)\u001b[0m\u001b[0;34m:\u001b[0m\u001b[0;34m\u001b[0m\u001b[0;34m\u001b[0m\u001b[0m\n\u001b[1;32m    118\u001b[0m         \u001b[0;32mfor\u001b[0m \u001b[0mmodule\u001b[0m \u001b[0;32min\u001b[0m \u001b[0mself\u001b[0m\u001b[0;34m:\u001b[0m\u001b[0;34m\u001b[0m\u001b[0;34m\u001b[0m\u001b[0m\n\u001b[0;32m--> 119\u001b[0;31m             \u001b[0minput\u001b[0m \u001b[0;34m=\u001b[0m \u001b[0mmodule\u001b[0m\u001b[0;34m(\u001b[0m\u001b[0minput\u001b[0m\u001b[0;34m)\u001b[0m\u001b[0;34m\u001b[0m\u001b[0;34m\u001b[0m\u001b[0m\n\u001b[0m\u001b[1;32m    120\u001b[0m         \u001b[0;32mreturn\u001b[0m \u001b[0minput\u001b[0m\u001b[0;34m\u001b[0m\u001b[0;34m\u001b[0m\u001b[0m\n\u001b[1;32m    121\u001b[0m \u001b[0;34m\u001b[0m\u001b[0m\n",
            "\u001b[0;32m/usr/local/lib/python3.7/dist-packages/torch/nn/modules/module.py\u001b[0m in \u001b[0;36m_call_impl\u001b[0;34m(self, *input, **kwargs)\u001b[0m\n\u001b[1;32m    887\u001b[0m             \u001b[0mresult\u001b[0m \u001b[0;34m=\u001b[0m \u001b[0mself\u001b[0m\u001b[0;34m.\u001b[0m\u001b[0m_slow_forward\u001b[0m\u001b[0;34m(\u001b[0m\u001b[0;34m*\u001b[0m\u001b[0minput\u001b[0m\u001b[0;34m,\u001b[0m \u001b[0;34m**\u001b[0m\u001b[0mkwargs\u001b[0m\u001b[0;34m)\u001b[0m\u001b[0;34m\u001b[0m\u001b[0;34m\u001b[0m\u001b[0m\n\u001b[1;32m    888\u001b[0m         \u001b[0;32melse\u001b[0m\u001b[0;34m:\u001b[0m\u001b[0;34m\u001b[0m\u001b[0;34m\u001b[0m\u001b[0m\n\u001b[0;32m--> 889\u001b[0;31m             \u001b[0mresult\u001b[0m \u001b[0;34m=\u001b[0m \u001b[0mself\u001b[0m\u001b[0;34m.\u001b[0m\u001b[0mforward\u001b[0m\u001b[0;34m(\u001b[0m\u001b[0;34m*\u001b[0m\u001b[0minput\u001b[0m\u001b[0;34m,\u001b[0m \u001b[0;34m**\u001b[0m\u001b[0mkwargs\u001b[0m\u001b[0;34m)\u001b[0m\u001b[0;34m\u001b[0m\u001b[0;34m\u001b[0m\u001b[0m\n\u001b[0m\u001b[1;32m    890\u001b[0m         for hook in itertools.chain(\n\u001b[1;32m    891\u001b[0m                 \u001b[0m_global_forward_hooks\u001b[0m\u001b[0;34m.\u001b[0m\u001b[0mvalues\u001b[0m\u001b[0;34m(\u001b[0m\u001b[0;34m)\u001b[0m\u001b[0;34m,\u001b[0m\u001b[0;34m\u001b[0m\u001b[0;34m\u001b[0m\u001b[0m\n",
            "\u001b[0;32m/usr/local/lib/python3.7/dist-packages/torch/nn/modules/linear.py\u001b[0m in \u001b[0;36mforward\u001b[0;34m(self, input)\u001b[0m\n\u001b[1;32m     92\u001b[0m \u001b[0;34m\u001b[0m\u001b[0m\n\u001b[1;32m     93\u001b[0m     \u001b[0;32mdef\u001b[0m \u001b[0mforward\u001b[0m\u001b[0;34m(\u001b[0m\u001b[0mself\u001b[0m\u001b[0;34m,\u001b[0m \u001b[0minput\u001b[0m\u001b[0;34m:\u001b[0m \u001b[0mTensor\u001b[0m\u001b[0;34m)\u001b[0m \u001b[0;34m->\u001b[0m \u001b[0mTensor\u001b[0m\u001b[0;34m:\u001b[0m\u001b[0;34m\u001b[0m\u001b[0;34m\u001b[0m\u001b[0m\n\u001b[0;32m---> 94\u001b[0;31m         \u001b[0;32mreturn\u001b[0m \u001b[0mF\u001b[0m\u001b[0;34m.\u001b[0m\u001b[0mlinear\u001b[0m\u001b[0;34m(\u001b[0m\u001b[0minput\u001b[0m\u001b[0;34m,\u001b[0m \u001b[0mself\u001b[0m\u001b[0;34m.\u001b[0m\u001b[0mweight\u001b[0m\u001b[0;34m,\u001b[0m \u001b[0mself\u001b[0m\u001b[0;34m.\u001b[0m\u001b[0mbias\u001b[0m\u001b[0;34m)\u001b[0m\u001b[0;34m\u001b[0m\u001b[0;34m\u001b[0m\u001b[0m\n\u001b[0m\u001b[1;32m     95\u001b[0m \u001b[0;34m\u001b[0m\u001b[0m\n\u001b[1;32m     96\u001b[0m     \u001b[0;32mdef\u001b[0m \u001b[0mextra_repr\u001b[0m\u001b[0;34m(\u001b[0m\u001b[0mself\u001b[0m\u001b[0;34m)\u001b[0m \u001b[0;34m->\u001b[0m \u001b[0mstr\u001b[0m\u001b[0;34m:\u001b[0m\u001b[0;34m\u001b[0m\u001b[0;34m\u001b[0m\u001b[0m\n",
            "\u001b[0;32m/usr/local/lib/python3.7/dist-packages/torch/nn/functional.py\u001b[0m in \u001b[0;36mlinear\u001b[0;34m(input, weight, bias)\u001b[0m\n\u001b[1;32m   1751\u001b[0m     \u001b[0;32mif\u001b[0m \u001b[0mhas_torch_function_variadic\u001b[0m\u001b[0;34m(\u001b[0m\u001b[0minput\u001b[0m\u001b[0;34m,\u001b[0m \u001b[0mweight\u001b[0m\u001b[0;34m)\u001b[0m\u001b[0;34m:\u001b[0m\u001b[0;34m\u001b[0m\u001b[0;34m\u001b[0m\u001b[0m\n\u001b[1;32m   1752\u001b[0m         \u001b[0;32mreturn\u001b[0m \u001b[0mhandle_torch_function\u001b[0m\u001b[0;34m(\u001b[0m\u001b[0mlinear\u001b[0m\u001b[0;34m,\u001b[0m \u001b[0;34m(\u001b[0m\u001b[0minput\u001b[0m\u001b[0;34m,\u001b[0m \u001b[0mweight\u001b[0m\u001b[0;34m)\u001b[0m\u001b[0;34m,\u001b[0m \u001b[0minput\u001b[0m\u001b[0;34m,\u001b[0m \u001b[0mweight\u001b[0m\u001b[0;34m,\u001b[0m \u001b[0mbias\u001b[0m\u001b[0;34m=\u001b[0m\u001b[0mbias\u001b[0m\u001b[0;34m)\u001b[0m\u001b[0;34m\u001b[0m\u001b[0;34m\u001b[0m\u001b[0m\n\u001b[0;32m-> 1753\u001b[0;31m     \u001b[0;32mreturn\u001b[0m \u001b[0mtorch\u001b[0m\u001b[0;34m.\u001b[0m\u001b[0m_C\u001b[0m\u001b[0;34m.\u001b[0m\u001b[0m_nn\u001b[0m\u001b[0;34m.\u001b[0m\u001b[0mlinear\u001b[0m\u001b[0;34m(\u001b[0m\u001b[0minput\u001b[0m\u001b[0;34m,\u001b[0m \u001b[0mweight\u001b[0m\u001b[0;34m,\u001b[0m \u001b[0mbias\u001b[0m\u001b[0;34m)\u001b[0m\u001b[0;34m\u001b[0m\u001b[0;34m\u001b[0m\u001b[0m\n\u001b[0m\u001b[1;32m   1754\u001b[0m \u001b[0;34m\u001b[0m\u001b[0m\n\u001b[1;32m   1755\u001b[0m \u001b[0;34m\u001b[0m\u001b[0m\n",
            "\u001b[0;31mRuntimeError\u001b[0m: mat1 and mat2 shapes cannot be multiplied (64x8 and 512x32)"
          ]
        }
      ]
    },
    {
      "cell_type": "code",
      "metadata": {
        "id": "w-2JRMxWPjeT"
      },
      "source": [
        "class Net(nn.Module):\n",
        "    def __init__(self):\n",
        "        super(Net, self).__init__() # お決まり\n",
        "        # モデルに使う層の定義\n",
        "        self.conv1 = nn.Conv2d(3, 16, kernel_size=3, padding=1)\n",
        "        self.act1 = nn.Tanh()\n",
        "        self.pool1 = nn.MaxPool2d(2)\n",
        "        self.conv2 = nn.Conv2d(16, 8, kernel_size=3, padding=1)\n",
        "        self.act2 = nn.Tanh()\n",
        "        self.pool2 = nn.MaxPool2d(2)\n",
        "        self.fc1 = nn.Linear(8 * 8 * 8, 32)\n",
        "        self.act4 = nn.Tanh()\n",
        "        self.fc2 = nn.Linear(32, 2)\n",
        "\n",
        "    def forward(self, x):\n",
        "        # initで定義した層を並べて実行\n",
        "        out = self.pool1(self.act1(self.conv1(x)))\n",
        "        out = self.pool2(self.act2(self.conv2(out)))\n",
        "        out = out.view(-1, 8 * 8 * 8)\n",
        "        out = self.act4(self.fc1(out))\n",
        "        out = self.fc2(out)\n",
        "        return out"
      ],
      "execution_count": 118,
      "outputs": []
    },
    {
      "cell_type": "code",
      "metadata": {
        "colab": {
          "base_uri": "https://localhost:8080/"
        },
        "id": "5oYfoP8CPjeT",
        "outputId": "54bc26b1-2765-4cea-a29a-ed5ea794b2a8"
      },
      "source": [
        "model = Net()\n",
        "\n",
        "sum([p.numel() for p in model.parameters()])"
      ],
      "execution_count": 119,
      "outputs": [
        {
          "output_type": "execute_result",
          "data": {
            "text/plain": [
              "18090"
            ]
          },
          "metadata": {
            "tags": []
          },
          "execution_count": 119
        }
      ]
    },
    {
      "cell_type": "code",
      "metadata": {
        "id": "bAO8Rhw9PjeT"
      },
      "source": [
        "import torch.nn.functional as F\n",
        "\n",
        "class Net(nn.Module):\n",
        "    def __init__(self):\n",
        "        super(Net, self).__init__()\n",
        "        self.conv1 = nn.Conv2d(3, 16, kernel_size=3, padding=1)\n",
        "        self.conv2 = nn.Conv2d(16, 8, kernel_size=3, padding=1)\n",
        "        self.fc1 = nn.Linear(8 * 8 * 8, 32)\n",
        "        self.fc2 = nn.Linear(32, 2)\n",
        "        \n",
        "    def forward(self, x):\n",
        "        out = F.max_pool2d(torch.tanh(self.conv1(x)), 2)\n",
        "        out = F.max_pool2d(torch.tanh(self.conv2(out)), 2)\n",
        "        out = out.view(-1, 8 * 8 * 8)\n",
        "        out = torch.tanh(self.fc1(out))\n",
        "        out = self.fc2(out)\n",
        "        return out"
      ],
      "execution_count": null,
      "outputs": []
    },
    {
      "cell_type": "code",
      "metadata": {
        "id": "jeKC-2SQPjeT"
      },
      "source": [
        "model = Net()\n",
        "model(img.unsqueeze(0))"
      ],
      "execution_count": null,
      "outputs": []
    },
    {
      "cell_type": "code",
      "metadata": {
        "id": "Xl4R4YNFPjeT"
      },
      "source": [
        "import torch\n",
        "import torch.nn as nn\n",
        "import torch.nn.functional as F\n",
        "\n",
        "train_loader = torch.utils.data.DataLoader(cifar2, batch_size=64,\n",
        "                                           shuffle=True)\n",
        "\n",
        "class Net(nn.Module):\n",
        "    def __init__(self):\n",
        "        super(Net, self).__init__()\n",
        "        self.conv1 = nn.Conv2d(3, 16, kernel_size=3, padding=1)\n",
        "        self.conv2 = nn.Conv2d(16, 8, kernel_size=3, padding=1)\n",
        "        self.fc1 = nn.Linear(8 * 8 * 8, 32)\n",
        "        self.fc2 = nn.Linear(32, 2)\n",
        "        \n",
        "    def forward(self, x):\n",
        "        out = F.max_pool2d(torch.relu(self.conv1(x)), 2)\n",
        "        out = F.max_pool2d(torch.relu(self.conv2(out)), 2)\n",
        "        out = out.view(-1, 8 * 8 * 8)\n",
        "        out = torch.tanh(self.fc1(out))\n",
        "        out = self.fc2(out)\n",
        "        return out\n",
        "    \n",
        "model = Net()\n",
        "\n",
        "learning_rate = 1e-2\n",
        "\n",
        "optimizer = optim.SGD(model.parameters(), lr=learning_rate)\n",
        "\n",
        "loss_fn = nn.CrossEntropyLoss()\n",
        "\n",
        "n_epochs = 100\n",
        "\n",
        "for epoch in range(n_epochs):\n",
        "    for imgs, labels in train_loader:\n",
        "        outputs = model(imgs)\n",
        "        loss = loss_fn(outputs, labels)\n",
        "                \n",
        "        optimizer.zero_grad()\n",
        "        loss.backward()\n",
        "        optimizer.step()\n",
        "\n",
        "    print(\"Epoch: %d, Loss: %f\" % (epoch, float(loss)))"
      ],
      "execution_count": null,
      "outputs": []
    },
    {
      "cell_type": "code",
      "metadata": {
        "id": "dBVjnlf9PjeU"
      },
      "source": [
        "train_loader = torch.utils.data.DataLoader(cifar2, batch_size=64,\n",
        "                                           shuffle=False)\n",
        "\n",
        "correct = 0\n",
        "total = 0\n",
        "\n",
        "with torch.no_grad():\n",
        "    for imgs, labels in train_loader:\n",
        "        outputs = model(imgs)\n",
        "        _, predicted = torch.max(outputs, dim=1)\n",
        "        total += labels.shape[0]\n",
        "        correct += int((predicted == labels).sum())\n",
        "        \n",
        "print(\"Accuracy: %f\" % (correct / total))"
      ],
      "execution_count": null,
      "outputs": []
    },
    {
      "cell_type": "code",
      "metadata": {
        "id": "hsk1KuzVPjeU"
      },
      "source": [
        "val_loader = torch.utils.data.DataLoader(cifar2_val, batch_size=64,\n",
        "                                         shuffle=False)\n",
        "\n",
        "correct = 0\n",
        "total = 0\n",
        "\n",
        "with torch.no_grad():\n",
        "    for imgs, labels in val_loader:\n",
        "        outputs = model(imgs)\n",
        "        _, predicted = torch.max(outputs, dim=1)\n",
        "        total += labels.shape[0]\n",
        "        correct += int((predicted == labels).sum())\n",
        "        \n",
        "print(\"Accuracy: %f\" % (correct / total))"
      ],
      "execution_count": null,
      "outputs": []
    },
    {
      "cell_type": "code",
      "metadata": {
        "id": "s2rnv1QcPjeU"
      },
      "source": [
        "import torch\n",
        "import torch.nn as nn\n",
        "import torch.nn.functional as F\n",
        "\n",
        "class Net(nn.Module):\n",
        "    def __init__(self):\n",
        "        super(Net, self).__init__()\n",
        "        self.conv1 = nn.Conv2d(3, 16, kernel_size=3, padding=1)\n",
        "        self.conv2 = nn.Conv2d(16, 8, kernel_size=3, padding=1)\n",
        "        self.fc1 = nn.Linear(8 * 8 * 8, 32)\n",
        "        self.fc2 = nn.Linear(32, 2)\n",
        "        \n",
        "    def forward(self, x):\n",
        "        out = F.max_pool2d(torch.relu(self.conv1(x)), 2)\n",
        "        out = F.max_pool2d(torch.relu(self.conv2(out)), 2)\n",
        "        out = out.view(-1, 8 * 8 * 8)\n",
        "        out = torch.tanh(self.fc1(out))\n",
        "        out = self.fc2(out)\n",
        "        return out\n",
        "    \n",
        "model = Net()\n",
        "sum([p.numel() for p in model.parameters()])"
      ],
      "execution_count": null,
      "outputs": []
    },
    {
      "cell_type": "code",
      "metadata": {
        "id": "qZSzdpvhPjeU"
      },
      "source": [
        "model = nn.Sequential(\n",
        "            nn.Conv2d(3, 16, kernel_size=3, padding=1),\n",
        "            nn.Tanh(),\n",
        "            nn.MaxPool2d(2),\n",
        "            nn.Conv2d(16, 8, kernel_size=3, padding=1),\n",
        "            nn.Tanh(),\n",
        "            nn.MaxPool2d(2),\n",
        "            nn.Linear(8*8*8, 32),\n",
        "            nn.Tanh(),\n",
        "            nn.Linear(32, 2))\n",
        "\n",
        "model(img.unsqueeze(0))"
      ],
      "execution_count": null,
      "outputs": []
    }
  ]
}