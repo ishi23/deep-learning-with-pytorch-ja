{
  "nbformat": 4,
  "nbformat_minor": 0,
  "metadata": {
    "kernelspec": {
      "display_name": "Python 3",
      "language": "python",
      "name": "python3"
    },
    "language_info": {
      "codemirror_mode": {
        "name": "ipython",
        "version": 3
      },
      "file_extension": ".py",
      "mimetype": "text/x-python",
      "name": "python",
      "nbconvert_exporter": "python",
      "pygments_lexer": "ipython3",
      "version": "3.7.6"
    },
    "colab": {
      "name": "2_birds_airplanes.ipynb",
      "provenance": [],
      "toc_visible": true
    },
    "accelerator": "GPU"
  },
  "cells": [
    {
      "cell_type": "markdown",
      "metadata": {
        "id": "GBk-CyKZPjdX"
      },
      "source": [
        "## 日本語版\n",
        "※ ここではGoogle Colaraboratoryでの実行を想定しています。"
      ]
    },
    {
      "cell_type": "code",
      "metadata": {
        "colab": {
          "base_uri": "https://localhost:8080/"
        },
        "id": "n1obxveoPo2w",
        "outputId": "e9dc875a-0964-4a39-bf44-c817ff9b7a29"
      },
      "source": [
        "from google.colab import drive\n",
        "drive.mount('/content/drive')"
      ],
      "execution_count": 1,
      "outputs": [
        {
          "output_type": "stream",
          "text": [
            "Mounted at /content/drive\n"
          ],
          "name": "stdout"
        }
      ]
    },
    {
      "cell_type": "code",
      "metadata": {
        "colab": {
          "base_uri": "https://localhost:8080/"
        },
        "id": "zm0kYM8tPxPr",
        "outputId": "baec14c7-46d0-446d-9722-ca6104974c78"
      },
      "source": [
        "%cd /content/drive/MyDrive/repos/deep-learning-with-pytorch-ja/p1ch7/"
      ],
      "execution_count": 2,
      "outputs": [
        {
          "output_type": "stream",
          "text": [
            "/content/drive/MyDrive/repos/deep-learning-with-pytorch-ja/p1ch7\n"
          ],
          "name": "stdout"
        }
      ]
    },
    {
      "cell_type": "code",
      "metadata": {
        "colab": {
          "base_uri": "https://localhost:8080/"
        },
        "id": "TpXH9bWrPjdm",
        "outputId": "65e5046c-2dae-4ac9-be06-cd1a1b9df00f"
      },
      "source": [
        "%matplotlib inline\n",
        "from matplotlib import pyplot as plt\n",
        "import numpy as np\n",
        "import torch\n",
        "\n",
        "torch.set_printoptions(edgeitems=2)\n",
        "torch.manual_seed(123)"
      ],
      "execution_count": 3,
      "outputs": [
        {
          "output_type": "execute_result",
          "data": {
            "text/plain": [
              "<torch._C.Generator at 0x7fe32d70fbf0>"
            ]
          },
          "metadata": {
            "tags": []
          },
          "execution_count": 3
        }
      ]
    },
    {
      "cell_type": "code",
      "metadata": {
        "id": "Gj50MgRkhNvJ",
        "outputId": "19b4bc40-a737-4286-cf04-778736a8c584",
        "colab": {
          "base_uri": "https://localhost:8080/"
        }
      },
      "source": [
        "torch.cuda.is_available()"
      ],
      "execution_count": 4,
      "outputs": [
        {
          "output_type": "execute_result",
          "data": {
            "text/plain": [
              "True"
            ]
          },
          "metadata": {
            "tags": []
          },
          "execution_count": 4
        }
      ]
    },
    {
      "cell_type": "code",
      "metadata": {
        "id": "tFiknz6oh1L6",
        "outputId": "70a01625-d125-4fe5-fafd-1b9463b78da1",
        "colab": {
          "base_uri": "https://localhost:8080/",
          "height": 37
        }
      },
      "source": [
        "torch.cuda.get_device_name()"
      ],
      "execution_count": 6,
      "outputs": [
        {
          "output_type": "execute_result",
          "data": {
            "application/vnd.google.colaboratory.intrinsic+json": {
              "type": "string"
            },
            "text/plain": [
              "'Tesla K80'"
            ]
          },
          "metadata": {
            "tags": []
          },
          "execution_count": 6
        }
      ]
    },
    {
      "cell_type": "code",
      "metadata": {
        "id": "GFU1KBgih_SP",
        "outputId": "43e83850-72cf-496b-d986-bd3306e8589a",
        "colab": {
          "base_uri": "https://localhost:8080/"
        }
      },
      "source": [
        "torch.cuda.get_device_capability()"
      ],
      "execution_count": 8,
      "outputs": [
        {
          "output_type": "execute_result",
          "data": {
            "text/plain": [
              "(3, 7)"
            ]
          },
          "metadata": {
            "tags": []
          },
          "execution_count": 8
        }
      ]
    },
    {
      "cell_type": "code",
      "metadata": {
        "id": "FOUzxbQLiVRI",
        "outputId": "4a277516-7aeb-4097-8874-94ed142f921c",
        "colab": {
          "base_uri": "https://localhost:8080/"
        }
      },
      "source": [
        "tensor_sample = torch.Tensor([1, 2])\n",
        "tensor_sample"
      ],
      "execution_count": 13,
      "outputs": [
        {
          "output_type": "execute_result",
          "data": {
            "text/plain": [
              "tensor([1., 2.])"
            ]
          },
          "metadata": {
            "tags": []
          },
          "execution_count": 13
        }
      ]
    },
    {
      "cell_type": "code",
      "metadata": {
        "id": "IyDgxJWoip0N",
        "outputId": "d543048c-56a0-4a1e-a80a-ef349feed08f",
        "colab": {
          "base_uri": "https://localhost:8080/"
        }
      },
      "source": [
        "tensor_sample.device"
      ],
      "execution_count": 14,
      "outputs": [
        {
          "output_type": "execute_result",
          "data": {
            "text/plain": [
              "device(type='cpu')"
            ]
          },
          "metadata": {
            "tags": []
          },
          "execution_count": 14
        }
      ]
    },
    {
      "cell_type": "code",
      "metadata": {
        "id": "QD_V9UZQitXo",
        "outputId": "9c400d84-a3f4-4fb1-fb54-7ceccfde0df2",
        "colab": {
          "base_uri": "https://localhost:8080/"
        }
      },
      "source": [
        "tensor_sample.to('cuda').device"
      ],
      "execution_count": 16,
      "outputs": [
        {
          "output_type": "execute_result",
          "data": {
            "text/plain": [
              "device(type='cuda', index=0)"
            ]
          },
          "metadata": {
            "tags": []
          },
          "execution_count": 16
        }
      ]
    },
    {
      "cell_type": "markdown",
      "metadata": {
        "id": "XTyf1d0CQB8C"
      },
      "source": [
        "## 前項の前処理"
      ]
    },
    {
      "cell_type": "markdown",
      "metadata": {
        "id": "GVnu0bhpQBkp"
      },
      "source": [
        ""
      ]
    },
    {
      "cell_type": "code",
      "metadata": {
        "id": "Q95YFOlHPjdp"
      },
      "source": [
        "class_names = ['airplane','automobile','bird','cat','deer',\n",
        "               'dog','frog','horse','ship','truck']"
      ],
      "execution_count": 17,
      "outputs": []
    },
    {
      "cell_type": "code",
      "metadata": {
        "id": "YRwu8aWrPjdq"
      },
      "source": [
        "from torchvision import datasets, transforms\n",
        "data_path = '../data-unversioned/p1ch7/'\n",
        "cifar10 = datasets.CIFAR10(\n",
        "    data_path, train=True, download=False,\n",
        "    transform=transforms.Compose([\n",
        "        transforms.ToTensor(),\n",
        "        transforms.Normalize((0.4915, 0.4823, 0.4468),\n",
        "                             (0.2470, 0.2435, 0.2616))\n",
        "    ]))"
      ],
      "execution_count": 18,
      "outputs": []
    },
    {
      "cell_type": "code",
      "metadata": {
        "id": "rr0WD70QPjdr"
      },
      "source": [
        "cifar10_val = datasets.CIFAR10(\n",
        "    data_path, train=False, download=False,\n",
        "    transform=transforms.Compose([\n",
        "        transforms.ToTensor(),\n",
        "        transforms.Normalize((0.4915, 0.4823, 0.4468),\n",
        "                             (0.2470, 0.2435, 0.2616))\n",
        "    ]))"
      ],
      "execution_count": 19,
      "outputs": []
    },
    {
      "cell_type": "markdown",
      "metadata": {
        "id": "ikYOWwu9R3QK"
      },
      "source": [
        "## airplane と bird のみを抽出してモデリング"
      ]
    },
    {
      "cell_type": "code",
      "metadata": {
        "id": "_B7m4u8qPjdr"
      },
      "source": [
        "# ラベルの再定義\n",
        "label_map = {0: 0, 2: 1}\n",
        "class_names = ['airplane', 'bird']\n",
        "\n",
        "# （今回の場合は）\n",
        "# __len__と__getitem__があれば良いのでDatasetオブジェクトではなくリストで対応可能\n",
        "cifar2 = [(img, label_map[label])\n",
        "          for img, label in cifar10 \n",
        "          if label in [0, 2]]\n",
        "cifar2_val = [(img, label_map[label])\n",
        "              for img, label in cifar10_val\n",
        "              if label in [0, 2]]"
      ],
      "execution_count": 20,
      "outputs": []
    },
    {
      "cell_type": "code",
      "metadata": {
        "id": "AW5ALHb4Pjds"
      },
      "source": [
        "# 単純にモデルを組んでみる\n",
        "import torch.nn as nn\n",
        "\n",
        "n_out = 2\n",
        "\n",
        "model = nn.Sequential(\n",
        "            nn.Linear(\n",
        "                3072,  # 3 x 32 x 32\n",
        "                512,   # 任意\n",
        "            ),\n",
        "            nn.Tanh(),\n",
        "            nn.Linear(\n",
        "                512,   # 一つ前に出力層数\n",
        "                n_out, # 2\n",
        "            )\n",
        "        )\n",
        "# n_outには[0]と[1]それぞれに対するスコアがはいる"
      ],
      "execution_count": 21,
      "outputs": []
    },
    {
      "cell_type": "code",
      "metadata": {
        "id": "XKHQ9NZEPjdt"
      },
      "source": [
        "# softmax関数は各スコアのベクトルを確率に変換する機能を持つ\n",
        "# exp()を用いるのはexp()が単調増加関数であり、正負に惑わされないためである\n",
        "# 但し、これを「確率」とする妥当性については、必ずしも妥当とは言えない可能性がある。\n",
        "def softmax(x):\n",
        "    return torch.exp(x) / torch.exp(x).sum()"
      ],
      "execution_count": 22,
      "outputs": []
    },
    {
      "cell_type": "code",
      "metadata": {
        "colab": {
          "base_uri": "https://localhost:8080/"
        },
        "id": "WdOhJr6QPjdt",
        "outputId": "3c3ad117-1da8-42ab-ebc2-531148cf8376"
      },
      "source": [
        "x = torch.tensor([1.0, 2.0, 3.0])\n",
        "\n",
        "softmax(x)"
      ],
      "execution_count": 23,
      "outputs": [
        {
          "output_type": "execute_result",
          "data": {
            "text/plain": [
              "tensor([0.0900, 0.2447, 0.6652])"
            ]
          },
          "metadata": {
            "tags": []
          },
          "execution_count": 23
        }
      ]
    },
    {
      "cell_type": "code",
      "metadata": {
        "colab": {
          "base_uri": "https://localhost:8080/"
        },
        "id": "66uh-chBPjdu",
        "outputId": "2381ce42-303c-43b9-86cf-b6e14a61ed83"
      },
      "source": [
        "softmax(x).sum()"
      ],
      "execution_count": 24,
      "outputs": [
        {
          "output_type": "execute_result",
          "data": {
            "text/plain": [
              "tensor(1.)"
            ]
          },
          "metadata": {
            "tags": []
          },
          "execution_count": 24
        }
      ]
    },
    {
      "cell_type": "code",
      "metadata": {
        "colab": {
          "base_uri": "https://localhost:8080/"
        },
        "id": "oiMQ0BQQPjdv",
        "outputId": "4336d491-0b9c-43d0-fec8-af5816498e9b"
      },
      "source": [
        "# softmax関数はnnモジュールに用意されている\n",
        "# 次元指定が必要\n",
        "softmax = nn.Softmax(dim=1)\n",
        "\n",
        "x = torch.tensor([[1.0, 2.0, 3.0],\n",
        "                  [1.0, 2.0, 3.0]])\n",
        "\n",
        "softmax(x)"
      ],
      "execution_count": 25,
      "outputs": [
        {
          "output_type": "execute_result",
          "data": {
            "text/plain": [
              "tensor([[0.0900, 0.2447, 0.6652],\n",
              "        [0.0900, 0.2447, 0.6652]])"
            ]
          },
          "metadata": {
            "tags": []
          },
          "execution_count": 25
        }
      ]
    },
    {
      "cell_type": "code",
      "metadata": {
        "id": "4Z1XCxUQPjdw"
      },
      "source": [
        "# softmaxを用いて確率を返すNNを再定義\n",
        "model = nn.Sequential(\n",
        "            nn.Linear(3072, 512),\n",
        "            nn.Tanh(),\n",
        "            nn.Linear(512, 2),\n",
        "            nn.Softmax(dim=1))"
      ],
      "execution_count": 26,
      "outputs": []
    },
    {
      "cell_type": "code",
      "metadata": {
        "colab": {
          "base_uri": "https://localhost:8080/",
          "height": 283
        },
        "id": "pbfnFsjhPjdx",
        "outputId": "a398d8fe-80c4-4cfb-aa86-ea10a439fae7"
      },
      "source": [
        "img, _ = cifar2[0]\n",
        "\n",
        "plt.imshow(img.permute(1, 2, 0))\n",
        "plt.show()"
      ],
      "execution_count": 27,
      "outputs": [
        {
          "output_type": "stream",
          "text": [
            "Clipping input data to the valid range for imshow with RGB data ([0..1] for floats or [0..255] for integers).\n"
          ],
          "name": "stderr"
        },
        {
          "output_type": "display_data",
          "data": {
            "image/png": "[encoded data removed]",
            "text/plain": [
              "<Figure size 432x288 with 1 Axes>"
            ]
          },
          "metadata": {
            "tags": [],
            "needs_background": "light"
          }
        }
      ]
    },
    {
      "cell_type": "code",
      "metadata": {
        "colab": {
          "base_uri": "https://localhost:8080/"
        },
        "id": "ZG3bZLC8Pjdy",
        "outputId": "a5328fc8-c94a-49f8-e616-5e13e596eb00"
      },
      "source": [
        "# 1枚入りのバッチを作成\n",
        "img_batch = img.view(-1).unsqueeze(0) # 1次元化と次元の挿入\n",
        "img_batch.shape"
      ],
      "execution_count": 28,
      "outputs": [
        {
          "output_type": "execute_result",
          "data": {
            "text/plain": [
              "torch.Size([1, 3072])"
            ]
          },
          "metadata": {
            "tags": []
          },
          "execution_count": 28
        }
      ]
    },
    {
      "cell_type": "code",
      "metadata": {
        "colab": {
          "base_uri": "https://localhost:8080/"
        },
        "id": "axxZ4FJfPjdy",
        "outputId": "53354982-6005-4a4a-abab-38350885ac7a"
      },
      "source": [
        "# 未学習モデルで順伝播してみる\n",
        "out = model(img_batch)\n",
        "out"
      ],
      "execution_count": 29,
      "outputs": [
        {
          "output_type": "execute_result",
          "data": {
            "text/plain": [
              "tensor([[0.4784, 0.5216]], grad_fn=<SoftmaxBackward>)"
            ]
          },
          "metadata": {
            "tags": []
          },
          "execution_count": 29
        }
      ]
    },
    {
      "cell_type": "code",
      "metadata": {
        "colab": {
          "base_uri": "https://localhost:8080/"
        },
        "id": "X9ekw9dmPjdz",
        "outputId": "ca38dcbc-2872-4c13-bf92-cca2ccfb2dea"
      },
      "source": [
        "# torch.max(tensor, dim)で値とargmaxを取得。予測結果を得る\n",
        "_, index = torch.max(out, dim=1)\n",
        "\n",
        "index"
      ],
      "execution_count": 30,
      "outputs": [
        {
          "output_type": "execute_result",
          "data": {
            "text/plain": [
              "tensor([1])"
            ]
          },
          "metadata": {
            "tags": []
          },
          "execution_count": 30
        }
      ]
    },
    {
      "cell_type": "code",
      "metadata": {
        "colab": {
          "base_uri": "https://localhost:8080/"
        },
        "id": "kv0cseWBPjd0",
        "outputId": "aad2d376-c3e4-4eed-ce01-023727d58b9d"
      },
      "source": [
        "# デモンストレーション用Output。バッチサイズ４だとする\n",
        "out = torch.tensor([\n",
        "    [0.6, 0.4],\n",
        "    [0.9, 0.1],\n",
        "    [0.3, 0.7],\n",
        "    [0.2, 0.8],\n",
        "])\n",
        "class_index = torch.tensor([0, 0, 1, 1]).unsqueeze(1)\n",
        "\n",
        "# 正解ラベルを準備。\n",
        "truth = torch.zeros((4,2))\n",
        "truth.scatter_(dim=1, index=class_index, value=1.0)\n",
        "truth"
      ],
      "execution_count": 31,
      "outputs": [
        {
          "output_type": "execute_result",
          "data": {
            "text/plain": [
              "tensor([[1., 0.],\n",
              "        [1., 0.],\n",
              "        [0., 1.],\n",
              "        [0., 1.]])"
            ]
          },
          "metadata": {
            "tags": []
          },
          "execution_count": 31
        }
      ]
    },
    {
      "cell_type": "code",
      "metadata": {
        "colab": {
          "base_uri": "https://localhost:8080/"
        },
        "id": "6qArmFyQPjd1",
        "outputId": "a154711a-688d-4858-face-6577f22c0da9"
      },
      "source": [
        "# MSEの場合\n",
        "def mse(out):\n",
        "    return ((out - truth) ** 2).sum(dim=1).mean()\n",
        "mse(out)"
      ],
      "execution_count": 32,
      "outputs": [
        {
          "output_type": "execute_result",
          "data": {
            "text/plain": [
              "tensor(0.1500)"
            ]
          },
          "metadata": {
            "tags": []
          },
          "execution_count": 32
        }
      ]
    },
    {
      "cell_type": "code",
      "metadata": {
        "id": "RQ52rGSb_QqN",
        "outputId": "21d98875-fafb-4a4a-c803-40f696c0580e",
        "colab": {
          "base_uri": "https://localhost:8080/"
        }
      },
      "source": [
        "(out - truth) ** 2"
      ],
      "execution_count": 33,
      "outputs": [
        {
          "output_type": "execute_result",
          "data": {
            "text/plain": [
              "tensor([[0.1600, 0.1600],\n",
              "        [0.0100, 0.0100],\n",
              "        [0.0900, 0.0900],\n",
              "        [0.0400, 0.0400]])"
            ]
          },
          "metadata": {
            "tags": []
          },
          "execution_count": 33
        }
      ]
    },
    {
      "cell_type": "code",
      "metadata": {
        "colab": {
          "base_uri": "https://localhost:8080/"
        },
        "id": "V8p6NJnCPjd3",
        "outputId": "1b5fe2a1-7930-4c8d-84d8-f3d791c929f4"
      },
      "source": [
        "# 正解ラベルの確率のみを抽出\n",
        "out.gather(dim=1, index=class_index)"
      ],
      "execution_count": 34,
      "outputs": [
        {
          "output_type": "execute_result",
          "data": {
            "text/plain": [
              "tensor([[0.6000],\n",
              "        [0.9000],\n",
              "        [0.7000],\n",
              "        [0.8000]])"
            ]
          },
          "metadata": {
            "tags": []
          },
          "execution_count": 34
        }
      ]
    },
    {
      "cell_type": "code",
      "metadata": {
        "id": "pXNBs39byVjT",
        "outputId": "0b2f1776-1917-421b-c262-7eac4b6dfc65",
        "colab": {
          "base_uri": "https://localhost:8080/"
        }
      },
      "source": [
        "# MSE修正\n",
        "def mse(out):\n",
        "    return ((1 - out.gather(dim=1, index=class_index)) ** 2).sum(dim=1).mean()\n",
        "mse(out)"
      ],
      "execution_count": 35,
      "outputs": [
        {
          "output_type": "execute_result",
          "data": {
            "text/plain": [
              "tensor(0.0750)"
            ]
          },
          "metadata": {
            "tags": []
          },
          "execution_count": 35
        }
      ]
    },
    {
      "cell_type": "code",
      "metadata": {
        "id": "GWtzzhjrNegZ",
        "outputId": "b4409f94-b5cf-4e7f-da0c-8ac5669129a8",
        "colab": {
          "base_uri": "https://localhost:8080/",
          "height": 315
        }
      },
      "source": [
        "# MSEの見た目\n",
        "samples = torch.Tensor([0.1 * (i+1) for i in range(10)])\n",
        "plt.plot(samples, (1 - samples) ** 2)\n",
        "plt.xlabel('value')\n",
        "plt.ylabel('MSE')\n",
        "plt.title('MSE curve')\n",
        ";"
      ],
      "execution_count": 36,
      "outputs": [
        {
          "output_type": "execute_result",
          "data": {
            "application/vnd.google.colaboratory.intrinsic+json": {
              "type": "string"
            },
            "text/plain": [
              "''"
            ]
          },
          "metadata": {
            "tags": []
          },
          "execution_count": 36
        },
        {
          "output_type": "display_data",
          "data": {
            "image/png": "[encoded data removed]",
            "text/plain": [
              "<Figure size 432x288 with 1 Axes>"
            ]
          },
          "metadata": {
            "tags": [],
            "needs_background": "light"
          }
        }
      ]
    },
    {
      "cell_type": "code",
      "metadata": {
        "colab": {
          "base_uri": "https://localhost:8080/"
        },
        "id": "VPXy1Rj7Pjd4",
        "outputId": "c644f661-6983-4b90-995c-436ec54b0f36"
      },
      "source": [
        "# MSEではなく尤度損失関数を定義\n",
        "# 各確度を掛け合わせる\n",
        "def likelihood(out):\n",
        "    prod = 1.0\n",
        "    for x in out.gather(dim=1, index=class_index):\n",
        "        prod *= x\n",
        "    return prod\n",
        "\n",
        "likelihood(out)"
      ],
      "execution_count": 37,
      "outputs": [
        {
          "output_type": "execute_result",
          "data": {
            "text/plain": [
              "tensor([0.3024])"
            ]
          },
          "metadata": {
            "tags": []
          },
          "execution_count": 37
        }
      ]
    },
    {
      "cell_type": "code",
      "metadata": {
        "colab": {
          "base_uri": "https://localhost:8080/"
        },
        "id": "XKcX7tHPPjd4",
        "outputId": "1d2699b6-7d69-41ad-d278-43d08ad3ad0b"
      },
      "source": [
        "# negative log likelihood\n",
        "# \n",
        "def neg_log_likelihood(out):\n",
        "    return -likelihood(out).log()\n",
        "\n",
        "neg_log_likelihood(out)"
      ],
      "execution_count": 38,
      "outputs": [
        {
          "output_type": "execute_result",
          "data": {
            "text/plain": [
              "tensor([1.1960])"
            ]
          },
          "metadata": {
            "tags": []
          },
          "execution_count": 38
        }
      ]
    },
    {
      "cell_type": "code",
      "metadata": {
        "id": "w8FdC9epKUoM",
        "outputId": "e8a37bd0-c6bf-4d7f-8c10-c148253fce8d",
        "colab": {
          "base_uri": "https://localhost:8080/",
          "height": 315
        }
      },
      "source": [
        "samples = torch.Tensor([0.1 * (i+1) for i in range(10)])\n",
        "plt.plot(samples, -samples.log())\n",
        "plt.xlabel('value')\n",
        "plt.ylabel('NLL LOSS')\n",
        "plt.title('NLL LOSS curve')\n",
        ";"
      ],
      "execution_count": 39,
      "outputs": [
        {
          "output_type": "execute_result",
          "data": {
            "application/vnd.google.colaboratory.intrinsic+json": {
              "type": "string"
            },
            "text/plain": [
              "''"
            ]
          },
          "metadata": {
            "tags": []
          },
          "execution_count": 39
        },
        {
          "output_type": "display_data",
          "data": {
            "image/png": "[encoded data removed]",
            "text/plain": [
              "<Figure size 432x288 with 1 Axes>"
            ]
          },
          "metadata": {
            "tags": [],
            "needs_background": "light"
          }
        }
      ]
    },
    {
      "cell_type": "code",
      "metadata": {
        "id": "vTDMt6CwzXbo",
        "outputId": "7d6cc81f-dd01-4b7d-ef98-e24ba0caa0d5",
        "colab": {
          "base_uri": "https://localhost:8080/"
        }
      },
      "source": [
        "out.clone().detach()"
      ],
      "execution_count": 40,
      "outputs": [
        {
          "output_type": "execute_result",
          "data": {
            "text/plain": [
              "tensor([[0.6000, 0.4000],\n",
              "        [0.9000, 0.1000],\n",
              "        [0.3000, 0.7000],\n",
              "        [0.2000, 0.8000]])"
            ]
          },
          "metadata": {
            "tags": []
          },
          "execution_count": 40
        }
      ]
    },
    {
      "cell_type": "code",
      "metadata": {
        "colab": {
          "base_uri": "https://localhost:8080/"
        },
        "id": "h5SQLSClPjd5",
        "outputId": "f5cd5f12-28e8-4e41-96b6-da60f83b4894"
      },
      "source": [
        "# MSEの検証\n",
        "# ズレの程度の違うoutputを準備して比べてみる。\n",
        "out0 = out.clone().detach()\n",
        "out0[0] = torch.tensor([0.9, 0.1]) # more right\n",
        "\n",
        "out2 = out.clone().detach()\n",
        "out2[0] = torch.tensor([0.4, 0.6]) # slightly wrong\n",
        "\n",
        "out3 = out.clone().detach()\n",
        "out3[0] = torch.tensor([0.1, 0.9]) # very wrong\n",
        "\n",
        "mse_comparison = torch.tensor([mse(o) for o in [out0, out, out2, out3]])\n",
        "mse_comparison\n",
        "# ズレが大きいほどロスが大きい"
      ],
      "execution_count": 41,
      "outputs": [
        {
          "output_type": "execute_result",
          "data": {
            "text/plain": [
              "tensor([0.0375, 0.0750, 0.1250, 0.2375])"
            ]
          },
          "metadata": {
            "tags": []
          },
          "execution_count": 41
        }
      ]
    },
    {
      "cell_type": "code",
      "metadata": {
        "colab": {
          "base_uri": "https://localhost:8080/"
        },
        "id": "I3U0TZwmPjd6",
        "outputId": "0a764bc0-8be5-4be8-a85f-2804863ebc2a"
      },
      "source": [
        "# %diff\n",
        "((mse_comparison / mse_comparison[1]) - 1) * 100"
      ],
      "execution_count": 42,
      "outputs": [
        {
          "output_type": "execute_result",
          "data": {
            "text/plain": [
              "tensor([-50.0000,   0.0000,  66.6667, 216.6667])"
            ]
          },
          "metadata": {
            "tags": []
          },
          "execution_count": 42
        }
      ]
    },
    {
      "cell_type": "code",
      "metadata": {
        "colab": {
          "base_uri": "https://localhost:8080/"
        },
        "id": "-H-qZeUvPjd6",
        "outputId": "ae651ced-49db-42d0-e1a9-a47d55fb9333"
      },
      "source": [
        "# NLLでもやってみる\n",
        "nll_comparison = torch.tensor([neg_log_likelihood(o) \n",
        "                               for o in [out0, out, out2, out3]])\n",
        "nll_comparison\n",
        "# 同様にずれに応じてロスが大きくなる"
      ],
      "execution_count": 43,
      "outputs": [
        {
          "output_type": "execute_result",
          "data": {
            "text/plain": [
              "tensor([0.7905, 1.1960, 1.6015, 2.9878])"
            ]
          },
          "metadata": {
            "tags": []
          },
          "execution_count": 43
        }
      ]
    },
    {
      "cell_type": "code",
      "metadata": {
        "colab": {
          "base_uri": "https://localhost:8080/"
        },
        "id": "DfDY-UssPjd7",
        "outputId": "bbb6555e-3ce3-4335-d6d1-2290f5302826"
      },
      "source": [
        "# %diff\n",
        "((nll_comparison / nll_comparison[1]) - 1) * 100"
      ],
      "execution_count": 44,
      "outputs": [
        {
          "output_type": "execute_result",
          "data": {
            "text/plain": [
              "tensor([-33.9016,   0.0000,  33.9016, 149.8121])"
            ]
          },
          "metadata": {
            "tags": []
          },
          "execution_count": 44
        }
      ]
    },
    {
      "cell_type": "code",
      "metadata": {
        "id": "6aFoMdqR8ixl"
      },
      "source": [
        "# nn.NLLLossは対数確率のテンソルを受け取る\n",
        "# そのため、Networkの最後はsoftmaxではなくLogSoftmaxを使う"
      ],
      "execution_count": 45,
      "outputs": []
    },
    {
      "cell_type": "code",
      "metadata": {
        "colab": {
          "base_uri": "https://localhost:8080/"
        },
        "id": "THJ9Kc3KPjd8",
        "outputId": "74bd69df-2651-469d-f84e-b1beeae93f95"
      },
      "source": [
        "softmax = nn.Softmax(dim=1)\n",
        "\n",
        "log_softmax = nn.LogSoftmax(dim=1)\n",
        "\n",
        "x = torch.tensor([[0.0, 104.0]])\n",
        "\n",
        "softmax(x)"
      ],
      "execution_count": 46,
      "outputs": [
        {
          "output_type": "execute_result",
          "data": {
            "text/plain": [
              "tensor([[0., 1.]])"
            ]
          },
          "metadata": {
            "tags": []
          },
          "execution_count": 46
        }
      ]
    },
    {
      "cell_type": "code",
      "metadata": {
        "id": "rJR7NDE7930n"
      },
      "source": [
        "# 検証：log(softmaxx(x))とlog_softmax(x)の違い\n",
        "# 結果：log_softmax(x)は0入力に対して無限に飛ばないようになっているっぽい\n",
        "x = torch.tensor([[0.0, 108.0]])"
      ],
      "execution_count": 47,
      "outputs": []
    },
    {
      "cell_type": "code",
      "metadata": {
        "id": "BtDBhkeW_O2C",
        "outputId": "3810b18b-8fb0-402e-a7ac-98998c4376ce",
        "colab": {
          "base_uri": "https://localhost:8080/"
        }
      },
      "source": [
        "x"
      ],
      "execution_count": 48,
      "outputs": [
        {
          "output_type": "execute_result",
          "data": {
            "text/plain": [
              "tensor([[  0., 108.]])"
            ]
          },
          "metadata": {
            "tags": []
          },
          "execution_count": 48
        }
      ]
    },
    {
      "cell_type": "code",
      "metadata": {
        "id": "H8a3l-Lq-lCe",
        "outputId": "de72ab5c-4dac-4c4b-bd76-7bcab0b5bd7c",
        "colab": {
          "base_uri": "https://localhost:8080/"
        }
      },
      "source": [
        "softmax(x)"
      ],
      "execution_count": 49,
      "outputs": [
        {
          "output_type": "execute_result",
          "data": {
            "text/plain": [
              "tensor([[0., 1.]])"
            ]
          },
          "metadata": {
            "tags": []
          },
          "execution_count": 49
        }
      ]
    },
    {
      "cell_type": "code",
      "metadata": {
        "colab": {
          "base_uri": "https://localhost:8080/"
        },
        "id": "SDaegj2DPjd9",
        "outputId": "91f04fe2-28b3-4cea-a763-053b47e7257b"
      },
      "source": [
        "torch.log(softmax(x))"
      ],
      "execution_count": 50,
      "outputs": [
        {
          "output_type": "execute_result",
          "data": {
            "text/plain": [
              "tensor([[-inf, 0.]])"
            ]
          },
          "metadata": {
            "tags": []
          },
          "execution_count": 50
        }
      ]
    },
    {
      "cell_type": "code",
      "metadata": {
        "colab": {
          "base_uri": "https://localhost:8080/"
        },
        "id": "vFHaYBXOPjd9",
        "outputId": "8a1c1c39-3639-4c5e-bad1-9ab7ad8e278c"
      },
      "source": [
        "log_softmax(x)"
      ],
      "execution_count": 51,
      "outputs": [
        {
          "output_type": "execute_result",
          "data": {
            "text/plain": [
              "tensor([[-108.,    0.]])"
            ]
          },
          "metadata": {
            "tags": []
          },
          "execution_count": 51
        }
      ]
    },
    {
      "cell_type": "code",
      "metadata": {
        "colab": {
          "base_uri": "https://localhost:8080/"
        },
        "id": "Pr4_QxZXPjd-",
        "outputId": "69293f00-5e5e-43e6-a78b-770e3fe7201d"
      },
      "source": [
        "torch.exp(log_softmax(x))"
      ],
      "execution_count": 52,
      "outputs": [
        {
          "output_type": "execute_result",
          "data": {
            "text/plain": [
              "tensor([[0., 1.]])"
            ]
          },
          "metadata": {
            "tags": []
          },
          "execution_count": 52
        }
      ]
    },
    {
      "cell_type": "code",
      "metadata": {
        "id": "vHYe_Jk7Pjd_"
      },
      "source": [
        "# LogSoftmaxを採用したモデル\n",
        "model = nn.Sequential(\n",
        "            nn.Linear(3072, 512),\n",
        "            nn.Tanh(),\n",
        "            nn.Linear(512, 2),\n",
        "            nn.LogSoftmax(dim=1))"
      ],
      "execution_count": 53,
      "outputs": []
    },
    {
      "cell_type": "code",
      "metadata": {
        "id": "xmDTZptqPjd_"
      },
      "source": [
        "# NLLLossを採用: 出力と正解ラベルインデックスを引数に取る\n",
        "loss = nn.NLLLoss()"
      ],
      "execution_count": 54,
      "outputs": []
    },
    {
      "cell_type": "code",
      "metadata": {
        "colab": {
          "base_uri": "https://localhost:8080/"
        },
        "id": "mNBf_fyoPjeA",
        "outputId": "709f9c6b-b4c3-4676-d270-894ed0676e68"
      },
      "source": [
        "# モデルを走らせてみる\n",
        "\n",
        "img, label = cifar2[0]\n",
        "print(label)\n",
        "\n",
        "out = model(img.view(-1).unsqueeze(0))\n",
        "print(out)\n",
        "print(torch.exp(out))\n",
        "print(loss(out, torch.tensor([label])))"
      ],
      "execution_count": 55,
      "outputs": [
        {
          "output_type": "stream",
          "text": [
            "1\n",
            "tensor([[-0.9211, -0.5077]], grad_fn=<LogSoftmaxBackward>)\n",
            "tensor([[0.3981, 0.6019]], grad_fn=<ExpBackward>)\n",
            "tensor(0.5077, grad_fn=<NllLossBackward>)\n"
          ],
          "name": "stdout"
        }
      ]
    },
    {
      "cell_type": "code",
      "metadata": {
        "colab": {
          "base_uri": "https://localhost:8080/"
        },
        "id": "FYzEecJCPjeA",
        "outputId": "7163e8ff-6889-4732-f7ac-4d02ed18392a"
      },
      "source": [
        "%%time\n",
        "\n",
        "# NLLLossで学習してみる\n",
        "# 一枚ずつ学習する場合\n",
        "\n",
        "import torch\n",
        "import torch.nn as nn\n",
        "import torch.optim as optim\n",
        "\n",
        "model = nn.Sequential(\n",
        "            nn.Linear(3072, 512),\n",
        "            nn.Tanh(),\n",
        "            nn.Linear(512, 2),\n",
        "            nn.LogSoftmax(dim=1))\n",
        "\n",
        "model.to('cuda')\n",
        "\n",
        "learning_rate = 1e-2\n",
        "\n",
        "optimizer = optim.SGD(model.parameters(), lr=learning_rate)\n",
        "\n",
        "loss_fn = nn.NLLLoss()\n",
        "\n",
        "n_epochs = 100\n",
        "\n",
        "losses = []\n",
        "accs = []\n",
        "\n",
        "for epoch in range(n_epochs):\n",
        "\n",
        "    running_loss = 0.0\n",
        "    running_acc = 0.0\n",
        "\n",
        "    for img, label in cifar2:\n",
        "\n",
        "        img_gpu = img.view(-1).unsqueeze(0).to('cuda')\n",
        "        label_gpu = torch.tensor(label).unsqueeze(0).to('cuda')\n",
        "\n",
        "        out = model(img_gpu)\n",
        "        loss = loss_fn(out, label_gpu)\n",
        "\n",
        "\n",
        "        optimizer.zero_grad()\n",
        "\n",
        "        running_loss += loss.item() # .item()で値を取り出してrunning_lossに足す\n",
        "        pred = torch.argmax(out, dim=1) # outputには各分類ラベルに対するスコアが入っているだけの状態なので、最高スコアを取り出す。そのラベルが予測値となる。\n",
        "        running_acc += torch.mean(pred.eq(label).float()) # predとラベルが一致した率を計算\n",
        "        loss.backward() # 誤差逆伝播\n",
        "        optimizer.step() # 重みの更新\n",
        "\n",
        "    running_loss /= len(cifar2) # 損失値の平均\n",
        "    running_acc /= len(cifar2) # Accuracyの平均\n",
        "    losses.append(running_loss) # このエポックでのロスをリストに追加\n",
        "    accs.append(running_acc) # このエポックでのaccuracyをリストに追加\n",
        "    print(\"epoch: {}, loss: {}, acc: {}\".format(epoch, running_loss, running_acc))\n",
        "\n"
      ],
      "execution_count": 61,
      "outputs": [
        {
          "output_type": "stream",
          "text": [
            "epoch: 0, loss: 1.0512938993030403, acc: 0.6902999877929688\n",
            "epoch: 1, loss: 1.378223772458892, acc: 0.6890999674797058\n",
            "epoch: 2, loss: 1.3716015734166322, acc: 0.7015999555587769\n",
            "epoch: 3, loss: 1.3549937291436651, acc: 0.710599958896637\n",
            "epoch: 4, loss: 1.3589039073455065, acc: 0.7119999527931213\n",
            "epoch: 5, loss: 1.2978271325659156, acc: 0.7263000011444092\n",
            "epoch: 6, loss: 1.2996052466090593, acc: 0.7251999974250793\n",
            "epoch: 7, loss: 1.30562867264698, acc: 0.7303999662399292\n",
            "epoch: 8, loss: 1.2778166345128632, acc: 0.7317000031471252\n",
            "epoch: 9, loss: 1.2254433247464498, acc: 0.7430999875068665\n",
            "epoch: 10, loss: 1.2344567134346525, acc: 0.7416999936103821\n",
            "epoch: 11, loss: 1.1978542913643357, acc: 0.7488999962806702\n",
            "epoch: 12, loss: 1.2223383418244846, acc: 0.7465999722480774\n",
            "epoch: 13, loss: 1.174067767058259, acc: 0.75409996509552\n",
            "epoch: 14, loss: 1.2175537774424048, acc: 0.7479999661445618\n",
            "epoch: 15, loss: 1.1724165712336894, acc: 0.7558000087738037\n",
            "epoch: 16, loss: 1.1267510361384163, acc: 0.7642999887466431\n",
            "epoch: 17, loss: 1.1624635295761039, acc: 0.7642999887466431\n",
            "epoch: 18, loss: 1.1192783372990849, acc: 0.7669999599456787\n",
            "epoch: 19, loss: 1.1201174528618718, acc: 0.7644000053405762\n",
            "epoch: 20, loss: 1.1286712394867149, acc: 0.7642999887466431\n",
            "epoch: 21, loss: 1.138783166410977, acc: 0.764799952507019\n",
            "epoch: 22, loss: 1.0884043630940106, acc: 0.7732999920845032\n",
            "epoch: 23, loss: 1.0945374089506141, acc: 0.7737999558448792\n",
            "epoch: 24, loss: 1.102322823680704, acc: 0.7777999639511108\n",
            "epoch: 25, loss: 1.076144862323509, acc: 0.7745999693870544\n",
            "epoch: 26, loss: 1.0967251005820535, acc: 0.7766000032424927\n",
            "epoch: 27, loss: 1.067450046247584, acc: 0.7813000082969666\n",
            "epoch: 28, loss: 1.0517357357839472, acc: 0.7811999917030334\n",
            "epoch: 29, loss: 1.0473555163295787, acc: 0.784500002861023\n",
            "epoch: 30, loss: 1.0403079066319032, acc: 0.7853999733924866\n",
            "epoch: 31, loss: 1.0823562211262137, acc: 0.7793999910354614\n",
            "epoch: 32, loss: 1.0743040672683877, acc: 0.7843999862670898\n",
            "epoch: 33, loss: 1.025088681405999, acc: 0.7856000065803528\n",
            "epoch: 34, loss: 1.0199167662956798, acc: 0.7926999926567078\n",
            "epoch: 35, loss: 1.0149782503159877, acc: 0.7874000072479248\n",
            "epoch: 36, loss: 1.0456082910457793, acc: 0.7859999537467957\n",
            "epoch: 37, loss: 1.0180713867520164, acc: 0.7919999957084656\n",
            "epoch: 38, loss: 1.0127421256633726, acc: 0.7938999533653259\n",
            "epoch: 39, loss: 0.998545138265624, acc: 0.7946999669075012\n",
            "epoch: 40, loss: 0.991620286272247, acc: 0.7937999963760376\n",
            "epoch: 41, loss: 0.9634390324466887, acc: 0.79749995470047\n",
            "epoch: 42, loss: 0.9952550654224588, acc: 0.7953999638557434\n",
            "epoch: 43, loss: 0.9633416481728957, acc: 0.7975999712944031\n",
            "epoch: 44, loss: 0.9822781524063026, acc: 0.8001999855041504\n",
            "epoch: 45, loss: 0.9888455504478086, acc: 0.79749995470047\n",
            "epoch: 46, loss: 0.9646500386186497, acc: 0.8012999892234802\n",
            "epoch: 47, loss: 0.9585598919204958, acc: 0.8039000034332275\n",
            "epoch: 48, loss: 0.9940308263417819, acc: 0.7975999712944031\n",
            "epoch: 49, loss: 0.9817819525904266, acc: 0.798799991607666\n",
            "epoch: 50, loss: 0.932745326229533, acc: 0.8068000078201294\n",
            "epoch: 51, loss: 0.9329939325350431, acc: 0.8075000047683716\n",
            "epoch: 52, loss: 0.9737895909167018, acc: 0.8064999580383301\n",
            "epoch: 53, loss: 0.940758272760059, acc: 0.8037999868392944\n",
            "epoch: 54, loss: 0.9566065812304608, acc: 0.8021999597549438\n",
            "epoch: 55, loss: 0.9144885496231158, acc: 0.811199963092804\n",
            "epoch: 56, loss: 0.9260780520699596, acc: 0.8125999569892883\n",
            "epoch: 57, loss: 0.9064929010285337, acc: 0.8112999796867371\n",
            "epoch: 58, loss: 0.8872524954735099, acc: 0.8158999681472778\n",
            "epoch: 59, loss: 0.8999552840416334, acc: 0.8167999982833862\n",
            "epoch: 60, loss: 0.9254846608200583, acc: 0.807699978351593\n",
            "epoch: 61, loss: 0.940707312831116, acc: 0.807699978351593\n",
            "epoch: 62, loss: 0.9166228312469664, acc: 0.8079999685287476\n",
            "epoch: 63, loss: 0.9173163961347567, acc: 0.8134999871253967\n",
            "epoch: 64, loss: 0.9059348854913382, acc: 0.8157999515533447\n",
            "epoch: 65, loss: 0.9011116411383971, acc: 0.8175999522209167\n",
            "epoch: 66, loss: 0.8712461487731147, acc: 0.8245999813079834\n",
            "epoch: 67, loss: 0.8591978968728927, acc: 0.8208999633789062\n",
            "epoch: 68, loss: 0.8801443684666407, acc: 0.8179000020027161\n",
            "epoch: 69, loss: 0.8885236758653502, acc: 0.8181999921798706\n",
            "epoch: 70, loss: 0.8820852909657624, acc: 0.8203999996185303\n",
            "epoch: 71, loss: 0.8424760545866756, acc: 0.825499951839447\n",
            "epoch: 72, loss: 0.8665757506180211, acc: 0.8259999752044678\n",
            "epoch: 73, loss: 0.8823626721044493, acc: 0.8209999799728394\n",
            "epoch: 74, loss: 0.835609403454118, acc: 0.8260999917984009\n",
            "epoch: 75, loss: 0.8730441787116225, acc: 0.8205999732017517\n",
            "epoch: 76, loss: 0.8929045520122121, acc: 0.818399965763092\n",
            "epoch: 77, loss: 0.8599230776515943, acc: 0.8258999586105347\n",
            "epoch: 78, loss: 0.8610070594794339, acc: 0.8233999609947205\n",
            "epoch: 79, loss: 0.8365546149447423, acc: 0.828499972820282\n",
            "epoch: 80, loss: 0.8497720429379673, acc: 0.8281999826431274\n",
            "epoch: 81, loss: 0.8806325762587519, acc: 0.8215999603271484\n",
            "epoch: 82, loss: 0.8485790227322213, acc: 0.8259999752044678\n",
            "epoch: 83, loss: 0.8114628716797938, acc: 0.8283999562263489\n",
            "epoch: 84, loss: 0.8509212030174563, acc: 0.8237999677658081\n",
            "epoch: 85, loss: 0.8490654986924353, acc: 0.8301999568939209\n",
            "epoch: 86, loss: 0.8407369120699015, acc: 0.8296999931335449\n",
            "epoch: 87, loss: 0.91778548881204, acc: 0.819599986076355\n",
            "epoch: 88, loss: 0.8893483870896264, acc: 0.8205999732017517\n",
            "epoch: 89, loss: 0.8345239792238582, acc: 0.8323000073432922\n",
            "epoch: 90, loss: 0.8463302875940008, acc: 0.8273999691009521\n",
            "epoch: 91, loss: 0.7970487122416023, acc: 0.8344999551773071\n",
            "epoch: 92, loss: 0.8100882053069288, acc: 0.8361999988555908\n",
            "epoch: 93, loss: 0.7969293501177204, acc: 0.835599958896637\n",
            "epoch: 94, loss: 0.8375490323507289, acc: 0.8328999876976013\n",
            "epoch: 95, loss: 0.8379718303092897, acc: 0.8291999697685242\n",
            "epoch: 96, loss: 0.7714585147551206, acc: 0.8395999670028687\n",
            "epoch: 97, loss: 0.7633500854172531, acc: 0.8423999547958374\n",
            "epoch: 98, loss: 0.7697619702219052, acc: 0.8384000062942505\n",
            "epoch: 99, loss: 0.7603671081118462, acc: 0.8431999683380127\n",
            "CPU times: user 21min 30s, sys: 1min 58s, total: 23min 28s\n",
            "Wall time: 23min 10s\n"
          ],
          "name": "stdout"
        }
      ]
    },
    {
      "cell_type": "code",
      "metadata": {
        "id": "rlg78giJu5ie",
        "outputId": "e9833e19-5882-4ce6-80ca-c2949cf12d6d",
        "colab": {
          "base_uri": "https://localhost:8080/",
          "height": 515
        }
      },
      "source": [
        "fig, ax = plt.subplots(figsize=(20,10), ncols=2)\n",
        "ax[0].plot(losses)\n",
        "ax[0].grid()\n",
        "ax[1].plot(accs)\n",
        "ax[1].grid()\n",
        "ax[1].set_ylim([0,1])\n",
        ";"
      ],
      "execution_count": 64,
      "outputs": [
        {
          "output_type": "execute_result",
          "data": {
            "application/vnd.google.colaboratory.intrinsic+json": {
              "type": "string"
            },
            "text/plain": [
              "''"
            ]
          },
          "metadata": {
            "tags": []
          },
          "execution_count": 64
        },
        {
          "output_type": "display_data",
          "data": {
            "image/png": "[encoded data removed]",
            "text/plain": [
              "<Figure size 1440x720 with 2 Axes>"
            ]
          },
          "metadata": {
            "tags": [],
            "needs_background": "light"
          }
        }
      ]
    },
    {
      "cell_type": "code",
      "metadata": {
        "id": "Gu9Gg9wOPjeC"
      },
      "source": [
        "# DataLoaderを使う\n",
        "# ミニバッチ作成\n",
        "train_loader = torch.utils.data.DataLoader(cifar2, batch_size=64,\n",
        "                                           shuffle=True)"
      ],
      "execution_count": 43,
      "outputs": []
    },
    {
      "cell_type": "code",
      "metadata": {
        "colab": {
          "base_uri": "https://localhost:8080/"
        },
        "id": "QfRWuEXhPjeG",
        "outputId": "e9af0109-fbd5-4ad0-faa1-346d77b641cd"
      },
      "source": [
        "%%time\n",
        "# DataLoaderでミニバッチ法を採用したモデル学習\n",
        "# 高速且つ高精度\n",
        "import torch\n",
        "import torch.nn as nn\n",
        "import torch.optim as optim\n",
        "\n",
        "batch_size = 64\n",
        "train_loader = torch.utils.data.DataLoader(cifar2, batch_size=batch_size,\n",
        "                                           shuffle=True)\n",
        "\n",
        "model = nn.Sequential(\n",
        "            nn.Linear(3072, 128),\n",
        "            nn.Tanh(),\n",
        "            nn.Linear(128, 2),\n",
        "            nn.LogSoftmax(dim=1))\n",
        "\n",
        "model.to('cuda')\n",
        "\n",
        "learning_rate = 1e-2\n",
        "\n",
        "optimizer = optim.SGD(model.parameters(), lr=learning_rate)\n",
        "\n",
        "loss_fn = nn.NLLLoss()\n",
        "\n",
        "n_epochs = 100\n",
        "\n",
        "losses = []\n",
        "accs = []\n",
        "\n",
        "for epoch in range(n_epochs):\n",
        "\n",
        "    running_loss = 0.0\n",
        "    running_acc = 0.0\n",
        "\n",
        "    for imgs, labels in train_loader:\n",
        "\n",
        "        imgs_gpu = imgs.view(imgs.shape[0], -1).to('cuda')\n",
        "        labels_gpu = torch.tensor(labels).to('cuda')\n",
        "\n",
        "        out = model(imgs_gpu)\n",
        "        loss = loss_fn(out, labels_gpu)\n",
        "\n",
        "        optimizer.zero_grad()\n",
        "\n",
        "        running_loss += loss.item() # .item()で値を取り出してrunning_lossに足す\n",
        "        pred = torch.argmax(out, dim=1) # outputには各分類ラベルに対するスコアが入っているだけの状態なので、最高スコアを取り出す。そのラベルが予測値となる。\n",
        "        running_acc += torch.mean(pred.eq(labels_gpu).float()) # predとラベルが一致した率を計算\n",
        "        loss.backward() # 誤差逆伝播\n",
        "        optimizer.step() # 重みの更新\n",
        "\n",
        "    running_loss /= len(train_loader) # 損失値の平均\n",
        "    running_acc /= len(train_loader) # Accuracyの平均\n",
        "    losses.append(running_loss) # このエポックでのロスをリストに追加\n",
        "    accs.append(running_acc) # このエポックでのaccuracyをリストに追加\n",
        "    print(\"epoch: {}, loss: {}, acc: {}\".format(epoch, running_loss, running_acc))\n"
      ],
      "execution_count": 69,
      "outputs": [
        {
          "output_type": "stream",
          "text": [
            "/usr/local/lib/python3.7/dist-packages/ipykernel_launcher.py:38: UserWarning: To copy construct from a tensor, it is recommended to use sourceTensor.clone().detach() or sourceTensor.clone().detach().requires_grad_(True), rather than torch.tensor(sourceTensor).\n"
          ],
          "name": "stderr"
        },
        {
          "output_type": "stream",
          "text": [
            "epoch: 0, loss: 0.503410399339761, acc: 0.7676154375076294\n",
            "epoch: 1, loss: 0.461961876434885, acc: 0.7901074886322021\n",
            "epoch: 2, loss: 0.44494474617538937, acc: 0.8013535141944885\n",
            "epoch: 3, loss: 0.433253687468304, acc: 0.8083201050758362\n",
            "epoch: 4, loss: 0.42040123472547836, acc: 0.8165804147720337\n",
            "epoch: 5, loss: 0.41111283668666887, acc: 0.8235470056533813\n",
            "epoch: 6, loss: 0.4007638636857841, acc: 0.8274283409118652\n",
            "epoch: 7, loss: 0.39336308011203813, acc: 0.8316082954406738\n",
            "epoch: 8, loss: 0.3823567596590443, acc: 0.8383758068084717\n",
            "epoch: 9, loss: 0.37808330489951336, acc: 0.8377786874771118\n",
            "epoch: 10, loss: 0.3663341765570792, acc: 0.8450437784194946\n",
            "epoch: 11, loss: 0.35962712821687104, acc: 0.8487261533737183\n",
            "epoch: 12, loss: 0.3500633413434788, acc: 0.8521099090576172\n",
            "epoch: 13, loss: 0.34026900750056954, acc: 0.8600716590881348\n",
            "epoch: 14, loss: 0.33200080986994845, acc: 0.8612659573554993\n",
            "epoch: 15, loss: 0.3250789034898114, acc: 0.8677349090576172\n",
            "epoch: 16, loss: 0.31982408217184105, acc: 0.8699243664741516\n",
            "epoch: 17, loss: 0.3069292793797839, acc: 0.8735072016716003\n",
            "epoch: 18, loss: 0.30055949452576364, acc: 0.8786823153495789\n",
            "epoch: 19, loss: 0.2923955509237423, acc: 0.8819665908813477\n",
            "epoch: 20, loss: 0.2826485839808822, acc: 0.8887341022491455\n",
            "epoch: 21, loss: 0.27662749821023574, acc: 0.8903264403343201\n",
            "epoch: 22, loss: 0.26449165479013115, acc: 0.8979896903038025\n",
            "epoch: 23, loss: 0.2610905484598913, acc: 0.899582028388977\n",
            "epoch: 24, loss: 0.25197947495112755, acc: 0.9045581221580505\n",
            "epoch: 25, loss: 0.24479480505369272, acc: 0.9068471193313599\n",
            "epoch: 26, loss: 0.23829162154038241, acc: 0.9087380766868591\n",
            "epoch: 27, loss: 0.2301599559890237, acc: 0.9142118096351624\n",
            "epoch: 28, loss: 0.22137557212144707, acc: 0.9208797812461853\n",
            "epoch: 29, loss: 0.21425747800215034, acc: 0.9256568551063538\n",
            "epoch: 30, loss: 0.2097275843665858, acc: 0.9250597357749939\n",
            "epoch: 31, loss: 0.19832315006453521, acc: 0.9312301278114319\n",
            "epoch: 32, loss: 0.1998757686299883, acc: 0.9304339289665222\n",
            "epoch: 33, loss: 0.18845866221910829, acc: 0.9368033409118652\n",
            "epoch: 34, loss: 0.1801060847700781, acc: 0.9392914175987244\n",
            "epoch: 35, loss: 0.17262143836279584, acc: 0.9433718323707581\n",
            "epoch: 36, loss: 0.1658801973150794, acc: 0.946457028388977\n",
            "epoch: 37, loss: 0.16694301513919405, acc: 0.9474522471427917\n",
            "epoch: 38, loss: 0.1544049282077771, acc: 0.9534235596656799\n",
            "epoch: 39, loss: 0.15187733444818266, acc: 0.9520302414894104\n",
            "epoch: 40, loss: 0.1414331883476798, acc: 0.9585987329483032\n",
            "epoch: 41, loss: 0.13398897927847636, acc: 0.962380588054657\n",
            "epoch: 42, loss: 0.13695378720190873, acc: 0.9580016136169434\n",
            "epoch: 43, loss: 0.12532825537832679, acc: 0.9655653238296509\n",
            "epoch: 44, loss: 0.1201365271903527, acc: 0.9681528806686401\n",
            "epoch: 45, loss: 0.11744717252292451, acc: 0.9674562215805054\n",
            "epoch: 46, loss: 0.11216484050557113, acc: 0.9712380766868591\n",
            "epoch: 47, loss: 0.10860306650969632, acc: 0.9725318551063538\n",
            "epoch: 48, loss: 0.10433377937716283, acc: 0.9742237329483032\n",
            "epoch: 49, loss: 0.1067940104681595, acc: 0.9738256335258484\n",
            "epoch: 50, loss: 0.09900067777485605, acc: 0.9742237329483032\n",
            "epoch: 51, loss: 0.09290055842821006, acc: 0.9800955653190613\n",
            "epoch: 52, loss: 0.10181329582052626, acc: 0.9715366363525391\n",
            "epoch: 53, loss: 0.08680237566304815, acc: 0.9789012670516968\n",
            "epoch: 54, loss: 0.09107876502594371, acc: 0.9791998267173767\n",
            "epoch: 55, loss: 0.08218786616329175, acc: 0.9820860028266907\n",
            "epoch: 56, loss: 0.0782962085999501, acc: 0.9839769005775452\n",
            "epoch: 57, loss: 0.07582479551624341, acc: 0.984175980091095\n",
            "epoch: 58, loss: 0.06872318559296571, acc: 0.986962616443634\n",
            "epoch: 59, loss: 0.06922333040956859, acc: 0.9860668778419495\n",
            "epoch: 60, loss: 0.06454833774904536, acc: 0.9888535141944885\n",
            "epoch: 61, loss: 0.06762887525615419, acc: 0.987460196018219\n",
            "epoch: 62, loss: 0.0631783963388698, acc: 0.9890525341033936\n",
            "epoch: 63, loss: 0.058695690848740045, acc: 0.9906449317932129\n",
            "epoch: 64, loss: 0.060120954433349284, acc: 0.9895501732826233\n",
            "epoch: 65, loss: 0.053676375004041724, acc: 0.9913415908813477\n",
            "epoch: 66, loss: 0.052015714715145954, acc: 0.9928343892097473\n",
            "epoch: 67, loss: 0.05194913779806559, acc: 0.9919387102127075\n",
            "epoch: 68, loss: 0.049874432954438934, acc: 0.9920382499694824\n",
            "epoch: 69, loss: 0.051825666112030384, acc: 0.9914410710334778\n",
            "epoch: 70, loss: 0.0465786855335638, acc: 0.9928343892097473\n",
            "epoch: 71, loss: 0.0463882576626767, acc: 0.9931329488754272\n",
            "epoch: 72, loss: 0.04265419845795555, acc: 0.9948248267173767\n",
            "epoch: 73, loss: 0.04373497259654817, acc: 0.993431568145752\n",
            "epoch: 74, loss: 0.04084468738525916, acc: 0.9953224658966064\n",
            "epoch: 75, loss: 0.03915541375850796, acc: 0.9956210255622864\n",
            "epoch: 76, loss: 0.0400827037419673, acc: 0.9946258068084717\n",
            "epoch: 77, loss: 0.03657202623120159, acc: 0.996417224407196\n",
            "epoch: 78, loss: 0.03601135990944258, acc: 0.9968153238296509\n",
            "epoch: 79, loss: 0.03383576866405405, acc: 0.9970143437385559\n",
            "epoch: 80, loss: 0.0344213902190992, acc: 0.9963176846504211\n",
            "epoch: 81, loss: 0.03300342470953229, acc: 0.996715784072876\n",
            "epoch: 82, loss: 0.03323440792359364, acc: 0.9963176846504211\n",
            "epoch: 83, loss: 0.030481118275813616, acc: 0.9974124431610107\n",
            "epoch: 84, loss: 0.0308996541247626, acc: 0.9966162443161011\n",
            "epoch: 85, loss: 0.02998027153858903, acc: 0.9974124431610107\n",
            "epoch: 86, loss: 0.02930918033976274, acc: 0.9971138834953308\n",
            "epoch: 87, loss: 0.02803116355233701, acc: 0.9977110028266907\n",
            "epoch: 88, loss: 0.027222591956519777, acc: 0.9979100227355957\n",
            "epoch: 89, loss: 0.0265835243081496, acc: 0.9978105425834656\n",
            "epoch: 90, loss: 0.025779760264714433, acc: 0.9980095624923706\n",
            "epoch: 91, loss: 0.025607559859610288, acc: 0.9980095624923706\n",
            "epoch: 92, loss: 0.024437429970664202, acc: 0.9983081221580505\n",
            "epoch: 93, loss: 0.023970562294362837, acc: 0.9980095624923706\n",
            "epoch: 94, loss: 0.022887372850754838, acc: 0.9987062215805054\n",
            "epoch: 95, loss: 0.02299881376515908, acc: 0.9982086420059204\n",
            "epoch: 96, loss: 0.022461201912563317, acc: 0.9981091022491455\n",
            "epoch: 97, loss: 0.02202959885452963, acc: 0.9982086420059204\n",
            "epoch: 98, loss: 0.02183041981403615, acc: 0.9978105425834656\n",
            "epoch: 99, loss: 0.02157874130139685, acc: 0.9986066818237305\n",
            "CPU times: user 29.6 s, sys: 1.95 s, total: 31.6 s\n",
            "Wall time: 31.6 s\n"
          ],
          "name": "stdout"
        }
      ]
    },
    {
      "cell_type": "code",
      "metadata": {
        "id": "X-eOUvHTztyW",
        "outputId": "254ba447-4cff-4ae0-94f9-fc6443d92feb",
        "colab": {
          "base_uri": "https://localhost:8080/",
          "height": 515
        }
      },
      "source": [
        "fig, ax = plt.subplots(figsize=(20,10), ncols=2)\n",
        "ax[0].plot(losses)\n",
        "ax[0].grid()\n",
        "ax[1].plot(accs)\n",
        "ax[1].grid()\n",
        "ax[1].set_ylim([0,1])\n",
        ";"
      ],
      "execution_count": 70,
      "outputs": [
        {
          "output_type": "execute_result",
          "data": {
            "application/vnd.google.colaboratory.intrinsic+json": {
              "type": "string"
            },
            "text/plain": [
              "''"
            ]
          },
          "metadata": {
            "tags": []
          },
          "execution_count": 70
        },
        {
          "output_type": "display_data",
          "data": {
            "image/png": "[encoded data removed]",
            "text/plain": [
              "<Figure size 1440x720 with 2 Axes>"
            ]
          },
          "metadata": {
            "tags": [],
            "needs_background": "light"
          }
        }
      ]
    },
    {
      "cell_type": "code",
      "metadata": {
        "colab": {
          "base_uri": "https://localhost:8080/"
        },
        "id": "69bxp6zSPjeI",
        "outputId": "d1f9482c-bf35-4ae6-ff34-cc4345bba48b"
      },
      "source": [
        "%%time\n",
        "\n",
        "# 1層目の出力（2層目の入力）の数を 128 → 512\n",
        "import torch\n",
        "import torch.nn as nn\n",
        "import torch.optim as optim\n",
        "\n",
        "train_loader = torch.utils.data.DataLoader(cifar2, batch_size=64,\n",
        "                                           shuffle=True)\n",
        "\n",
        "model = nn.Sequential(\n",
        "            nn.Linear(3072, 512),\n",
        "            nn.Tanh(),\n",
        "            nn.Linear(512, 2),\n",
        "            nn.LogSoftmax(dim=1))\n",
        "\n",
        "model.to('cuda')\n",
        "\n",
        "learning_rate = 1e-2\n",
        "\n",
        "optimizer = optim.SGD(model.parameters(), lr=learning_rate)\n",
        "\n",
        "loss_fn = nn.NLLLoss()\n",
        "\n",
        "n_epochs = 100\n",
        "\n",
        "losses = []\n",
        "accs = []\n",
        "\n",
        "for epoch in range(n_epochs):\n",
        "\n",
        "    running_loss = 0.0\n",
        "    running_acc = 0.0\n",
        "\n",
        "    for imgs, labels in train_loader:\n",
        "\n",
        "        imgs_gpu = imgs.view(imgs.shape[0], -1).to('cuda')\n",
        "        labels_gpu = torch.tensor(labels).to('cuda')\n",
        "\n",
        "        out = model(imgs_gpu)\n",
        "        loss = loss_fn(out, labels_gpu)\n",
        "\n",
        "        running_loss += loss.item() # .item()で値を取り出してrunning_lossに足す\n",
        "        pred = torch.argmax(out, dim=1) # outputには各分類ラベルに対するスコアが入っているだけの状態なので、最高スコアを取り出す。そのラベルが予測値となる。\n",
        "        running_acc += torch.mean(pred.eq(labels_gpu).float()) # predとラベルが一致した率を計算\n",
        "\n",
        "        running_loss += loss\n",
        "\n",
        "        optimizer.zero_grad()\n",
        "        loss.backward()\n",
        "        optimizer.step()\n",
        "\n",
        "\n",
        "    running_loss /= len(train_loader) # 損失値の平均\n",
        "    running_acc /= len(train_loader) # Accuracyの平均\n",
        "    losses.append(running_loss) # このエポックでのロスをリストに追加\n",
        "    accs.append(running_acc) # このエポックでのaccuracyをリストに追加\n",
        "    print(\"epoch: {}, loss: {}, acc: {}\".format(epoch, running_loss, running_acc))\n"
      ],
      "execution_count": 71,
      "outputs": [
        {
          "output_type": "stream",
          "text": [
            "/usr/local/lib/python3.7/dist-packages/ipykernel_launcher.py:37: UserWarning: To copy construct from a tensor, it is recommended to use sourceTensor.clone().detach() or sourceTensor.clone().detach().requires_grad_(True), rather than torch.tensor(sourceTensor).\n"
          ],
          "name": "stderr"
        },
        {
          "output_type": "stream",
          "text": [
            "epoch: 0, loss: 1.0204007625579834, acc: 0.7606489062309265\n",
            "epoch: 1, loss: 0.9325363636016846, acc: 0.7901074886322021\n",
            "epoch: 2, loss: 0.8994710445404053, acc: 0.7976711988449097\n",
            "epoch: 3, loss: 0.8701286911964417, acc: 0.8080214858055115\n",
            "epoch: 4, loss: 0.8515313863754272, acc: 0.8125995397567749\n",
            "epoch: 5, loss: 0.8322487473487854, acc: 0.8156847357749939\n",
            "epoch: 6, loss: 0.8135403990745544, acc: 0.8235470056533813\n",
            "epoch: 7, loss: 0.7960615158081055, acc: 0.8254379034042358\n",
            "epoch: 8, loss: 0.7794933319091797, acc: 0.831210196018219\n",
            "epoch: 9, loss: 0.7650039196014404, acc: 0.8345939517021179\n",
            "epoch: 10, loss: 0.7488049864768982, acc: 0.8389729261398315\n",
            "epoch: 11, loss: 0.7329781651496887, acc: 0.8470342755317688\n",
            "epoch: 12, loss: 0.7174133062362671, acc: 0.8464370965957642\n",
            "epoch: 13, loss: 0.703234851360321, acc: 0.8480294942855835\n",
            "epoch: 14, loss: 0.6850535273551941, acc: 0.8571855425834656\n",
            "epoch: 15, loss: 0.6646571159362793, acc: 0.8620620965957642\n",
            "epoch: 16, loss: 0.6570927500724792, acc: 0.8608678579330444\n",
            "epoch: 17, loss: 0.6503380537033081, acc: 0.8611664175987244\n",
            "epoch: 18, loss: 0.6142860054969788, acc: 0.8766918778419495\n",
            "epoch: 19, loss: 0.6080468893051147, acc: 0.8754976391792297\n",
            "epoch: 20, loss: 0.5789980888366699, acc: 0.884056568145752\n",
            "epoch: 21, loss: 0.5629892945289612, acc: 0.8876393437385559\n",
            "epoch: 22, loss: 0.5532257556915283, acc: 0.8881369829177856\n",
            "epoch: 23, loss: 0.5355142951011658, acc: 0.893511176109314\n",
            "epoch: 24, loss: 0.53256756067276, acc: 0.8931130766868591\n",
            "epoch: 25, loss: 0.5151634812355042, acc: 0.8971934914588928\n",
            "epoch: 26, loss: 0.48508381843566895, acc: 0.9058519005775452\n",
            "epoch: 27, loss: 0.4706020653247833, acc: 0.9114251732826233\n",
            "epoch: 28, loss: 0.4587413966655731, acc: 0.9144108295440674\n",
            "epoch: 29, loss: 0.44552117586135864, acc: 0.9169984459877014\n",
            "epoch: 30, loss: 0.4227655529975891, acc: 0.924462616443634\n",
            "epoch: 31, loss: 0.4122679531574249, acc: 0.9259554147720337\n",
            "epoch: 32, loss: 0.3883226811885834, acc: 0.9318272471427917\n",
            "epoch: 33, loss: 0.38085564970970154, acc: 0.9321258068084717\n",
            "epoch: 34, loss: 0.37001222372055054, acc: 0.9356091022491455\n",
            "epoch: 35, loss: 0.34545642137527466, acc: 0.9418789744377136\n",
            "epoch: 36, loss: 0.335070937871933, acc: 0.943869411945343\n",
            "epoch: 37, loss: 0.32487210631370544, acc: 0.9473527073860168\n",
            "epoch: 38, loss: 0.3094325363636017, acc: 0.9497412443161011\n",
            "epoch: 39, loss: 0.2961483597755432, acc: 0.9536226391792297\n",
            "epoch: 40, loss: 0.2766498327255249, acc: 0.955712616443634\n",
            "epoch: 41, loss: 0.2787131667137146, acc: 0.9580016136169434\n",
            "epoch: 42, loss: 0.2833999693393707, acc: 0.9553145170211792\n",
            "epoch: 43, loss: 0.25732970237731934, acc: 0.9626791477203369\n",
            "epoch: 44, loss: 0.2361462414264679, acc: 0.9666600227355957\n",
            "epoch: 45, loss: 0.21878056228160858, acc: 0.9724323153495789\n",
            "epoch: 46, loss: 0.21678587794303894, acc: 0.9699442982673645\n",
            "epoch: 47, loss: 0.20490048825740814, acc: 0.9726313948631287\n",
            "epoch: 48, loss: 0.21221749484539032, acc: 0.9708399772644043\n",
            "epoch: 49, loss: 0.19274304807186127, acc: 0.977806568145752\n",
            "epoch: 50, loss: 0.2020074725151062, acc: 0.9733280539512634\n",
            "epoch: 51, loss: 0.17670954763889313, acc: 0.978204607963562\n",
            "epoch: 52, loss: 0.16837692260742188, acc: 0.9805931448936462\n",
            "epoch: 53, loss: 0.1639932245016098, acc: 0.9805931448936462\n",
            "epoch: 54, loss: 0.1542053073644638, acc: 0.9835788607597351\n",
            "epoch: 55, loss: 0.146828755736351, acc: 0.9835788607597351\n",
            "epoch: 56, loss: 0.14137248694896698, acc: 0.9844745397567749\n",
            "epoch: 57, loss: 0.13243626058101654, acc: 0.987460196018219\n",
            "epoch: 58, loss: 0.12943153083324432, acc: 0.986962616443634\n",
            "epoch: 59, loss: 0.12831753492355347, acc: 0.9877587556838989\n",
            "epoch: 60, loss: 0.11522644013166428, acc: 0.990346372127533\n",
            "epoch: 61, loss: 0.11503273248672485, acc: 0.9892516136169434\n",
            "epoch: 62, loss: 0.1142895370721817, acc: 0.9893511533737183\n",
            "epoch: 63, loss: 0.10617656260728836, acc: 0.9914410710334778\n",
            "epoch: 64, loss: 0.10195342451334, acc: 0.9914410710334778\n",
            "epoch: 65, loss: 0.09657204896211624, acc: 0.9927349090576172\n",
            "epoch: 66, loss: 0.09161323308944702, acc: 0.9927349090576172\n",
            "epoch: 67, loss: 0.09134621918201447, acc: 0.9917396903038025\n",
            "epoch: 68, loss: 0.0897638276219368, acc: 0.9937301278114319\n",
            "epoch: 69, loss: 0.08162039518356323, acc: 0.9953224658966064\n",
            "epoch: 70, loss: 0.08158672600984573, acc: 0.993332028388977\n",
            "epoch: 71, loss: 0.07499673217535019, acc: 0.9957205653190613\n",
            "epoch: 72, loss: 0.07356196641921997, acc: 0.9953224658966064\n",
            "epoch: 73, loss: 0.07318780571222305, acc: 0.9953224658966064\n",
            "epoch: 74, loss: 0.06755407899618149, acc: 0.9963176846504211\n",
            "epoch: 75, loss: 0.06642995029687881, acc: 0.996417224407196\n",
            "epoch: 76, loss: 0.06526549160480499, acc: 0.9963176846504211\n",
            "epoch: 77, loss: 0.06402367353439331, acc: 0.996715784072876\n",
            "epoch: 78, loss: 0.06795062124729156, acc: 0.9957205653190613\n",
            "epoch: 79, loss: 0.06055353209376335, acc: 0.996516764163971\n",
            "epoch: 80, loss: 0.057143911719322205, acc: 0.9966162443161011\n",
            "epoch: 81, loss: 0.05340370163321495, acc: 0.9983081221580505\n",
            "epoch: 82, loss: 0.0523194894194603, acc: 0.9978105425834656\n",
            "epoch: 83, loss: 0.05115972459316254, acc: 0.9977110028266907\n",
            "epoch: 84, loss: 0.05044283717870712, acc: 0.9975119829177856\n",
            "epoch: 85, loss: 0.05208376795053482, acc: 0.9972133636474609\n",
            "epoch: 86, loss: 0.051414161920547485, acc: 0.9973129034042358\n",
            "epoch: 87, loss: 0.04784754663705826, acc: 0.9980095624923706\n",
            "epoch: 88, loss: 0.04475650563836098, acc: 0.9981091022491455\n",
            "epoch: 89, loss: 0.044247061014175415, acc: 0.9986066818237305\n",
            "epoch: 90, loss: 0.04104370251297951, acc: 0.9989052414894104\n",
            "epoch: 91, loss: 0.041327010840177536, acc: 0.9987062215805054\n",
            "epoch: 92, loss: 0.04013208672404289, acc: 0.9990047812461853\n",
            "epoch: 93, loss: 0.038957711309194565, acc: 0.9987062215805054\n",
            "epoch: 94, loss: 0.03741368278861046, acc: 0.9990047812461853\n",
            "epoch: 95, loss: 0.03659255802631378, acc: 0.9989052414894104\n",
            "epoch: 96, loss: 0.03571749106049538, acc: 0.9990047812461853\n",
            "epoch: 97, loss: 0.03511417284607887, acc: 0.9992038607597351\n",
            "epoch: 98, loss: 0.03470475226640701, acc: 0.9988057613372803\n",
            "epoch: 99, loss: 0.03314806520938873, acc: 0.9993033409118652\n",
            "CPU times: user 36.5 s, sys: 1.78 s, total: 38.3 s\n",
            "Wall time: 38.3 s\n"
          ],
          "name": "stdout"
        }
      ]
    },
    {
      "cell_type": "code",
      "metadata": {
        "id": "JnIvw4mu2mCc",
        "outputId": "7174a59c-4180-4aee-b7c1-8d7e5d1141fb",
        "colab": {
          "base_uri": "https://localhost:8080/",
          "height": 515
        }
      },
      "source": [
        "fig, ax = plt.subplots(figsize=(20,10), ncols=2)\n",
        "ax[0].plot(losses)\n",
        "ax[0].grid()\n",
        "ax[1].plot(accs)\n",
        "ax[1].grid()\n",
        "ax[1].set_ylim([0,1])\n",
        ";"
      ],
      "execution_count": 72,
      "outputs": [
        {
          "output_type": "execute_result",
          "data": {
            "application/vnd.google.colaboratory.intrinsic+json": {
              "type": "string"
            },
            "text/plain": [
              "''"
            ]
          },
          "metadata": {
            "tags": []
          },
          "execution_count": 72
        },
        {
          "output_type": "display_data",
          "data": {
            "image/png": "[encoded data removed]",
            "text/plain": [
              "<Figure size 1440x720 with 2 Axes>"
            ]
          },
          "metadata": {
            "tags": [],
            "needs_background": "light"
          }
        }
      ]
    },
    {
      "cell_type": "code",
      "metadata": {
        "colab": {
          "base_uri": "https://localhost:8080/"
        },
        "id": "i6fcsX5oPjeJ",
        "outputId": "43eb2c0b-f6da-412d-9e0f-579301c4620e"
      },
      "source": [
        "train_loader = torch.utils.data.DataLoader(cifar2, batch_size=64,\n",
        "                                           shuffle=False)\n",
        "\n",
        "correct = 0\n",
        "total = 0\n",
        "\n",
        "with torch.no_grad():\n",
        "    for imgs, labels in train_loader:\n",
        "        outputs = model(imgs.view(imgs.shape[0], -1).to('cuda'))\n",
        "        _, predicted = torch.max(outputs, dim=1)\n",
        "        total += labels.shape[0]\n",
        "        correct += int((predicted == labels.to('cuda')).sum())\n",
        "        \n",
        "print(\"Accuracy: %f\" % (correct / total))"
      ],
      "execution_count": 75,
      "outputs": [
        {
          "output_type": "stream",
          "text": [
            "Accuracy: 0.999000\n"
          ],
          "name": "stdout"
        }
      ]
    },
    {
      "cell_type": "code",
      "metadata": {
        "colab": {
          "base_uri": "https://localhost:8080/"
        },
        "id": "fwAtwCxVPjeK",
        "outputId": "e9cee855-99f0-4710-e20d-a0c93d590661"
      },
      "source": [
        "val_loader = torch.utils.data.DataLoader(cifar2_val, batch_size=64,\n",
        "                                         shuffle=False)\n",
        "\n",
        "correct = 0\n",
        "total = 0\n",
        "\n",
        "with torch.no_grad():\n",
        "    for imgs, labels in val_loader:\n",
        "        outputs = model(imgs.view(imgs.shape[0], -1).to('cuda'))\n",
        "        _, predicted = torch.max(outputs, dim=1)\n",
        "        total += labels.shape[0]\n",
        "        correct += int((predicted == labels.to('cuda')).sum())\n",
        "        \n",
        "print(\"Accuracy: %f\" % (correct / total))"
      ],
      "execution_count": 76,
      "outputs": [
        {
          "output_type": "stream",
          "text": [
            "Accuracy: 0.821500\n"
          ],
          "name": "stdout"
        }
      ]
    },
    {
      "cell_type": "code",
      "metadata": {
        "id": "1JGSG0hNPjeK"
      },
      "source": [
        "# 階層を一つ深くした\n",
        "model = nn.Sequential(\n",
        "            nn.Linear(3072, 1024),\n",
        "            nn.Tanh(),\n",
        "            nn.Linear(1024, 512),\n",
        "            nn.Tanh(),\n",
        "            nn.Linear(512, 128),\n",
        "            nn.Tanh(),\n",
        "            nn.Linear(128, 2),\n",
        "            nn.LogSoftmax(dim=1))\n",
        "\n",
        "loss_fn = nn.NLLLoss()"
      ],
      "execution_count": 77,
      "outputs": []
    },
    {
      "cell_type": "code",
      "metadata": {
        "id": "x2TlHEnKPjeL"
      },
      "source": [
        "# 線形層出力 + nn.CrossEntropyLoss()  ==  LogSoftmax()出力 + nn.NLLLoss()\n",
        "# 書き方が簡単になるが、softmax値である予測確率を取り出せなくなるため注意\n",
        "model = nn.Sequential(\n",
        "            nn.Linear(3072, 1024),\n",
        "            nn.Tanh(),\n",
        "            nn.Linear(1024, 512),\n",
        "            nn.Tanh(),\n",
        "            nn.Linear(512, 128),\n",
        "            nn.Tanh(),\n",
        "            nn.Linear(128, 2))\n",
        "\n",
        "loss_fn = nn.CrossEntropyLoss()"
      ],
      "execution_count": 78,
      "outputs": []
    },
    {
      "cell_type": "code",
      "metadata": {
        "colab": {
          "base_uri": "https://localhost:8080/"
        },
        "id": "gz9ZNLm5PjeL",
        "outputId": "409aaa29-4858-41f5-d3b7-9c255258ca07"
      },
      "source": [
        "import torch\n",
        "import torch.nn as nn\n",
        "import torch.optim as optim\n",
        "\n",
        "train_loader = torch.utils.data.DataLoader(cifar2, batch_size=64,\n",
        "                                           shuffle=True)\n",
        "\n",
        "model = nn.Sequential(\n",
        "            nn.Linear(3072, 1024),\n",
        "            nn.Tanh(),\n",
        "            nn.Linear(1024, 512),\n",
        "            nn.Tanh(),\n",
        "            nn.Linear(512, 128),\n",
        "            nn.Tanh(),\n",
        "            nn.Linear(128, 2))\n",
        "\n",
        "model.to('cuda')\n",
        "\n",
        "learning_rate = 1e-2\n",
        "\n",
        "optimizer = optim.SGD(model.parameters(), lr=learning_rate)\n",
        "\n",
        "loss_fn = nn.CrossEntropyLoss()\n",
        "\n",
        "n_epochs = 100\n",
        "\n",
        "losses = []\n",
        "accs = []\n",
        "\n",
        "for epoch in range(n_epochs):\n",
        "    \n",
        "    running_loss = 0.0\n",
        "    running_acc = 0.0\n",
        "    \n",
        "    for imgs, labels in train_loader:\n",
        "\n",
        "        imgs_gpu = imgs.view(imgs.shape[0], -1).to('cuda')\n",
        "        labels_gpu = torch.tensor(labels).to('cuda')\n",
        "\n",
        "\n",
        "        out = model(imgs_gpu)\n",
        "        loss = loss_fn(out, labels_gpu)\n",
        "\n",
        "        running_loss += loss.item() # .item()で値を取り出してrunning_lossに足す\n",
        "        pred = torch.argmax(out, dim=1) # outputには各分類ラベルに対するスコアが入っているだけの状態なので、最高スコアを取り出す。そのラベルが予測値となる。\n",
        "        running_acc += torch.mean(pred.eq(labels_gpu).float()) # predとラベルが一致した率を計算\n",
        "\n",
        "        running_loss += loss\n",
        "\n",
        "        optimizer.zero_grad()\n",
        "        loss.backward()\n",
        "        optimizer.step()\n",
        "\n",
        "\n",
        "    running_loss /= len(train_loader) # 損失値の平均\n",
        "    running_acc /= len(train_loader) # Accuracyの平均\n",
        "    losses.append(running_loss) # このエポックでのロスをリストに追加\n",
        "    accs.append(running_acc) # このエポックでのaccuracyをリストに追加\n",
        "    print(\"epoch: {}, loss: {}, acc: {}\".format(epoch, running_loss, running_acc))"
      ],
      "execution_count": 81,
      "outputs": [
        {
          "output_type": "stream",
          "text": [
            "/usr/local/lib/python3.7/dist-packages/ipykernel_launcher.py:38: UserWarning: To copy construct from a tensor, it is recommended to use sourceTensor.clone().detach() or sourceTensor.clone().detach().requires_grad_(True), rather than torch.tensor(sourceTensor).\n"
          ],
          "name": "stderr"
        },
        {
          "output_type": "stream",
          "text": [
            "epoch: 0, loss: 1.060393214225769, acc: 0.7524880766868591\n",
            "epoch: 1, loss: 0.9649991989135742, acc: 0.7827428579330444\n",
            "epoch: 2, loss: 0.9316498637199402, acc: 0.7899084687232971\n",
            "epoch: 3, loss: 0.9086350202560425, acc: 0.7979697585105896\n",
            "epoch: 4, loss: 0.8852522969245911, acc: 0.8049362897872925\n",
            "epoch: 5, loss: 0.868069052696228, acc: 0.8114052414894104\n",
            "epoch: 6, loss: 0.8489633798599243, acc: 0.8148885369300842\n",
            "epoch: 7, loss: 0.8373306393623352, acc: 0.8169785141944885\n",
            "epoch: 8, loss: 0.8192648887634277, acc: 0.8221536874771118\n",
            "epoch: 9, loss: 0.8000763654708862, acc: 0.8301154375076294\n",
            "epoch: 10, loss: 0.7884493470191956, acc: 0.8272293210029602\n",
            "epoch: 11, loss: 0.7784499526023865, acc: 0.8294187784194946\n",
            "epoch: 12, loss: 0.7654112577438354, acc: 0.8333997130393982\n",
            "epoch: 13, loss: 0.7526055574417114, acc: 0.8360868096351624\n",
            "epoch: 14, loss: 0.7272356748580933, acc: 0.8436505198478699\n",
            "epoch: 15, loss: 0.7159728407859802, acc: 0.8478304147720337\n",
            "epoch: 16, loss: 0.7085907459259033, acc: 0.849422812461853\n",
            "epoch: 17, loss: 0.695797860622406, acc: 0.8546974658966064\n",
            "epoch: 18, loss: 0.6747018694877625, acc: 0.8596735596656799\n",
            "epoch: 19, loss: 0.6672778725624084, acc: 0.8578822016716003\n",
            "epoch: 20, loss: 0.6560845971107483, acc: 0.8604697585105896\n",
            "epoch: 21, loss: 0.6302192807197571, acc: 0.8700239062309265\n",
            "epoch: 22, loss: 0.6050471067428589, acc: 0.8788813948631287\n",
            "epoch: 23, loss: 0.5928117036819458, acc: 0.8769904375076294\n",
            "epoch: 24, loss: 0.5629908442497253, acc: 0.8855493664741516\n",
            "epoch: 25, loss: 0.5661146640777588, acc: 0.8848527073860168\n",
            "epoch: 26, loss: 0.5341423153877258, acc: 0.8900278806686401\n",
            "epoch: 27, loss: 0.544945478439331, acc: 0.8900278806686401\n",
            "epoch: 28, loss: 0.4966556131839752, acc: 0.9011743664741516\n",
            "epoch: 29, loss: 0.494085431098938, acc: 0.9023686647415161\n",
            "epoch: 30, loss: 0.4686443507671356, acc: 0.909136176109314\n",
            "epoch: 31, loss: 0.43539750576019287, acc: 0.9142118096351624\n",
            "epoch: 32, loss: 0.4741693139076233, acc: 0.9092356562614441\n",
            "epoch: 33, loss: 0.3902580738067627, acc: 0.9305334687232971\n",
            "epoch: 34, loss: 0.400880366563797, acc: 0.9226711988449097\n",
            "epoch: 35, loss: 0.3929486572742462, acc: 0.9253582954406738\n",
            "epoch: 36, loss: 0.3589755892753601, acc: 0.9325239062309265\n",
            "epoch: 37, loss: 0.3410551846027374, acc: 0.9362062215805054\n",
            "epoch: 38, loss: 0.30151841044425964, acc: 0.9458599090576172\n",
            "epoch: 39, loss: 0.3364507853984833, acc: 0.9418789744377136\n",
            "epoch: 40, loss: 0.275492787361145, acc: 0.950039803981781\n",
            "epoch: 41, loss: 0.2960434854030609, acc: 0.946755588054657\n",
            "epoch: 42, loss: 0.22760848701000214, acc: 0.9607882499694824\n",
            "epoch: 43, loss: 0.28326910734176636, acc: 0.9501393437385559\n",
            "epoch: 44, loss: 0.19853432476520538, acc: 0.965167224407196\n",
            "epoch: 45, loss: 0.22242656350135803, acc: 0.9619824886322021\n",
            "epoch: 46, loss: 0.21759407222270966, acc: 0.9676552414894104\n",
            "epoch: 47, loss: 0.21347226202487946, acc: 0.9653662443161011\n",
            "epoch: 48, loss: 0.14563322067260742, acc: 0.9760151505470276\n",
            "epoch: 49, loss: 0.16951341927051544, acc: 0.971337616443634\n",
            "epoch: 50, loss: 0.1425815373659134, acc: 0.9766122698783875\n",
            "epoch: 51, loss: 0.2121599018573761, acc: 0.9689490795135498\n",
            "epoch: 52, loss: 0.12130200862884521, acc: 0.9829816818237305\n",
            "epoch: 53, loss: 0.16917000710964203, acc: 0.9774084687232971\n",
            "epoch: 54, loss: 0.10363025963306427, acc: 0.9850716590881348\n",
            "epoch: 55, loss: 0.15020033717155457, acc: 0.9820860028266907\n",
            "epoch: 56, loss: 0.06891884654760361, acc: 0.990545392036438\n",
            "epoch: 57, loss: 0.19057972729206085, acc: 0.9776074886322021\n",
            "epoch: 58, loss: 0.07165274769067764, acc: 0.9897491931915283\n",
            "epoch: 59, loss: 0.11689962446689606, acc: 0.9853702187538147\n",
            "epoch: 60, loss: 0.05881508067250252, acc: 0.9928343892097473\n",
            "epoch: 61, loss: 0.07439194619655609, acc: 0.990346372127533\n",
            "epoch: 62, loss: 0.1634063571691513, acc: 0.9789012670516968\n",
            "epoch: 63, loss: 0.04265962913632393, acc: 0.9955214858055115\n",
            "epoch: 64, loss: 0.030538596212863922, acc: 0.996715784072876\n",
            "epoch: 65, loss: 0.0273330956697464, acc: 0.9972133636474609\n",
            "epoch: 66, loss: 0.032253801822662354, acc: 0.9959195852279663\n",
            "epoch: 67, loss: 0.15420250594615936, acc: 0.9831807613372803\n",
            "epoch: 68, loss: 0.030863067135214806, acc: 0.9970143437385559\n",
            "epoch: 69, loss: 0.018906833603978157, acc: 0.9982086420059204\n",
            "epoch: 70, loss: 0.09059138596057892, acc: 0.9904458522796631\n",
            "epoch: 71, loss: 0.10678093135356903, acc: 0.987460196018219\n",
            "epoch: 72, loss: 0.025633469223976135, acc: 0.9978105425834656\n",
            "epoch: 73, loss: 0.017039714381098747, acc: 0.9988057613372803\n",
            "epoch: 74, loss: 0.2593408226966858, acc: 0.9794984459877014\n",
            "epoch: 75, loss: 0.023351864889264107, acc: 0.9986066818237305\n",
            "epoch: 76, loss: 0.018352419137954712, acc: 0.9986066818237305\n",
            "epoch: 77, loss: 0.013348964974284172, acc: 0.9991043210029602\n",
            "epoch: 78, loss: 0.014386816881597042, acc: 0.9985072016716003\n",
            "epoch: 79, loss: 0.022232597693800926, acc: 0.9974124431610107\n",
            "epoch: 80, loss: 0.011400366201996803, acc: 0.9990047812461853\n",
            "epoch: 81, loss: 0.01538083516061306, acc: 0.9982086420059204\n",
            "epoch: 82, loss: 0.08427774906158447, acc: 0.9932324886322021\n",
            "epoch: 83, loss: 0.04038358852267265, acc: 0.9952229261398315\n",
            "epoch: 84, loss: 0.010693137533962727, acc: 0.9990047812461853\n",
            "epoch: 85, loss: 0.00998512003570795, acc: 0.9993033409118652\n",
            "epoch: 86, loss: 0.007184165995568037, acc: 0.9997014403343201\n",
            "epoch: 87, loss: 0.006579188164323568, acc: 0.9997014403343201\n",
            "epoch: 88, loss: 0.00783210527151823, acc: 0.9993033409118652\n",
            "epoch: 89, loss: 0.006517923437058926, acc: 0.9996019005775452\n",
            "epoch: 90, loss: 0.007403313182294369, acc: 0.9992038607597351\n",
            "epoch: 91, loss: 0.008308441378176212, acc: 0.9990047812461853\n",
            "epoch: 92, loss: 0.004439936485141516, acc: 1.0\n",
            "epoch: 93, loss: 0.09061425179243088, acc: 0.990744411945343\n",
            "epoch: 94, loss: 0.27087223529815674, acc: 0.9731289744377136\n",
            "epoch: 95, loss: 0.016110695898532867, acc: 0.9993033409118652\n",
            "epoch: 96, loss: 0.01015506312251091, acc: 0.9994028806686401\n",
            "epoch: 97, loss: 0.007581986021250486, acc: 0.9997014403343201\n",
            "epoch: 98, loss: 0.007175656966865063, acc: 0.999502420425415\n",
            "epoch: 99, loss: 0.00597700010985136, acc: 0.999800980091095\n"
          ],
          "name": "stdout"
        }
      ]
    },
    {
      "cell_type": "code",
      "metadata": {
        "id": "TMqSF9Ui7l9g",
        "outputId": "61b85b1a-623a-4bac-bdb2-658381bbd7be",
        "colab": {
          "base_uri": "https://localhost:8080/",
          "height": 515
        }
      },
      "source": [
        "fig, ax = plt.subplots(figsize=(20,10), ncols=2)\n",
        "ax[0].plot(losses)\n",
        "ax[0].grid()\n",
        "ax[1].plot(accs)\n",
        "ax[1].grid()\n",
        "ax[1].set_ylim([0,1])\n",
        ";"
      ],
      "execution_count": 82,
      "outputs": [
        {
          "output_type": "execute_result",
          "data": {
            "application/vnd.google.colaboratory.intrinsic+json": {
              "type": "string"
            },
            "text/plain": [
              "''"
            ]
          },
          "metadata": {
            "tags": []
          },
          "execution_count": 82
        },
        {
          "output_type": "display_data",
          "data": {
            "image/png": "[encoded data removed]",
            "text/plain": [
              "<Figure size 1440x720 with 2 Axes>"
            ]
          },
          "metadata": {
            "tags": [],
            "needs_background": "light"
          }
        }
      ]
    },
    {
      "cell_type": "code",
      "metadata": {
        "colab": {
          "base_uri": "https://localhost:8080/"
        },
        "id": "YoXSZ-kmPjeL",
        "outputId": "a84e9f3d-f0ce-4dd0-da1d-1a1719d4ccdb"
      },
      "source": [
        "# 訓練誤差は殆ど無し\n",
        "train_loader = torch.utils.data.DataLoader(cifar2, batch_size=64,\n",
        "                                           shuffle=False)\n",
        "\n",
        "correct = 0\n",
        "total = 0\n",
        "\n",
        "with torch.no_grad():\n",
        "    for imgs, labels in train_loader:\n",
        "        outputs = model(imgs.view(imgs.shape[0], -1).to('cuda'))\n",
        "        _, predicted = torch.max(outputs, dim=1)\n",
        "        total += labels.shape[0]\n",
        "        correct += int((predicted == labels.to('cuda')).sum())\n",
        "        \n",
        "print(\"Accuracy: %f\" % (correct / total))"
      ],
      "execution_count": 84,
      "outputs": [
        {
          "output_type": "stream",
          "text": [
            "Accuracy: 0.999900\n"
          ],
          "name": "stdout"
        }
      ]
    },
    {
      "cell_type": "code",
      "metadata": {
        "colab": {
          "base_uri": "https://localhost:8080/"
        },
        "id": "T5RE8ps_PjeM",
        "outputId": "06e00963-6fe8-45b1-e4a2-b458e1ea6fb1"
      },
      "source": [
        "# 検証誤差は結構ある\n",
        "val_loader = torch.utils.data.DataLoader(cifar2_val, batch_size=64,\n",
        "                                         shuffle=False)\n",
        "\n",
        "correct = 0\n",
        "total = 0\n",
        "\n",
        "with torch.no_grad():\n",
        "    for imgs, labels in val_loader:\n",
        "        outputs = model(imgs.view(imgs.shape[0], -1).to('cuda'))\n",
        "        _, predicted = torch.max(outputs, dim=1)\n",
        "        total += labels.shape[0]\n",
        "        correct += int((predicted == labels.to('cuda')).sum())\n",
        "        \n",
        "print(\"Accuracy: %f\" % (correct / total))"
      ],
      "execution_count": 85,
      "outputs": [
        {
          "output_type": "stream",
          "text": [
            "Accuracy: 0.803000\n"
          ],
          "name": "stdout"
        }
      ]
    },
    {
      "cell_type": "code",
      "metadata": {
        "id": "M-2TpRoH82hp",
        "outputId": "231d54a0-f781-42ae-ac09-7d954cd2b603",
        "colab": {
          "base_uri": "https://localhost:8080/",
          "height": 164
        }
      },
      "source": [
        "# parameters()はlen()不可\n",
        "len(model.parameters())"
      ],
      "execution_count": 87,
      "outputs": [
        {
          "output_type": "error",
          "ename": "TypeError",
          "evalue": "ignored",
          "traceback": [
            "\u001b[0;31m---------------------------------------------------------------------------\u001b[0m",
            "\u001b[0;31mTypeError\u001b[0m                                 Traceback (most recent call last)",
            "\u001b[0;32m<ipython-input-87-9a90eb8c0a3a>\u001b[0m in \u001b[0;36m<module>\u001b[0;34m()\u001b[0m\n\u001b[0;32m----> 1\u001b[0;31m \u001b[0mlen\u001b[0m\u001b[0;34m(\u001b[0m\u001b[0mmodel\u001b[0m\u001b[0;34m.\u001b[0m\u001b[0mparameters\u001b[0m\u001b[0;34m(\u001b[0m\u001b[0;34m)\u001b[0m\u001b[0;34m)\u001b[0m\u001b[0;34m\u001b[0m\u001b[0;34m\u001b[0m\u001b[0m\n\u001b[0m",
            "\u001b[0;31mTypeError\u001b[0m: object of type 'generator' has no len()"
          ]
        }
      ]
    },
    {
      "cell_type": "code",
      "metadata": {
        "colab": {
          "base_uri": "https://localhost:8080/"
        },
        "id": "TeuRTI6tPjeN",
        "outputId": "cd50785f-3cec-41f2-b4e6-c91fad8e491b"
      },
      "source": [
        "# 直近モデルだと370万パラメータ\n",
        "sum([p.numel() for p in model.parameters()])"
      ],
      "execution_count": 88,
      "outputs": [
        {
          "output_type": "execute_result",
          "data": {
            "text/plain": [
              "3737474"
            ]
          },
          "metadata": {
            "tags": []
          },
          "execution_count": 88
        }
      ]
    },
    {
      "cell_type": "code",
      "metadata": {
        "colab": {
          "base_uri": "https://localhost:8080/"
        },
        "id": "xCQGN0YIPjeO",
        "outputId": "a706879a-d865-4b68-c4bb-e515e854ad64"
      },
      "source": [
        "sum([p.numel() for p in model.parameters() if p.requires_grad == True])"
      ],
      "execution_count": 89,
      "outputs": [
        {
          "output_type": "execute_result",
          "data": {
            "text/plain": [
              "3737474"
            ]
          },
          "metadata": {
            "tags": []
          },
          "execution_count": 89
        }
      ]
    },
    {
      "cell_type": "code",
      "metadata": {
        "colab": {
          "base_uri": "https://localhost:8080/"
        },
        "id": "jYWxb5cMPjeO",
        "outputId": "a2f877ee-d8ff-4933-cba4-9eb2c62b4509"
      },
      "source": [
        "# 最初のモデルだと150万パラメータ\n",
        "first_model = nn.Sequential(\n",
        "                nn.Linear(3072, 512),\n",
        "                nn.Tanh(),\n",
        "                nn.Linear(512, 2),\n",
        "                nn.LogSoftmax(dim=1))\n",
        "\n",
        "sum([p.numel() for p in first_model.parameters()])"
      ],
      "execution_count": 91,
      "outputs": [
        {
          "output_type": "execute_result",
          "data": {
            "text/plain": [
              "1574402"
            ]
          },
          "metadata": {
            "tags": []
          },
          "execution_count": 91
        }
      ]
    },
    {
      "cell_type": "code",
      "metadata": {
        "colab": {
          "base_uri": "https://localhost:8080/"
        },
        "id": "Fd2OYZg8PjeO",
        "outputId": "69635651-09ba-4cc4-d80a-9da33ac0a913"
      },
      "source": [
        "# 最初の層がほとんどのパラメータ数を占める\n",
        "sum([p.numel() for p in nn.Linear(3072, 512).parameters()])"
      ],
      "execution_count": 92,
      "outputs": [
        {
          "output_type": "execute_result",
          "data": {
            "text/plain": [
              "1573376"
            ]
          },
          "metadata": {
            "tags": []
          },
          "execution_count": 92
        }
      ]
    },
    {
      "cell_type": "code",
      "metadata": {
        "colab": {
          "base_uri": "https://localhost:8080/"
        },
        "id": "oaqUNeYDPjeO",
        "outputId": "0b16fb83-3504-4520-f77a-cdbba28c7e3b"
      },
      "source": [
        "sum([p.numel() for p in nn.Linear(3072, 1024).parameters()])"
      ],
      "execution_count": 93,
      "outputs": [
        {
          "output_type": "execute_result",
          "data": {
            "text/plain": [
              "3146752"
            ]
          },
          "metadata": {
            "tags": []
          },
          "execution_count": 93
        }
      ]
    },
    {
      "cell_type": "code",
      "metadata": {
        "id": "cobHE65y-TLZ",
        "outputId": "bb94579a-080a-4ac4-c960-9cf1a85b744f",
        "colab": {
          "base_uri": "https://localhost:8080/"
        }
      },
      "source": [
        "# 1024 x 1024の画像などはGPUメモリ的にキツくなる\n",
        "sum([p.numel() for p in nn.Linear(1024 * 1024, 1024).parameters()])"
      ],
      "execution_count": 94,
      "outputs": [
        {
          "output_type": "execute_result",
          "data": {
            "text/plain": [
              "1073742848"
            ]
          },
          "metadata": {
            "tags": []
          },
          "execution_count": 94
        }
      ]
    },
    {
      "cell_type": "code",
      "metadata": {
        "id": "BiTnWdrAPjeP",
        "outputId": "660f6374-ee2c-4d28-e2b9-21bea208a061"
      },
      "source": [
        "linear = nn.Linear(3072, 1024)\n",
        "\n",
        "linear.weight.shape, linear.bias.shape"
      ],
      "execution_count": null,
      "outputs": [
        {
          "output_type": "execute_result",
          "data": {
            "text/plain": [
              "(torch.Size([1024, 3072]), torch.Size([1024]))"
            ]
          },
          "metadata": {
            "tags": []
          },
          "execution_count": 49
        }
      ]
    },
    {
      "cell_type": "code",
      "metadata": {
        "id": "qktvRNxuPjeP"
      },
      "source": [
        "conv = nn.Conv2d(3, 16, kernel_size=3)"
      ],
      "execution_count": null,
      "outputs": []
    },
    {
      "cell_type": "code",
      "metadata": {
        "id": "YmqBe71RPjeP",
        "outputId": "fbf23fb1-d26b-4c89-9b36-5af436ad6108"
      },
      "source": [
        "conv.weight.shape"
      ],
      "execution_count": null,
      "outputs": [
        {
          "output_type": "execute_result",
          "data": {
            "text/plain": [
              "torch.Size([16, 3, 3, 3])"
            ]
          },
          "metadata": {
            "tags": []
          },
          "execution_count": 51
        }
      ]
    },
    {
      "cell_type": "code",
      "metadata": {
        "id": "dbsCmqEXPjeQ",
        "outputId": "4a6aac35-9835-45b0-9341-a9daf32ae68d"
      },
      "source": [
        "conv.bias.shape"
      ],
      "execution_count": null,
      "outputs": [
        {
          "output_type": "execute_result",
          "data": {
            "text/plain": [
              "torch.Size([16])"
            ]
          },
          "metadata": {
            "tags": []
          },
          "execution_count": 52
        }
      ]
    },
    {
      "cell_type": "code",
      "metadata": {
        "id": "FMbvLcSSPjeQ"
      },
      "source": [
        "img, _ = cifar2[0]\n",
        "\n",
        "output = conv(img.unsqueeze(0))"
      ],
      "execution_count": null,
      "outputs": []
    },
    {
      "cell_type": "code",
      "metadata": {
        "id": "tndH4HeyPjeQ",
        "outputId": "c422667f-dc24-4aa1-fecf-e66ee16c0b79"
      },
      "source": [
        "img.unsqueeze(0).shape, output.shape"
      ],
      "execution_count": null,
      "outputs": [
        {
          "output_type": "execute_result",
          "data": {
            "text/plain": [
              "(torch.Size([1, 3, 32, 32]), torch.Size([1, 16, 30, 30]))"
            ]
          },
          "metadata": {
            "tags": []
          },
          "execution_count": 54
        }
      ]
    },
    {
      "cell_type": "code",
      "metadata": {
        "id": "4vki1XA8PjeQ",
        "outputId": "1d206354-59d8-4b44-b559-4fd8cff2ccc1"
      },
      "source": [
        "plt.imshow(img.permute(1, 2, 0), cmap='gray')\n",
        "plt.show()"
      ],
      "execution_count": null,
      "outputs": [
        {
          "output_type": "stream",
          "text": [
            "Clipping input data to the valid range for imshow with RGB data ([0..1] for floats or [0..255] for integers).\n"
          ],
          "name": "stderr"
        },
        {
          "output_type": "display_data",
          "data": {
            "image/png": "[encoded data removed]",
            "text/plain": [
              "<Figure size 432x288 with 1 Axes>"
            ]
          },
          "metadata": {
            "tags": [],
            "needs_background": "light"
          }
        }
      ]
    },
    {
      "cell_type": "code",
      "metadata": {
        "id": "Z9i0u9j_PjeQ",
        "outputId": "85c85b8e-8981-4ee1-b2c6-7f3d27440759"
      },
      "source": [
        "plt.imshow(output[0, 0].detach(), cmap='gray')\n",
        "plt.show()"
      ],
      "execution_count": null,
      "outputs": [
        {
          "output_type": "display_data",
          "data": {
            "image/png": "[encoded data removed]",
            "text/plain": [
              "<Figure size 432x288 with 1 Axes>"
            ]
          },
          "metadata": {
            "tags": [],
            "needs_background": "light"
          }
        }
      ]
    },
    {
      "cell_type": "code",
      "metadata": {
        "id": "Y9jfU_akPjeR",
        "outputId": "0551eddc-b423-4e03-db5a-bf54f572f53a"
      },
      "source": [
        "output.shape"
      ],
      "execution_count": null,
      "outputs": [
        {
          "output_type": "execute_result",
          "data": {
            "text/plain": [
              "torch.Size([1, 16, 30, 30])"
            ]
          },
          "metadata": {
            "tags": []
          },
          "execution_count": 57
        }
      ]
    },
    {
      "cell_type": "code",
      "metadata": {
        "id": "GhRJxfk_PjeR"
      },
      "source": [
        "conv = nn.Conv2d(3, 1, kernel_size=3, padding=1)"
      ],
      "execution_count": null,
      "outputs": []
    },
    {
      "cell_type": "code",
      "metadata": {
        "id": "9v4G6lHdPjeR",
        "outputId": "44373e6c-dd34-4b9e-dc71-900c363a624e"
      },
      "source": [
        "output = conv(img.unsqueeze(0))\n",
        "\n",
        "output.shape"
      ],
      "execution_count": null,
      "outputs": [
        {
          "output_type": "execute_result",
          "data": {
            "text/plain": [
              "torch.Size([1, 1, 32, 32])"
            ]
          },
          "metadata": {
            "tags": []
          },
          "execution_count": 59
        }
      ]
    },
    {
      "cell_type": "code",
      "metadata": {
        "id": "XfgmmEwIPjeR"
      },
      "source": [
        "with torch.no_grad():\n",
        "    conv.bias.zero_()"
      ],
      "execution_count": null,
      "outputs": []
    },
    {
      "cell_type": "code",
      "metadata": {
        "id": "oSaXW9kUPjeR"
      },
      "source": [
        "with torch.no_grad():\n",
        "    conv.weight.fill_(1.0 / 9.0)"
      ],
      "execution_count": null,
      "outputs": []
    },
    {
      "cell_type": "code",
      "metadata": {
        "id": "a7evyM7yPjeR",
        "outputId": "b7f71458-1684-45b6-a409-b17d7e3f1a7d"
      },
      "source": [
        "output = conv(img.unsqueeze(0))\n",
        "plt.imshow(output[0, 0].detach(), cmap='gray')\n",
        "plt.show()"
      ],
      "execution_count": null,
      "outputs": [
        {
          "output_type": "display_data",
          "data": {
            "image/png": "[encoded data removed]",
            "text/plain": [
              "<Figure size 432x288 with 1 Axes>"
            ]
          },
          "metadata": {
            "tags": [],
            "needs_background": "light"
          }
        }
      ]
    },
    {
      "cell_type": "code",
      "metadata": {
        "id": "1EgoaGIlPjeS"
      },
      "source": [
        "conv = nn.Conv2d(3, 1, kernel_size=3, padding=1)\n",
        "\n",
        "with torch.no_grad():\n",
        "    conv.weight[:] = torch.tensor([[-1.0, 0.0, 1.0],\n",
        "                                   [-1.0, 0.0, 1.0],\n",
        "                                   [-1.0, 0.0, 1.0]])\n",
        "    conv.bias.zero_()"
      ],
      "execution_count": null,
      "outputs": []
    },
    {
      "cell_type": "code",
      "metadata": {
        "id": "h2-Ozve8PjeS",
        "outputId": "298fa1d5-e04a-4363-c5be-3928c84535b2"
      },
      "source": [
        "output = conv(img.unsqueeze(0))\n",
        "plt.imshow(output[0, 0].detach(), cmap='gray')\n",
        "plt.show()"
      ],
      "execution_count": null,
      "outputs": [
        {
          "output_type": "display_data",
          "data": {
            "image/png": "[encoded data removed]",
            "text/plain": [
              "<Figure size 432x288 with 1 Axes>"
            ]
          },
          "metadata": {
            "tags": [],
            "needs_background": "light"
          }
        }
      ]
    },
    {
      "cell_type": "code",
      "metadata": {
        "id": "whB40l69PjeS"
      },
      "source": [
        "pool = nn.MaxPool2d(2)"
      ],
      "execution_count": null,
      "outputs": []
    },
    {
      "cell_type": "code",
      "metadata": {
        "id": "AwO9CkjrPjeS",
        "outputId": "46fa9130-6e61-4a35-ba0e-0dbbe34dcb43"
      },
      "source": [
        "output = pool(img.unsqueeze(0))\n",
        "\n",
        "output.shape"
      ],
      "execution_count": null,
      "outputs": [
        {
          "output_type": "execute_result",
          "data": {
            "text/plain": [
              "torch.Size([1, 3, 16, 16])"
            ]
          },
          "metadata": {
            "tags": []
          },
          "execution_count": 66
        }
      ]
    },
    {
      "cell_type": "code",
      "metadata": {
        "id": "6m57x8LRPjeS",
        "outputId": "53a26c55-ab0f-4195-a86f-2ec7c7711d15"
      },
      "source": [
        "model = nn.Sequential(\n",
        "            nn.Conv2d(3, 16, kernel_size=3, padding=1),\n",
        "            nn.Tanh(),\n",
        "            nn.MaxPool2d(2),\n",
        "            nn.Conv2d(16, 8, kernel_size=3, padding=1),\n",
        "            nn.Tanh(),\n",
        "            nn.MaxPool2d(2),\n",
        "            ...)"
      ],
      "execution_count": null,
      "outputs": [
        {
          "output_type": "error",
          "ename": "TypeError",
          "evalue": "ellipsis is not a Module subclass",
          "traceback": [
            "\u001b[1;31m---------------------------------------------------------------------------\u001b[0m",
            "\u001b[1;31mTypeError\u001b[0m                                 Traceback (most recent call last)",
            "\u001b[1;32m<ipython-input-67-94807a3b1438>\u001b[0m in \u001b[0;36m<module>\u001b[1;34m\u001b[0m\n\u001b[0;32m      6\u001b[0m             \u001b[0mnn\u001b[0m\u001b[1;33m.\u001b[0m\u001b[0mTanh\u001b[0m\u001b[1;33m(\u001b[0m\u001b[1;33m)\u001b[0m\u001b[1;33m,\u001b[0m\u001b[1;33m\u001b[0m\u001b[0m\n\u001b[0;32m      7\u001b[0m             \u001b[0mnn\u001b[0m\u001b[1;33m.\u001b[0m\u001b[0mMaxPool2d\u001b[0m\u001b[1;33m(\u001b[0m\u001b[1;36m2\u001b[0m\u001b[1;33m)\u001b[0m\u001b[1;33m,\u001b[0m\u001b[1;33m\u001b[0m\u001b[0m\n\u001b[1;32m----> 8\u001b[1;33m             ...)\n\u001b[0m",
            "\u001b[1;32m~\\Miniconda3\\envs\\book\\lib\\site-packages\\torch\\nn\\modules\\container.py\u001b[0m in \u001b[0;36m__init__\u001b[1;34m(self, *args)\u001b[0m\n\u001b[0;32m     51\u001b[0m         \u001b[1;32melse\u001b[0m\u001b[1;33m:\u001b[0m\u001b[1;33m\u001b[0m\u001b[0m\n\u001b[0;32m     52\u001b[0m             \u001b[1;32mfor\u001b[0m \u001b[0midx\u001b[0m\u001b[1;33m,\u001b[0m \u001b[0mmodule\u001b[0m \u001b[1;32min\u001b[0m \u001b[0menumerate\u001b[0m\u001b[1;33m(\u001b[0m\u001b[0margs\u001b[0m\u001b[1;33m)\u001b[0m\u001b[1;33m:\u001b[0m\u001b[1;33m\u001b[0m\u001b[0m\n\u001b[1;32m---> 53\u001b[1;33m                 \u001b[0mself\u001b[0m\u001b[1;33m.\u001b[0m\u001b[0madd_module\u001b[0m\u001b[1;33m(\u001b[0m\u001b[0mstr\u001b[0m\u001b[1;33m(\u001b[0m\u001b[0midx\u001b[0m\u001b[1;33m)\u001b[0m\u001b[1;33m,\u001b[0m \u001b[0mmodule\u001b[0m\u001b[1;33m)\u001b[0m\u001b[1;33m\u001b[0m\u001b[0m\n\u001b[0m\u001b[0;32m     54\u001b[0m \u001b[1;33m\u001b[0m\u001b[0m\n\u001b[0;32m     55\u001b[0m     \u001b[1;32mdef\u001b[0m \u001b[0m_get_item_by_idx\u001b[0m\u001b[1;33m(\u001b[0m\u001b[0mself\u001b[0m\u001b[1;33m,\u001b[0m \u001b[0miterator\u001b[0m\u001b[1;33m,\u001b[0m \u001b[0midx\u001b[0m\u001b[1;33m)\u001b[0m\u001b[1;33m:\u001b[0m\u001b[1;33m\u001b[0m\u001b[0m\n",
            "\u001b[1;32m~\\Miniconda3\\envs\\book\\lib\\site-packages\\torch\\nn\\modules\\module.py\u001b[0m in \u001b[0;36madd_module\u001b[1;34m(self, name, module)\u001b[0m\n\u001b[0;32m    171\u001b[0m         \u001b[1;32mif\u001b[0m \u001b[1;32mnot\u001b[0m \u001b[0misinstance\u001b[0m\u001b[1;33m(\u001b[0m\u001b[0mmodule\u001b[0m\u001b[1;33m,\u001b[0m \u001b[0mModule\u001b[0m\u001b[1;33m)\u001b[0m \u001b[1;32mand\u001b[0m \u001b[0mmodule\u001b[0m \u001b[1;32mis\u001b[0m \u001b[1;32mnot\u001b[0m \u001b[1;32mNone\u001b[0m\u001b[1;33m:\u001b[0m\u001b[1;33m\u001b[0m\u001b[0m\n\u001b[0;32m    172\u001b[0m             raise TypeError(\"{} is not a Module subclass\".format(\n\u001b[1;32m--> 173\u001b[1;33m                 torch.typename(module)))\n\u001b[0m\u001b[0;32m    174\u001b[0m         \u001b[1;32melif\u001b[0m \u001b[1;32mnot\u001b[0m \u001b[0misinstance\u001b[0m\u001b[1;33m(\u001b[0m\u001b[0mname\u001b[0m\u001b[1;33m,\u001b[0m \u001b[0mtorch\u001b[0m\u001b[1;33m.\u001b[0m\u001b[0m_six\u001b[0m\u001b[1;33m.\u001b[0m\u001b[0mstring_classes\u001b[0m\u001b[1;33m)\u001b[0m\u001b[1;33m:\u001b[0m\u001b[1;33m\u001b[0m\u001b[0m\n\u001b[0;32m    175\u001b[0m             raise TypeError(\"module name should be a string. Got {}\".format(\n",
            "\u001b[1;31mTypeError\u001b[0m: ellipsis is not a Module subclass"
          ]
        }
      ]
    },
    {
      "cell_type": "code",
      "metadata": {
        "id": "gTM0HgJKPjeT"
      },
      "source": [
        "model = nn.Sequential(\n",
        "            nn.Conv2d(3, 16, kernel_size=3, padding=1),\n",
        "            nn.Tanh(),\n",
        "            nn.MaxPool2d(2),\n",
        "            nn.Conv2d(16, 8, kernel_size=3, padding=1),\n",
        "            nn.Tanh(),\n",
        "            nn.MaxPool2d(2),\n",
        "            # WARNING: something missing here\n",
        "            nn.Linear(512, 32),\n",
        "            nn.Tanh(),\n",
        "            nn.Linear(32, 2))"
      ],
      "execution_count": null,
      "outputs": []
    },
    {
      "cell_type": "code",
      "metadata": {
        "id": "n9Dz8K1JPjeT"
      },
      "source": [
        "sum([p.numel() for p in model.parameters()])"
      ],
      "execution_count": null,
      "outputs": []
    },
    {
      "cell_type": "code",
      "metadata": {
        "id": "_gym9yMJPjeT"
      },
      "source": [
        "model(img.unsqueeze(0))"
      ],
      "execution_count": null,
      "outputs": []
    },
    {
      "cell_type": "code",
      "metadata": {
        "id": "w-2JRMxWPjeT"
      },
      "source": [
        "class Net(nn.Module):\n",
        "    def __init__(self):\n",
        "        super(Net, self).__init__()\n",
        "        self.conv1 = nn.Conv2d(3, 16, kernel_size=3, padding=1)\n",
        "        self.act1 = nn.Tanh()\n",
        "        self.pool1 = nn.MaxPool2d(2)\n",
        "        self.conv2 = nn.Conv2d(16, 8, kernel_size=3, padding=1)\n",
        "        self.act2 = nn.Tanh()\n",
        "        self.pool2 = nn.MaxPool2d(2)\n",
        "        self.fc1 = nn.Linear(8 * 8 * 8, 32)\n",
        "        self.act4 = nn.Tanh()\n",
        "        self.fc2 = nn.Linear(32, 2)\n",
        "\n",
        "    def forward(self, x):\n",
        "        out = self.pool1(self.act1(self.conv1(x)))\n",
        "        out = self.pool2(self.act2(self.conv2(out)))\n",
        "        out = out.view(-1, 8 * 8 * 8)\n",
        "        out = self.act4(self.fc1(out))\n",
        "        out = self.fc2(out)\n",
        "        return out"
      ],
      "execution_count": null,
      "outputs": []
    },
    {
      "cell_type": "code",
      "metadata": {
        "id": "5oYfoP8CPjeT"
      },
      "source": [
        "model = Net()\n",
        "\n",
        "sum([p.numel() for p in model.parameters()])"
      ],
      "execution_count": null,
      "outputs": []
    },
    {
      "cell_type": "code",
      "metadata": {
        "id": "bAO8Rhw9PjeT"
      },
      "source": [
        "import torch.nn.functional as F\n",
        "\n",
        "class Net(nn.Module):\n",
        "    def __init__(self):\n",
        "        super(Net, self).__init__()\n",
        "        self.conv1 = nn.Conv2d(3, 16, kernel_size=3, padding=1)\n",
        "        self.conv2 = nn.Conv2d(16, 8, kernel_size=3, padding=1)\n",
        "        self.fc1 = nn.Linear(8 * 8 * 8, 32)\n",
        "        self.fc2 = nn.Linear(32, 2)\n",
        "        \n",
        "    def forward(self, x):\n",
        "        out = F.max_pool2d(torch.tanh(self.conv1(x)), 2)\n",
        "        out = F.max_pool2d(torch.tanh(self.conv2(out)), 2)\n",
        "        out = out.view(-1, 8 * 8 * 8)\n",
        "        out = torch.tanh(self.fc1(out))\n",
        "        out = self.fc2(out)\n",
        "        return out"
      ],
      "execution_count": null,
      "outputs": []
    },
    {
      "cell_type": "code",
      "metadata": {
        "id": "jeKC-2SQPjeT"
      },
      "source": [
        "model = Net()\n",
        "model(img.unsqueeze(0))"
      ],
      "execution_count": null,
      "outputs": []
    },
    {
      "cell_type": "code",
      "metadata": {
        "id": "Xl4R4YNFPjeT"
      },
      "source": [
        "import torch\n",
        "import torch.nn as nn\n",
        "import torch.nn.functional as F\n",
        "\n",
        "train_loader = torch.utils.data.DataLoader(cifar2, batch_size=64,\n",
        "                                           shuffle=True)\n",
        "\n",
        "class Net(nn.Module):\n",
        "    def __init__(self):\n",
        "        super(Net, self).__init__()\n",
        "        self.conv1 = nn.Conv2d(3, 16, kernel_size=3, padding=1)\n",
        "        self.conv2 = nn.Conv2d(16, 8, kernel_size=3, padding=1)\n",
        "        self.fc1 = nn.Linear(8 * 8 * 8, 32)\n",
        "        self.fc2 = nn.Linear(32, 2)\n",
        "        \n",
        "    def forward(self, x):\n",
        "        out = F.max_pool2d(torch.relu(self.conv1(x)), 2)\n",
        "        out = F.max_pool2d(torch.relu(self.conv2(out)), 2)\n",
        "        out = out.view(-1, 8 * 8 * 8)\n",
        "        out = torch.tanh(self.fc1(out))\n",
        "        out = self.fc2(out)\n",
        "        return out\n",
        "    \n",
        "model = Net()\n",
        "\n",
        "learning_rate = 1e-2\n",
        "\n",
        "optimizer = optim.SGD(model.parameters(), lr=learning_rate)\n",
        "\n",
        "loss_fn = nn.CrossEntropyLoss()\n",
        "\n",
        "n_epochs = 100\n",
        "\n",
        "for epoch in range(n_epochs):\n",
        "    for imgs, labels in train_loader:\n",
        "        outputs = model(imgs)\n",
        "        loss = loss_fn(outputs, labels)\n",
        "                \n",
        "        optimizer.zero_grad()\n",
        "        loss.backward()\n",
        "        optimizer.step()\n",
        "\n",
        "    print(\"Epoch: %d, Loss: %f\" % (epoch, float(loss)))"
      ],
      "execution_count": null,
      "outputs": []
    },
    {
      "cell_type": "code",
      "metadata": {
        "id": "dBVjnlf9PjeU"
      },
      "source": [
        "train_loader = torch.utils.data.DataLoader(cifar2, batch_size=64,\n",
        "                                           shuffle=False)\n",
        "\n",
        "correct = 0\n",
        "total = 0\n",
        "\n",
        "with torch.no_grad():\n",
        "    for imgs, labels in train_loader:\n",
        "        outputs = model(imgs)\n",
        "        _, predicted = torch.max(outputs, dim=1)\n",
        "        total += labels.shape[0]\n",
        "        correct += int((predicted == labels).sum())\n",
        "        \n",
        "print(\"Accuracy: %f\" % (correct / total))"
      ],
      "execution_count": null,
      "outputs": []
    },
    {
      "cell_type": "code",
      "metadata": {
        "id": "hsk1KuzVPjeU"
      },
      "source": [
        "val_loader = torch.utils.data.DataLoader(cifar2_val, batch_size=64,\n",
        "                                         shuffle=False)\n",
        "\n",
        "correct = 0\n",
        "total = 0\n",
        "\n",
        "with torch.no_grad():\n",
        "    for imgs, labels in val_loader:\n",
        "        outputs = model(imgs)\n",
        "        _, predicted = torch.max(outputs, dim=1)\n",
        "        total += labels.shape[0]\n",
        "        correct += int((predicted == labels).sum())\n",
        "        \n",
        "print(\"Accuracy: %f\" % (correct / total))"
      ],
      "execution_count": null,
      "outputs": []
    },
    {
      "cell_type": "code",
      "metadata": {
        "id": "s2rnv1QcPjeU"
      },
      "source": [
        "import torch\n",
        "import torch.nn as nn\n",
        "import torch.nn.functional as F\n",
        "\n",
        "class Net(nn.Module):\n",
        "    def __init__(self):\n",
        "        super(Net, self).__init__()\n",
        "        self.conv1 = nn.Conv2d(3, 16, kernel_size=3, padding=1)\n",
        "        self.conv2 = nn.Conv2d(16, 8, kernel_size=3, padding=1)\n",
        "        self.fc1 = nn.Linear(8 * 8 * 8, 32)\n",
        "        self.fc2 = nn.Linear(32, 2)\n",
        "        \n",
        "    def forward(self, x):\n",
        "        out = F.max_pool2d(torch.relu(self.conv1(x)), 2)\n",
        "        out = F.max_pool2d(torch.relu(self.conv2(out)), 2)\n",
        "        out = out.view(-1, 8 * 8 * 8)\n",
        "        out = torch.tanh(self.fc1(out))\n",
        "        out = self.fc2(out)\n",
        "        return out\n",
        "    \n",
        "model = Net()\n",
        "sum([p.numel() for p in model.parameters()])"
      ],
      "execution_count": null,
      "outputs": []
    },
    {
      "cell_type": "code",
      "metadata": {
        "id": "qZSzdpvhPjeU"
      },
      "source": [
        "model = nn.Sequential(\n",
        "            nn.Conv2d(3, 16, kernel_size=3, padding=1),\n",
        "            nn.Tanh(),\n",
        "            nn.MaxPool2d(2),\n",
        "            nn.Conv2d(16, 8, kernel_size=3, padding=1),\n",
        "            nn.Tanh(),\n",
        "            nn.MaxPool2d(2),\n",
        "            nn.Linear(8*8*8, 32),\n",
        "            nn.Tanh(),\n",
        "            nn.Linear(32, 2))\n",
        "\n",
        "model(img.unsqueeze(0))"
      ],
      "execution_count": null,
      "outputs": []
    }
  ]
}