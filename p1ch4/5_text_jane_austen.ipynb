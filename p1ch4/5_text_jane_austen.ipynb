{
  "nbformat": 4,
  "nbformat_minor": 0,
  "metadata": {
    "kernelspec": {
      "display_name": "Python 3",
      "language": "python",
      "name": "python3"
    },
    "language_info": {
      "codemirror_mode": {
        "name": "ipython",
        "version": 3
      },
      "file_extension": ".py",
      "mimetype": "text/x-python",
      "name": "python",
      "nbconvert_exporter": "python",
      "pygments_lexer": "ipython3",
      "version": "3.7.4-final"
    },
    "pycharm": {
      "stem_cell": {
        "cell_type": "raw",
        "source": [],
        "metadata": {
          "collapsed": false
        }
      }
    },
    "colab": {
      "name": "5_text_jane_austen.ipynb",
      "provenance": [],
      "include_colab_link": true
    }
  },
  "cells": [
    {
      "cell_type": "markdown",
      "metadata": {
        "id": "view-in-github",
        "colab_type": "text"
      },
      "source": [
        "<a href=\"https://colab.research.google.com/github/ishi23/deep-learning-with-pytorch-ja/blob/main/p1ch4/5_text_jane_austen.ipynb\" target=\"_parent\"><img src=\"https://colab.research.google.com/assets/colab-badge.svg\" alt=\"Open In Colab\"/></a>"
      ]
    },
    {
      "cell_type": "code",
      "metadata": {
        "id": "UjcCTgTiNjCP",
        "outputId": "4d7584f7-add7-4153-c1a2-07dd0737d602",
        "colab": {
          "base_uri": "https://localhost:8080/"
        }
      },
      "source": [
        "from google.colab import drive\n",
        "drive.mount('/content/drive')"
      ],
      "execution_count": 1,
      "outputs": [
        {
          "output_type": "stream",
          "text": [
            "Mounted at /content/drive\n"
          ],
          "name": "stdout"
        }
      ]
    },
    {
      "cell_type": "code",
      "metadata": {
        "id": "JjlzAQ6DN0uk",
        "outputId": "74a8bf56-8763-4216-ac9a-39356487b248",
        "colab": {
          "base_uri": "https://localhost:8080/"
        }
      },
      "source": [
        "%cd /content/drive/MyDrive/repos/deep-learning-with-pytorch-ja/p1ch4/"
      ],
      "execution_count": 2,
      "outputs": [
        {
          "output_type": "stream",
          "text": [
            "/content/drive/MyDrive/repos/deep-learning-with-pytorch-ja/p1ch4\n"
          ],
          "name": "stdout"
        }
      ]
    },
    {
      "cell_type": "code",
      "metadata": {
        "id": "WpLlyN_SNgO7"
      },
      "source": [
        "import numpy as np\n",
        "import torch\n",
        "torch.set_printoptions(edgeitems=2, threshold=50)"
      ],
      "execution_count": 3,
      "outputs": []
    },
    {
      "cell_type": "code",
      "metadata": {
        "id": "uPmLHu7LNgPD"
      },
      "source": [
        "with open('../data/p1ch4/jane-austen/1342-0.txt', encoding='utf8') as f:\n",
        "    text = f.read()"
      ],
      "execution_count": 4,
      "outputs": []
    },
    {
      "cell_type": "code",
      "metadata": {
        "id": "8OnTGz6KNgPE",
        "outputId": "9cbd7bf1-5ef7-439d-8f64-3ce07b0aca3e",
        "colab": {
          "base_uri": "https://localhost:8080/",
          "height": 37
        }
      },
      "source": [
        "# 200行目の表示\n",
        "lines = text.split('\\n')\n",
        "line = lines[200]\n",
        "line"
      ],
      "execution_count": 5,
      "outputs": [
        {
          "output_type": "execute_result",
          "data": {
            "application/vnd.google.colaboratory.intrinsic+json": {
              "type": "string"
            },
            "text/plain": [
              "'“Impossible, Mr. Bennet, impossible, when I am not acquainted with him'"
            ]
          },
          "metadata": {
            "tags": []
          },
          "execution_count": 5
        }
      ]
    },
    {
      "cell_type": "code",
      "metadata": {
        "id": "JXMsRzXoNgPF",
        "outputId": "52711d03-07bc-4c36-c20d-75cd1b7c0ebe",
        "colab": {
          "base_uri": "https://localhost:8080/"
        }
      },
      "source": [
        "# ASCIIは1文字を8bit(128パターン)で表現するため1文字あたり128列のワンホットで表現できる\n",
        "letter_t = torch.zeros(len(line), 128) # <1> \n",
        "letter_t.shape"
      ],
      "execution_count": 6,
      "outputs": [
        {
          "output_type": "execute_result",
          "data": {
            "text/plain": [
              "torch.Size([70, 128])"
            ]
          },
          "metadata": {
            "tags": []
          },
          "execution_count": 6
        }
      ]
    },
    {
      "cell_type": "code",
      "metadata": {
        "id": "1EwUzMukNgPG"
      },
      "source": [
        "# lower()で小文字に揃え、strip()で両端の連続する空白文字が取り除かれる\n",
        "for i, letter in enumerate(line.lower().strip()):\n",
        "    letter_index = ord(letter) if ord(letter) < 128 else 0  # 「\"」とかは128に収まらないため除外\n",
        "    letter_t[i][letter_index] = 1"
      ],
      "execution_count": 10,
      "outputs": []
    },
    {
      "cell_type": "code",
      "metadata": {
        "id": "cFW11YLjXBir",
        "outputId": "d04df56e-5648-4b15-946f-612ec9bd5fca",
        "colab": {
          "base_uri": "https://localhost:8080/"
        }
      },
      "source": [
        "# ord()は文字をUnicodeに変換\n",
        "ord('a'), chr(97)"
      ],
      "execution_count": 9,
      "outputs": [
        {
          "output_type": "execute_result",
          "data": {
            "text/plain": [
              "(97, 'a')"
            ]
          },
          "metadata": {
            "tags": []
          },
          "execution_count": 9
        }
      ]
    },
    {
      "cell_type": "code",
      "metadata": {
        "id": "i-O0bvXCNgPG",
        "outputId": "0fcf9e2d-c917-4a17-a9e3-50b71c19db9b",
        "colab": {
          "base_uri": "https://localhost:8080/"
        }
      },
      "source": [
        "# 文字ではなく単語レベルの場合\n",
        "\n",
        "# 単語リストの取得関数\n",
        "def clean_words(input_str):\n",
        "    punctuation = '.,;:\"!?”“_-'\n",
        "    word_list = input_str.lower().replace('\\n',' ').split()\n",
        "    word_list = [word.strip(punctuation) for word in word_list]\n",
        "    return word_list\n",
        "\n",
        "\n",
        "words_in_line = clean_words(line)\n",
        "line, words_in_line"
      ],
      "execution_count": 11,
      "outputs": [
        {
          "output_type": "execute_result",
          "data": {
            "text/plain": [
              "('“Impossible, Mr. Bennet, impossible, when I am not acquainted with him',\n",
              " ['impossible',\n",
              "  'mr',\n",
              "  'bennet',\n",
              "  'impossible',\n",
              "  'when',\n",
              "  'i',\n",
              "  'am',\n",
              "  'not',\n",
              "  'acquainted',\n",
              "  'with',\n",
              "  'him'])"
            ]
          },
          "metadata": {
            "tags": []
          },
          "execution_count": 11
        }
      ]
    },
    {
      "cell_type": "code",
      "metadata": {
        "id": "Ryno-_TINgPH",
        "outputId": "4db24e29-66b4-4368-cb01-3436fa38b767",
        "colab": {
          "base_uri": "https://localhost:8080/"
        }
      },
      "source": [
        "# set()で被りを無くす\n",
        "word_list = sorted(set(clean_words(text)))\n",
        "# 単語に数字を割り当てる\n",
        "word2index_dict = {word: i for (i, word) in enumerate(word_list)}\n",
        "\n",
        "len(word2index_dict), word2index_dict['impossible']"
      ],
      "execution_count": 12,
      "outputs": [
        {
          "output_type": "execute_result",
          "data": {
            "text/plain": [
              "(7261, 3394)"
            ]
          },
          "metadata": {
            "tags": []
          },
          "execution_count": 12
        }
      ]
    },
    {
      "cell_type": "code",
      "metadata": {
        "id": "UqrEISMPNgPH",
        "outputId": "8fa23319-da9b-4b48-9aab-2799599955f3",
        "colab": {
          "base_uri": "https://localhost:8080/"
        }
      },
      "source": [
        "# onehot作成\n",
        "word_t = torch.zeros(len(words_in_line), len(word2index_dict))\n",
        "for i, word in enumerate(words_in_line):\n",
        "    word_index = word2index_dict[word]\n",
        "    word_t[i][word_index] = 1\n",
        "    print('{:2} {:4} {}'.format(i, word_index, word))\n",
        "    \n",
        "print(word_t.shape)\n"
      ],
      "execution_count": 14,
      "outputs": [
        {
          "output_type": "stream",
          "text": [
            " 0 3394 impossible\n",
            " 1 4305 mr\n",
            " 2  813 bennet\n",
            " 3 3394 impossible\n",
            " 4 7078 when\n",
            " 5 3315 i\n",
            " 6  415 am\n",
            " 7 4436 not\n",
            " 8  239 acquainted\n",
            " 9 7148 with\n",
            "10 3215 him\n",
            "torch.Size([11, 7261])\n"
          ],
          "name": "stdout"
        }
      ]
    },
    {
      "cell_type": "code",
      "metadata": {
        "id": "VDxHiyfNNgPI",
        "outputId": "fdb626fd-40a1-4068-97f7-40c5dae59ef9",
        "colab": {
          "base_uri": "https://localhost:8080/"
        }
      },
      "source": [
        "word_t = word_t.unsqueeze(1)\n",
        "word_t.shape"
      ],
      "execution_count": 16,
      "outputs": [
        {
          "output_type": "execute_result",
          "data": {
            "text/plain": [
              "torch.Size([11, 1, 7261])"
            ]
          },
          "metadata": {
            "tags": []
          },
          "execution_count": 16
        }
      ]
    },
    {
      "cell_type": "code",
      "metadata": {
        "id": "ncqbjHNDNgPJ",
        "outputId": "6073aa28-37be-4278-a991-0771fd677522",
        "colab": {
          "base_uri": "https://localhost:8080/"
        }
      },
      "source": [
        "[(c, ord(c)) for c in sorted(set(text))]\n"
      ],
      "execution_count": 17,
      "outputs": [
        {
          "output_type": "execute_result",
          "data": {
            "text/plain": [
              "[('\\n', 10),\n",
              " (' ', 32),\n",
              " ('!', 33),\n",
              " ('#', 35),\n",
              " ('$', 36),\n",
              " ('%', 37),\n",
              " (\"'\", 39),\n",
              " ('(', 40),\n",
              " (')', 41),\n",
              " ('*', 42),\n",
              " (',', 44),\n",
              " ('-', 45),\n",
              " ('.', 46),\n",
              " ('/', 47),\n",
              " ('0', 48),\n",
              " ('1', 49),\n",
              " ('2', 50),\n",
              " ('3', 51),\n",
              " ('4', 52),\n",
              " ('5', 53),\n",
              " ('6', 54),\n",
              " ('7', 55),\n",
              " ('8', 56),\n",
              " ('9', 57),\n",
              " (':', 58),\n",
              " (';', 59),\n",
              " ('?', 63),\n",
              " ('@', 64),\n",
              " ('A', 65),\n",
              " ('B', 66),\n",
              " ('C', 67),\n",
              " ('D', 68),\n",
              " ('E', 69),\n",
              " ('F', 70),\n",
              " ('G', 71),\n",
              " ('H', 72),\n",
              " ('I', 73),\n",
              " ('J', 74),\n",
              " ('K', 75),\n",
              " ('L', 76),\n",
              " ('M', 77),\n",
              " ('N', 78),\n",
              " ('O', 79),\n",
              " ('P', 80),\n",
              " ('Q', 81),\n",
              " ('R', 82),\n",
              " ('S', 83),\n",
              " ('T', 84),\n",
              " ('U', 85),\n",
              " ('V', 86),\n",
              " ('W', 87),\n",
              " ('X', 88),\n",
              " ('Y', 89),\n",
              " ('Z', 90),\n",
              " ('[', 91),\n",
              " (']', 93),\n",
              " ('_', 95),\n",
              " ('a', 97),\n",
              " ('b', 98),\n",
              " ('c', 99),\n",
              " ('d', 100),\n",
              " ('e', 101),\n",
              " ('f', 102),\n",
              " ('g', 103),\n",
              " ('h', 104),\n",
              " ('i', 105),\n",
              " ('j', 106),\n",
              " ('k', 107),\n",
              " ('l', 108),\n",
              " ('m', 109),\n",
              " ('n', 110),\n",
              " ('o', 111),\n",
              " ('p', 112),\n",
              " ('q', 113),\n",
              " ('r', 114),\n",
              " ('s', 115),\n",
              " ('t', 116),\n",
              " ('u', 117),\n",
              " ('v', 118),\n",
              " ('w', 119),\n",
              " ('x', 120),\n",
              " ('y', 121),\n",
              " ('z', 122),\n",
              " ('“', 8220),\n",
              " ('”', 8221),\n",
              " ('\\ufeff', 65279)]"
            ]
          },
          "metadata": {
            "tags": []
          },
          "execution_count": 17
        }
      ]
    },
    {
      "cell_type": "code",
      "metadata": {
        "id": "OXK_RoXqNgPK",
        "outputId": "0b261a35-8da4-4ffc-bab2-90ecefa23d3a",
        "colab": {
          "base_uri": "https://localhost:8080/"
        }
      },
      "source": [
        "ord('l'\n",
        "   )"
      ],
      "execution_count": 18,
      "outputs": [
        {
          "output_type": "execute_result",
          "data": {
            "text/plain": [
              "108"
            ]
          },
          "metadata": {
            "tags": []
          },
          "execution_count": 18
        }
      ]
    },
    {
      "cell_type": "code",
      "metadata": {
        "id": "20-5dYrtgeuV"
      },
      "source": [
        ""
      ],
      "execution_count": null,
      "outputs": []
    }
  ]
}