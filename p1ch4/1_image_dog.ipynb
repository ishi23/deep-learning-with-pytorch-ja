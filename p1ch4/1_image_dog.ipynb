{
  "nbformat": 4,
  "nbformat_minor": 0,
  "metadata": {
    "kernelspec": {
      "display_name": "Python 3",
      "language": "python",
      "name": "python3"
    },
    "language_info": {
      "codemirror_mode": {
        "name": "ipython",
        "version": 3
      },
      "file_extension": ".py",
      "mimetype": "text/x-python",
      "name": "python",
      "nbconvert_exporter": "python",
      "pygments_lexer": "ipython3",
      "version": "3.7.4-final"
    },
    "colab": {
      "name": "1_image_dog.ipynb",
      "provenance": [],
      "collapsed_sections": [],
      "include_colab_link": true
    }
  },
  "cells": [
    {
      "cell_type": "markdown",
      "metadata": {
        "id": "view-in-github",
        "colab_type": "text"
      },
      "source": [
        "<a href=\"https://colab.research.google.com/github/ishi23/deep-learning-with-pytorch-ja/blob/main/p1ch4/1_image_dog.ipynb\" target=\"_parent\"><img src=\"https://colab.research.google.com/assets/colab-badge.svg\" alt=\"Open In Colab\"/></a>"
      ]
    },
    {
      "cell_type": "markdown",
      "metadata": {
        "id": "IZqa_xxAMt3-"
      },
      "source": [
        "## 日本語版\n",
        "※ ここではGoogle Colaraboratoryでの実行を想定しています。"
      ]
    },
    {
      "cell_type": "code",
      "metadata": {
        "id": "uzdc_u_hqaXf",
        "outputId": "9e3ea1ee-677d-482d-f524-fce1d9cd70a5",
        "colab": {
          "base_uri": "https://localhost:8080/"
        }
      },
      "source": [
        "from google.colab import drive\n",
        "drive.mount('/content/drive')\n",
        "%cd /content/drive/MyDrive/repos/deep-learning-with-pytorch-ja/"
      ],
      "execution_count": 3,
      "outputs": [
        {
          "output_type": "stream",
          "text": [
            "Drive already mounted at /content/drive; to attempt to forcibly remount, call drive.mount(\"/content/drive\", force_remount=True).\n",
            "/content/drive/MyDrive/repos/deep-learning-with-pytorch-ja\n"
          ],
          "name": "stdout"
        }
      ]
    },
    {
      "cell_type": "code",
      "metadata": {
        "id": "yFAFQOD-Mo8h"
      },
      "source": [
        "import numpy as np\n",
        "import torch\n",
        "# tensorのprint表示の大きさを指定\n",
        "torch.set_printoptions(edgeitems=2, threshold=50)"
      ],
      "execution_count": 5,
      "outputs": []
    },
    {
      "cell_type": "code",
      "metadata": {
        "id": "40ov0x-rMo8m",
        "colab": {
          "base_uri": "https://localhost:8080/"
        },
        "outputId": "b8cca3c4-773d-4391-a777-49d38da27354"
      },
      "source": [
        "# 画像の取り込み\n",
        "import imageio\n",
        "\n",
        "# GitHubのリポジトリから実行の場合\n",
        "img_arr = imageio.imread('data/p1ch4/image-dog/bobby.jpg')\n",
        "\n",
        "# Google Colaboratoryの場合\n",
        "# /data/p1ch4/image-dog/bobby.jpgを選択・アップロードしてください\n",
        "# from google.colab import files\n",
        "\n",
        "# uploade = files.upload()\n",
        "# img_arr = imageio.imread('bobby.jpg')\n",
        "\n",
        "img_arr.shape  # (720, 1280, 3)\n"
      ],
      "execution_count": 7,
      "outputs": [
        {
          "output_type": "execute_result",
          "data": {
            "text/plain": [
              "(720, 1280, 3)"
            ]
          },
          "metadata": {
            "tags": []
          },
          "execution_count": 7
        }
      ]
    },
    {
      "cell_type": "code",
      "metadata": {
        "id": "0vhqIzg7sJ1r",
        "outputId": "0d3e26f8-cfa3-40d4-9b1b-25e64515150a",
        "colab": {
          "base_uri": "https://localhost:8080/"
        }
      },
      "source": [
        "type(img_arr)"
      ],
      "execution_count": 8,
      "outputs": [
        {
          "output_type": "execute_result",
          "data": {
            "text/plain": [
              "imageio.core.util.Array"
            ]
          },
          "metadata": {
            "tags": []
          },
          "execution_count": 8
        }
      ]
    },
    {
      "cell_type": "code",
      "metadata": {
        "id": "FK5XBL1iMo8q"
      },
      "source": [
        "img = torch.from_numpy(img_arr)\n",
        "# H x W x C -> C x H x W\n",
        "# ストレージ上の書き換えはなく、サイズとストライドの情報の更新がされただけであることに注意\n",
        "out = img.permute(2, 0, 1)"
      ],
      "execution_count": 9,
      "outputs": []
    },
    {
      "cell_type": "code",
      "metadata": {
        "id": "nRCnpuK_Mo8s"
      },
      "source": [
        "batch_size = 3\n",
        "# 256 x 256 x 3の画像を[batck_size]枚、uint8で入れるためのバッチを準備\n",
        "# ここにbatch_size枚の画像を入れるとバッチテンソルが完成する\n",
        "batch = torch.zeros(batch_size, 3, 256, 256, dtype=torch.uint8)"
      ],
      "execution_count": 11,
      "outputs": []
    },
    {
      "cell_type": "code",
      "metadata": {
        "scrolled": true,
        "id": "CcwpkvwxMo8w",
        "colab": {
          "base_uri": "https://localhost:8080/"
        },
        "outputId": "840b8bb9-0bc5-480e-b4da-ca7927ab7ba9"
      },
      "source": [
        "import os\n",
        "\n",
        "data_dir = 'data/p1ch4/image-cats/'\n",
        "# data_dirからpngファイル名をリスト化\n",
        "filenames = [name for name in os.listdir(data_dir)\n",
        "             if os.path.splitext(name)[-1] == '.png']\n",
        "\n",
        "# batch_sizeと同じでないと\n",
        "print(len(filenames))\n",
        "\n",
        "for i, filename in enumerate(filenames):\n",
        "    img_arr = imageio.imread(os.path.join(data_dir, filename))  # ファイルの読み込み\n",
        "    img_t = torch.from_numpy(img_arr)  # テンソル化\n",
        "    img_t = img_t.permute(2, 0, 1)  # CHW化\n",
        "    img_t = img_t[:3]  # <1>\n",
        "    batch[i] = img_t # バッチに格納\n",
        "\n",
        "# <1> \n",
        "# ここでは前から3次元を取得するように指定しています。\n",
        "# これは画像によっては透明度を表すアルファ値が4次元目にあるからです"
      ],
      "execution_count": 12,
      "outputs": [
        {
          "output_type": "stream",
          "text": [
            "3\n"
          ],
          "name": "stdout"
        }
      ]
    },
    {
      "cell_type": "code",
      "metadata": {
        "id": "4QU9cJDCMo8z"
      },
      "source": [
        "# 0-1に正規化\n",
        "batch = batch.float()\n",
        "batch /= 255.0"
      ],
      "execution_count": 13,
      "outputs": []
    },
    {
      "cell_type": "code",
      "metadata": {
        "id": "pPXOJRi-Mo83"
      },
      "source": [
        "# AVE 0 STD 1 に標準化\n",
        "n_channels = batch.shape[1]\n",
        "for c in range(n_channels):\n",
        "    mean = torch.mean(batch[:, c])\n",
        "    std = torch.std(batch[:, c])\n",
        "    batch[:, c] = (batch[:, c] - mean) / std"
      ],
      "execution_count": 14,
      "outputs": []
    },
    {
      "cell_type": "markdown",
      "metadata": {
        "id": "J94QB8ENV60c"
      },
      "source": [
        "以上。"
      ]
    }
  ]
}