{
  "nbformat": 4,
  "nbformat_minor": 0,
  "metadata": {
    "kernelspec": {
      "display_name": "Python 3",
      "language": "python",
      "name": "python3"
    },
    "language_info": {
      "codemirror_mode": {
        "name": "ipython",
        "version": 3
      },
      "file_extension": ".py",
      "mimetype": "text/x-python",
      "name": "python",
      "nbconvert_exporter": "python",
      "pygments_lexer": "ipython3",
      "version": "3.6.6"
    },
    "colab": {
      "name": "X_video_cockatoo.ipynb",
      "provenance": [],
      "toc_visible": true,
      "include_colab_link": true
    }
  },
  "cells": [
    {
      "cell_type": "markdown",
      "metadata": {
        "id": "view-in-github",
        "colab_type": "text"
      },
      "source": [
        "<a href=\"https://colab.research.google.com/github/ishi23/deep-learning-with-pytorch-ja/blob/main/p1ch4/X_video_cockatoo.ipynb\" target=\"_parent\"><img src=\"https://colab.research.google.com/assets/colab-badge.svg\" alt=\"Open In Colab\"/></a>"
      ]
    },
    {
      "cell_type": "markdown",
      "metadata": {
        "id": "SgVtfd84Whfm"
      },
      "source": [
        "Video\n",
        "===="
      ]
    },
    {
      "cell_type": "code",
      "metadata": {
        "id": "U41D0XWCX1SK",
        "outputId": "38eac147-ec8e-4549-facb-8565b900aed3",
        "colab": {
          "base_uri": "https://localhost:8080/"
        }
      },
      "source": [
        "from google.colab import drive\n",
        "drive.mount('/content/drive')"
      ],
      "execution_count": 1,
      "outputs": [
        {
          "output_type": "stream",
          "text": [
            "Mounted at /content/drive\n"
          ],
          "name": "stdout"
        }
      ]
    },
    {
      "cell_type": "code",
      "metadata": {
        "id": "UFrOPnW0X9-5",
        "outputId": "eac4e8a5-016c-4146-b1da-e14720a5a5e7",
        "colab": {
          "base_uri": "https://localhost:8080/"
        }
      },
      "source": [
        "%cd /content/drive/MyDrive/repos/deep-learning-with-pytorch-ja/p1ch4/"
      ],
      "execution_count": 2,
      "outputs": [
        {
          "output_type": "stream",
          "text": [
            "/content/drive/MyDrive/repos/deep-learning-with-pytorch-ja/p1ch4\n"
          ],
          "name": "stdout"
        }
      ]
    },
    {
      "cell_type": "code",
      "metadata": {
        "id": "w51DQVXgWhft"
      },
      "source": [
        "import numpy as np\n",
        "import torch\n",
        "torch.set_printoptions(edgeitems=2, threshold=50)"
      ],
      "execution_count": 3,
      "outputs": []
    },
    {
      "cell_type": "markdown",
      "metadata": {
        "id": "Jv93PxhTWhfv"
      },
      "source": [
        "When it comes to the shape of tensors, video data can be seen as equivalent to volumetric data, with `depth` replaced by the `time` dimension. The result is again a 5D tensor with shape `N x C x T x H x W`.\n",
        "\n",
        "There are several formats for video, especially geared towards compression by exploiting redundancies in space and time. Luckily for us, `imageio` reads video data as well. Suppose we'd like to retain 100 consecutive frames in our 512 x 512 RBG video for classifying an action using a convolutional neural network. We first create a reader instance for the video, that will allow us to get information about the video and iterate over the frames in time.\n",
        "Let's see what the meta data for the video looks like:"
      ]
    },
    {
      "cell_type": "code",
      "metadata": {
        "id": "lW2ieUqJWhfv",
        "outputId": "6d8625a4-1b4c-45a2-f55d-e113cc104502",
        "colab": {
          "base_uri": "https://localhost:8080/"
        }
      },
      "source": [
        "import imageio\n",
        "# 動画データの読み込み\n",
        "reader = imageio.get_reader('../data/p1ch4/video-cockatoo/cockatoo.mp4')\n",
        "meta = reader.get_meta_data()\n",
        "meta"
      ],
      "execution_count": 4,
      "outputs": [
        {
          "output_type": "execute_result",
          "data": {
            "text/plain": [
              "{'duration': 14.0,\n",
              " 'ffmpeg_version': '3.4.8-0ubuntu0.2 built with gcc 7 (Ubuntu 7.5.0-3ubuntu1~18.04)',\n",
              " 'fps': 20.0,\n",
              " 'nframes': 280,\n",
              " 'plugin': 'ffmpeg',\n",
              " 'size': (1280, 720),\n",
              " 'source_size': (1280, 720)}"
            ]
          },
          "metadata": {
            "tags": []
          },
          "execution_count": 4
        }
      ]
    },
    {
      "cell_type": "code",
      "metadata": {
        "id": "dllELFRqkF4y",
        "outputId": "0dd0c5be-bc6c-4515-c889-12e37a6beecf",
        "colab": {
          "base_uri": "https://localhost:8080/"
        }
      },
      "source": [
        "# readerの中身：W x H x C の画像が全フレーム分入っている\n",
        "from pprint import pprint\n",
        "for i, read in enumerate(reader):\n",
        "    pprint([read.shape, type(read), read])\n",
        "    if i == 0:\n",
        "        break"
      ],
      "execution_count": 17,
      "outputs": [
        {
          "output_type": "stream",
          "text": [
            "[(720, 1280, 3),\n",
            " <class 'imageio.core.util.Array'>,\n",
            " Array([[[116, 119, 104],\n",
            "        [116, 119, 104],\n",
            "        [116, 119, 104],\n",
            "        ...,\n",
            "        [ 33,  29,  28],\n",
            "        [ 33,  29,  28],\n",
            "        [ 33,  29,  28]],\n",
            "\n",
            "       [[116, 119, 104],\n",
            "        [116, 119, 104],\n",
            "        [116, 119, 104],\n",
            "        ...,\n",
            "        [ 33,  29,  28],\n",
            "        [ 33,  29,  28],\n",
            "        [ 33,  29,  28]],\n",
            "\n",
            "       [[116, 119, 104],\n",
            "        [116, 119, 104],\n",
            "        [116, 119, 104],\n",
            "        ...,\n",
            "        [ 33,  29,  28],\n",
            "        [ 33,  29,  28],\n",
            "        [ 33,  29,  28]],\n",
            "\n",
            "       ...,\n",
            "\n",
            "       [[172, 166, 143],\n",
            "        [175, 170, 147],\n",
            "        [180, 175, 151],\n",
            "        ...,\n",
            "        [ 48,  47,  52],\n",
            "        [ 48,  47,  52],\n",
            "        [ 48,  47,  52]],\n",
            "\n",
            "       [[172, 166, 143],\n",
            "        [175, 170, 147],\n",
            "        [180, 175, 151],\n",
            "        ...,\n",
            "        [ 48,  47,  52],\n",
            "        [ 48,  47,  52],\n",
            "        [ 48,  47,  52]],\n",
            "\n",
            "       [[172, 166, 143],\n",
            "        [175, 170, 147],\n",
            "        [180, 175, 151],\n",
            "        ...,\n",
            "        [ 48,  47,  52],\n",
            "        [ 48,  47,  52],\n",
            "        [ 48,  47,  52]]], dtype=uint8)]\n"
          ],
          "name": "stdout"
        }
      ]
    },
    {
      "cell_type": "markdown",
      "metadata": {
        "id": "ufQ8rEz_Whfx"
      },
      "source": [
        "We now have all the information to size the tensor that will store the video frames:"
      ]
    },
    {
      "cell_type": "code",
      "metadata": {
        "id": "NjUVylMMWhfx",
        "outputId": "b11fccc9-e131-438d-b081-e1bc7f25f43a",
        "colab": {
          "base_uri": "https://localhost:8080/"
        }
      },
      "source": [
        "# Tensor化用の入れ者準備\n",
        "n_channels = 3\n",
        "n_frames = meta['nframes']\n",
        "video = torch.empty(n_channels, n_frames, *meta['size'])\n",
        "# Tensor C x T x H x W\n",
        "video.shape"
      ],
      "execution_count": 5,
      "outputs": [
        {
          "output_type": "execute_result",
          "data": {
            "text/plain": [
              "torch.Size([3, 280, 1280, 720])"
            ]
          },
          "metadata": {
            "tags": []
          },
          "execution_count": 5
        }
      ]
    },
    {
      "cell_type": "markdown",
      "metadata": {
        "id": "9XqtDTmAWhfy"
      },
      "source": [
        "Now we just iterate over the reader and set the values for all three channels into in the proper `i`-th time slice.\n",
        "This might take a few seconds to finish!"
      ]
    },
    {
      "cell_type": "code",
      "metadata": {
        "id": "3jVsbEuamha7",
        "outputId": "329b2686-36ed-4e31-d29e-4991944e5195",
        "colab": {
          "base_uri": "https://localhost:8080/"
        }
      },
      "source": [
        "video[:,0].shape"
      ],
      "execution_count": 21,
      "outputs": [
        {
          "output_type": "execute_result",
          "data": {
            "text/plain": [
              "torch.Size([3, 1280, 720])"
            ]
          },
          "metadata": {
            "tags": []
          },
          "execution_count": 21
        }
      ]
    },
    {
      "cell_type": "code",
      "metadata": {
        "id": "isOxHmLFWhfy"
      },
      "source": [
        "# 用意した箱の中身をframeで上書き\n",
        "for i, frame_arr in enumerate(reader):\n",
        "    frame = torch.from_numpy(frame_arr).float()\n",
        "    video[:, i] = torch.transpose(frame, 0, 2)  # WHC -> CHW"
      ],
      "execution_count": 23,
      "outputs": []
    },
    {
      "cell_type": "code",
      "metadata": {
        "id": "9LKbU8G2pbCM",
        "outputId": "b9879fce-c4d4-4c3d-bb9f-14ab4b8ef28f",
        "colab": {
          "base_uri": "https://localhost:8080/"
        }
      },
      "source": [
        "video.shape  # C x T x H x W"
      ],
      "execution_count": 26,
      "outputs": [
        {
          "output_type": "execute_result",
          "data": {
            "text/plain": [
              "torch.Size([3, 280, 1280, 720])"
            ]
          },
          "metadata": {
            "tags": []
          },
          "execution_count": 26
        }
      ]
    },
    {
      "cell_type": "markdown",
      "metadata": {
        "id": "MhCB-HABWhfz"
      },
      "source": [
        "In the above, we iterate over individual frames and set each frame in the `C x T x H x W` video tensor, after transposing the channel. We can then obtain a batch by stacking multiple 4D tensors or pre-allocating a 5D tensor with a known batch size and filling it iteratively, clip by clip, assuming clips are trimmed to a fixed number of frames.\n",
        "\n",
        "Equating video data to volumetric data is not the only way to represent video for training purposes. This is a valid strategy if we deal with video bursts of fixed length. An alternative strategy is to resort to network architectures capable of processing long sequences and exploiting short and long-term relationships in time, just like for text or audio.\n",
        "// We'll see this kind of architectures when we take on recurrent networks.\n",
        "\n",
        "This next approach accounts for time along the batch dimension. Hence, we'll build our dataset as a 4D tensor, stacking frame by frame in the batch:\n"
      ]
    },
    {
      "cell_type": "code",
      "metadata": {
        "id": "WBWmbiPKWhfz",
        "outputId": "be1dc62f-d3f1-4119-ef4d-7e3a08dd1703",
        "colab": {
          "base_uri": "https://localhost:8080/"
        }
      },
      "source": [
        "time_video = torch.empty(n_frames, n_channels, *meta['size'])\n",
        "\n",
        "for i, frame in enumerate(reader):\n",
        "    frame = torch.from_numpy(frame).float()\n",
        "    time_video[i] = torch.transpose(frame, 0, 2)\n",
        "\n",
        "time_video.shape  # T x C x H x W"
      ],
      "execution_count": 24,
      "outputs": [
        {
          "output_type": "execute_result",
          "data": {
            "text/plain": [
              "torch.Size([280, 3, 1280, 720])"
            ]
          },
          "metadata": {
            "tags": []
          },
          "execution_count": 24
        }
      ]
    },
    {
      "cell_type": "code",
      "metadata": {
        "id": "D-ymKyGbpQrU",
        "outputId": "c7a19f3f-ee11-430a-82bc-4b46cf8f585d",
        "colab": {
          "base_uri": "https://localhost:8080/"
        }
      },
      "source": [
        "(video == time_video.transpose(1,0)).all()"
      ],
      "execution_count": 28,
      "outputs": [
        {
          "output_type": "execute_result",
          "data": {
            "text/plain": [
              "tensor(True)"
            ]
          },
          "metadata": {
            "tags": []
          },
          "execution_count": 28
        }
      ]
    },
    {
      "cell_type": "code",
      "metadata": {
        "id": "FiRUUJIipVIT"
      },
      "source": [
        ""
      ],
      "execution_count": null,
      "outputs": []
    }
  ]
}