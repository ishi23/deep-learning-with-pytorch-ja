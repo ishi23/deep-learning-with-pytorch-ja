{
  "nbformat": 4,
  "nbformat_minor": 0,
  "metadata": {
    "kernelspec": {
      "display_name": "Python 3",
      "language": "python",
      "name": "python3"
    },
    "language_info": {
      "codemirror_mode": {
        "name": "ipython",
        "version": 3
      },
      "file_extension": ".py",
      "mimetype": "text/x-python",
      "name": "python",
      "nbconvert_exporter": "python",
      "pygments_lexer": "ipython3",
      "version": "3.6.6"
    },
    "colab": {
      "name": "1_tensors.ipynb",
      "provenance": [],
      "toc_visible": true,
      "include_colab_link": true
    },
    "accelerator": "GPU"
  },
  "cells": [
    {
      "cell_type": "markdown",
      "metadata": {
        "id": "view-in-github",
        "colab_type": "text"
      },
      "source": [
        "<a href=\"https://colab.research.google.com/github/ishi23/deep-learning-with-pytorch-ja/blob/main/p1ch3/1_tensors.ipynb\" target=\"_parent\"><img src=\"https://colab.research.google.com/assets/colab-badge.svg\" alt=\"Open In Colab\"/></a>"
      ]
    },
    {
      "cell_type": "markdown",
      "metadata": {
        "id": "i_323_nkmkhP"
      },
      "source": [
        "# テンソル基礎"
      ]
    },
    {
      "cell_type": "code",
      "metadata": {
        "id": "OLBRRlNzmgNl"
      },
      "source": [
        "a = [1.0, 2.0, 1.0]"
      ],
      "execution_count": 2,
      "outputs": []
    },
    {
      "cell_type": "code",
      "metadata": {
        "id": "wXwNSZwEmgN2",
        "outputId": "98734573-f872-4ee0-d1cc-caded7d4048c",
        "colab": {
          "base_uri": "https://localhost:8080/"
        }
      },
      "source": [
        "a[0]"
      ],
      "execution_count": 3,
      "outputs": [
        {
          "output_type": "execute_result",
          "data": {
            "text/plain": [
              "1.0"
            ]
          },
          "metadata": {
            "tags": []
          },
          "execution_count": 3
        }
      ]
    },
    {
      "cell_type": "code",
      "metadata": {
        "id": "mKw6boO4mgN4",
        "outputId": "3b025de0-a4ea-408c-8510-bec7e547b547",
        "colab": {
          "base_uri": "https://localhost:8080/"
        }
      },
      "source": [
        "a[2] = 3.0\n",
        "a"
      ],
      "execution_count": 4,
      "outputs": [
        {
          "output_type": "execute_result",
          "data": {
            "text/plain": [
              "[1.0, 2.0, 3.0]"
            ]
          },
          "metadata": {
            "tags": []
          },
          "execution_count": 4
        }
      ]
    },
    {
      "cell_type": "code",
      "metadata": {
        "id": "nG4vez4gmgN5",
        "outputId": "1c5497dc-b826-47a3-d2b8-3cacc71f2d5f",
        "colab": {
          "base_uri": "https://localhost:8080/"
        }
      },
      "source": [
        "import torch # <1>\n",
        "a = torch.ones(3) # <2>\n",
        "a"
      ],
      "execution_count": 5,
      "outputs": [
        {
          "output_type": "execute_result",
          "data": {
            "text/plain": [
              "tensor([1., 1., 1.])"
            ]
          },
          "metadata": {
            "tags": []
          },
          "execution_count": 5
        }
      ]
    },
    {
      "cell_type": "code",
      "metadata": {
        "id": "6wspgkxQmgN6",
        "outputId": "649ed1fc-9ba0-4e0b-f7e5-5d162d2e778d",
        "colab": {
          "base_uri": "https://localhost:8080/"
        }
      },
      "source": [
        "a[1]"
      ],
      "execution_count": 6,
      "outputs": [
        {
          "output_type": "execute_result",
          "data": {
            "text/plain": [
              "tensor(1.)"
            ]
          },
          "metadata": {
            "tags": []
          },
          "execution_count": 6
        }
      ]
    },
    {
      "cell_type": "code",
      "metadata": {
        "id": "2P46HrlhmgN6",
        "outputId": "5c9334d5-3e51-4d1a-e61c-7f0eeb5ecbd2",
        "colab": {
          "base_uri": "https://localhost:8080/"
        }
      },
      "source": [
        "float(a[1])"
      ],
      "execution_count": 7,
      "outputs": [
        {
          "output_type": "execute_result",
          "data": {
            "text/plain": [
              "1.0"
            ]
          },
          "metadata": {
            "tags": []
          },
          "execution_count": 7
        }
      ]
    },
    {
      "cell_type": "code",
      "metadata": {
        "id": "-bK9TzwNmgN7",
        "outputId": "844d5b86-f3a9-4784-9788-e4898b1e70d0",
        "colab": {
          "base_uri": "https://localhost:8080/"
        }
      },
      "source": [
        "a[2] = 2.0\n",
        "a"
      ],
      "execution_count": 8,
      "outputs": [
        {
          "output_type": "execute_result",
          "data": {
            "text/plain": [
              "tensor([1., 1., 2.])"
            ]
          },
          "metadata": {
            "tags": []
          },
          "execution_count": 8
        }
      ]
    },
    {
      "cell_type": "code",
      "metadata": {
        "id": "y2fVttErmgN8"
      },
      "source": [
        "points = torch.zeros(6) # <1>\n",
        "points[0] = 4.0 # <2>\n",
        "points[1] = 1.0\n",
        "points[2] = 5.0\n",
        "points[3] = 3.0\n",
        "points[4] = 2.0\n",
        "points[5] = 1.0"
      ],
      "execution_count": 9,
      "outputs": []
    },
    {
      "cell_type": "code",
      "metadata": {
        "id": "kVZK4SHkmgN8",
        "outputId": "5c89ce35-a932-4450-b135-f42e80a50c61",
        "colab": {
          "base_uri": "https://localhost:8080/"
        }
      },
      "source": [
        "points = torch.tensor([4.0, 1.0, 5.0, 3.0, 2.0, 1.0])\n",
        "points"
      ],
      "execution_count": 10,
      "outputs": [
        {
          "output_type": "execute_result",
          "data": {
            "text/plain": [
              "tensor([4., 1., 5., 3., 2., 1.])"
            ]
          },
          "metadata": {
            "tags": []
          },
          "execution_count": 10
        }
      ]
    },
    {
      "cell_type": "code",
      "metadata": {
        "id": "X1JRR4ogmgN9",
        "outputId": "7742456b-1564-43d8-bc29-da187b1eb32c",
        "colab": {
          "base_uri": "https://localhost:8080/"
        }
      },
      "source": [
        "float(points[0]), float(points[1])"
      ],
      "execution_count": 11,
      "outputs": [
        {
          "output_type": "execute_result",
          "data": {
            "text/plain": [
              "(4.0, 1.0)"
            ]
          },
          "metadata": {
            "tags": []
          },
          "execution_count": 11
        }
      ]
    },
    {
      "cell_type": "code",
      "metadata": {
        "id": "zT1C4rkHmgN-",
        "outputId": "b158c0ba-3ad5-4059-d611-7ce9c1e56874",
        "colab": {
          "base_uri": "https://localhost:8080/"
        }
      },
      "source": [
        "points = torch.tensor([[4.0, 1.0], [5.0, 3.0], [2.0, 1.0]])\n",
        "points"
      ],
      "execution_count": 12,
      "outputs": [
        {
          "output_type": "execute_result",
          "data": {
            "text/plain": [
              "tensor([[4., 1.],\n",
              "        [5., 3.],\n",
              "        [2., 1.]])"
            ]
          },
          "metadata": {
            "tags": []
          },
          "execution_count": 12
        }
      ]
    },
    {
      "cell_type": "code",
      "metadata": {
        "id": "oNeTEV19mgN_",
        "outputId": "07ae2887-c51a-4051-fa3c-b7f0ffeb1978",
        "colab": {
          "base_uri": "https://localhost:8080/"
        }
      },
      "source": [
        "points.shape"
      ],
      "execution_count": 13,
      "outputs": [
        {
          "output_type": "execute_result",
          "data": {
            "text/plain": [
              "torch.Size([3, 2])"
            ]
          },
          "metadata": {
            "tags": []
          },
          "execution_count": 13
        }
      ]
    },
    {
      "cell_type": "code",
      "metadata": {
        "id": "Yeq_NbxPmgN_",
        "outputId": "ac70a74d-7725-4050-f2a1-a1c28ecd4b9e",
        "colab": {
          "base_uri": "https://localhost:8080/"
        }
      },
      "source": [
        "points = torch.zeros(3, 2)\n",
        "points"
      ],
      "execution_count": 14,
      "outputs": [
        {
          "output_type": "execute_result",
          "data": {
            "text/plain": [
              "tensor([[0., 0.],\n",
              "        [0., 0.],\n",
              "        [0., 0.]])"
            ]
          },
          "metadata": {
            "tags": []
          },
          "execution_count": 14
        }
      ]
    },
    {
      "cell_type": "code",
      "metadata": {
        "id": "QnNhGepjmgOA",
        "outputId": "779e9109-f6ef-496d-e076-bf13ef36fc50",
        "colab": {
          "base_uri": "https://localhost:8080/"
        }
      },
      "source": [
        "points = torch.tensor([[4.0, 1.0], [5.0, 3.0], [2.0, 1.0]])\n",
        "points"
      ],
      "execution_count": 15,
      "outputs": [
        {
          "output_type": "execute_result",
          "data": {
            "text/plain": [
              "tensor([[4., 1.],\n",
              "        [5., 3.],\n",
              "        [2., 1.]])"
            ]
          },
          "metadata": {
            "tags": []
          },
          "execution_count": 15
        }
      ]
    },
    {
      "cell_type": "code",
      "metadata": {
        "id": "IMgr3sATmgOB",
        "outputId": "e8f13b6f-f962-44b9-f923-ad797503a73a",
        "colab": {
          "base_uri": "https://localhost:8080/"
        }
      },
      "source": [
        "points[0, 1]"
      ],
      "execution_count": 16,
      "outputs": [
        {
          "output_type": "execute_result",
          "data": {
            "text/plain": [
              "tensor(1.)"
            ]
          },
          "metadata": {
            "tags": []
          },
          "execution_count": 16
        }
      ]
    },
    {
      "cell_type": "code",
      "metadata": {
        "id": "fGd4xOhhmgOB",
        "outputId": "00de4506-00f7-4528-9a26-5e443aeb8036",
        "colab": {
          "base_uri": "https://localhost:8080/"
        }
      },
      "source": [
        "points[0]"
      ],
      "execution_count": 17,
      "outputs": [
        {
          "output_type": "execute_result",
          "data": {
            "text/plain": [
              "tensor([4., 1.])"
            ]
          },
          "metadata": {
            "tags": []
          },
          "execution_count": 17
        }
      ]
    },
    {
      "cell_type": "code",
      "metadata": {
        "id": "IY4Kc4MVmgOC",
        "outputId": "10d24fc2-978d-4e54-e737-152736382c5e",
        "colab": {
          "base_uri": "https://localhost:8080/"
        }
      },
      "source": [
        "# メモリ上ではTensorは常に1次元であり、storage()でアクセスできる\n",
        "points = torch.tensor([[4.0, 1.0], [5.0, 3.0], [2.0, 1.0]])\n",
        "points.storage()"
      ],
      "execution_count": 18,
      "outputs": [
        {
          "output_type": "execute_result",
          "data": {
            "text/plain": [
              " 4.0\n",
              " 1.0\n",
              " 5.0\n",
              " 3.0\n",
              " 2.0\n",
              " 1.0\n",
              "[torch.FloatStorage of size 6]"
            ]
          },
          "metadata": {
            "tags": []
          },
          "execution_count": 18
        }
      ]
    },
    {
      "cell_type": "code",
      "metadata": {
        "id": "U9BgaskimgOC",
        "outputId": "ea0c0776-debd-4599-89d3-dd044b1e70c9",
        "colab": {
          "base_uri": "https://localhost:8080/"
        }
      },
      "source": [
        "# storageに直接アクセスして数値を取ることも可能\n",
        "points_storage = points.storage()\n",
        "points_storage[0]"
      ],
      "execution_count": 19,
      "outputs": [
        {
          "output_type": "execute_result",
          "data": {
            "text/plain": [
              "4.0"
            ]
          },
          "metadata": {
            "tags": []
          },
          "execution_count": 19
        }
      ]
    },
    {
      "cell_type": "code",
      "metadata": {
        "id": "NrFwp9KjmgOD",
        "outputId": "fe564349-3e60-4fd6-dea9-06f192954b9c",
        "colab": {
          "base_uri": "https://localhost:8080/"
        }
      },
      "source": [
        "points.storage()[1]"
      ],
      "execution_count": 20,
      "outputs": [
        {
          "output_type": "execute_result",
          "data": {
            "text/plain": [
              "1.0"
            ]
          },
          "metadata": {
            "tags": []
          },
          "execution_count": 20
        }
      ]
    },
    {
      "cell_type": "code",
      "metadata": {
        "id": "FqTTIju3mgOE",
        "outputId": "6e0dfd0d-03c5-4e1e-ac5b-b4f2d85565f8",
        "colab": {
          "base_uri": "https://localhost:8080/"
        }
      },
      "source": [
        "# storageを更新すると参照tensorも影響を受ける\n",
        "points = torch.tensor([[4.0, 1.0], [5.0, 3.0], [2.0, 1.0]])\n",
        "points_storage = points.storage()\n",
        "points_storage[0] = 2.0\n",
        "points"
      ],
      "execution_count": 21,
      "outputs": [
        {
          "output_type": "execute_result",
          "data": {
            "text/plain": [
              "tensor([[2., 1.],\n",
              "        [5., 3.],\n",
              "        [2., 1.]])"
            ]
          },
          "metadata": {
            "tags": []
          },
          "execution_count": 21
        }
      ]
    },
    {
      "cell_type": "code",
      "metadata": {
        "id": "0j467oWEmgOE",
        "outputId": "fa78a0d0-dc83-4a22-9ad8-065eada36170",
        "colab": {
          "base_uri": "https://localhost:8080/"
        }
      },
      "source": [
        "# サイズ(または NumPy の用語では shape)は、テンソルの各次元の要素の数を示すタプル\n",
        "# ストレージ オフセットは、テンソルの最初の要素に対応するストレージ内のインデックス\n",
        "# ストライドは、各次元に沿って次の要素を得るためにスキップする必要があるストレージ内の要素 の数\n",
        "points = torch.tensor([[4.0, 1.0], [5.0, 3.0], [2.0, 1.0]])\n",
        "second_point = points[1]\n",
        "second_point.storage_offset()"
      ],
      "execution_count": 22,
      "outputs": [
        {
          "output_type": "execute_result",
          "data": {
            "text/plain": [
              "2"
            ]
          },
          "metadata": {
            "tags": []
          },
          "execution_count": 22
        }
      ]
    },
    {
      "cell_type": "code",
      "metadata": {
        "id": "g8UzqgBVmgOF"
      },
      "source": [
        "#second_point.size()"
      ],
      "execution_count": 23,
      "outputs": []
    },
    {
      "cell_type": "code",
      "metadata": {
        "id": "8SVdLDqDmgOG",
        "outputId": "c57db8b4-a716-46f1-ddde-bfe2f7aa0924",
        "colab": {
          "base_uri": "https://localhost:8080/"
        }
      },
      "source": [
        "second_point.shape"
      ],
      "execution_count": 24,
      "outputs": [
        {
          "output_type": "execute_result",
          "data": {
            "text/plain": [
              "torch.Size([2])"
            ]
          },
          "metadata": {
            "tags": []
          },
          "execution_count": 24
        }
      ]
    },
    {
      "cell_type": "code",
      "metadata": {
        "id": "zwvrMbI5mgOG",
        "outputId": "f8a71cba-4fd5-44a9-d31a-26460a59a469",
        "colab": {
          "base_uri": "https://localhost:8080/"
        }
      },
      "source": [
        "points.stride()"
      ],
      "execution_count": 25,
      "outputs": [
        {
          "output_type": "execute_result",
          "data": {
            "text/plain": [
              "(2, 1)"
            ]
          },
          "metadata": {
            "tags": []
          },
          "execution_count": 25
        }
      ]
    },
    {
      "cell_type": "code",
      "metadata": {
        "id": "FaxAIyNXmgOG",
        "outputId": "f4591e62-ffc0-4e12-f8a9-af7f52b3f465",
        "colab": {
          "base_uri": "https://localhost:8080/"
        }
      },
      "source": [
        "second_point = points[1]\n",
        "second_point.size()"
      ],
      "execution_count": 26,
      "outputs": [
        {
          "output_type": "execute_result",
          "data": {
            "text/plain": [
              "torch.Size([2])"
            ]
          },
          "metadata": {
            "tags": []
          },
          "execution_count": 26
        }
      ]
    },
    {
      "cell_type": "code",
      "metadata": {
        "id": "k8JBSkZEmgOH",
        "outputId": "7ca1a950-9749-4164-9830-e2153be8accb",
        "colab": {
          "base_uri": "https://localhost:8080/"
        }
      },
      "source": [
        "second_point.storage_offset()"
      ],
      "execution_count": 27,
      "outputs": [
        {
          "output_type": "execute_result",
          "data": {
            "text/plain": [
              "2"
            ]
          },
          "metadata": {
            "tags": []
          },
          "execution_count": 27
        }
      ]
    },
    {
      "cell_type": "code",
      "metadata": {
        "id": "To2HNzeBmgOH",
        "outputId": "e1a28002-a475-425e-fccb-4a7a4d984ac7",
        "colab": {
          "base_uri": "https://localhost:8080/"
        }
      },
      "source": [
        "second_point.stride()"
      ],
      "execution_count": 28,
      "outputs": [
        {
          "output_type": "execute_result",
          "data": {
            "text/plain": [
              "(1,)"
            ]
          },
          "metadata": {
            "tags": []
          },
          "execution_count": 28
        }
      ]
    },
    {
      "cell_type": "code",
      "metadata": {
        "id": "kuNX2sppmgOI",
        "outputId": "66038910-bb5f-47b6-a608-d1507f284c3e",
        "colab": {
          "base_uri": "https://localhost:8080/"
        }
      },
      "source": [
        "points = torch.tensor([[4.0, 1.0], [5.0, 3.0], [2.0, 1.0]])\n",
        "second_point = points[1]\n",
        "second_point[0] = 10.0\n",
        "points"
      ],
      "execution_count": 29,
      "outputs": [
        {
          "output_type": "execute_result",
          "data": {
            "text/plain": [
              "tensor([[ 4.,  1.],\n",
              "        [10.,  3.],\n",
              "        [ 2.,  1.]])"
            ]
          },
          "metadata": {
            "tags": []
          },
          "execution_count": 29
        }
      ]
    },
    {
      "cell_type": "code",
      "metadata": {
        "id": "Mb5EJP19mgOJ",
        "outputId": "97681448-21dc-4a76-dbf5-dea57cd0aa7d",
        "colab": {
          "base_uri": "https://localhost:8080/"
        }
      },
      "source": [
        "points = torch.tensor([[4.0, 1.0], [5.0, 3.0], [2.0, 1.0]])\n",
        "second_point = points[1].clone()\n",
        "second_point[0] = 10.0\n",
        "points"
      ],
      "execution_count": 30,
      "outputs": [
        {
          "output_type": "execute_result",
          "data": {
            "text/plain": [
              "tensor([[4., 1.],\n",
              "        [5., 3.],\n",
              "        [2., 1.]])"
            ]
          },
          "metadata": {
            "tags": []
          },
          "execution_count": 30
        }
      ]
    },
    {
      "cell_type": "code",
      "metadata": {
        "id": "0zf7zB8vmgOK",
        "outputId": "0f8932e7-7dcc-4b2d-8037-b5eaaadb50c9",
        "colab": {
          "base_uri": "https://localhost:8080/"
        }
      },
      "source": [
        "points = torch.tensor([[4.0, 1.0], [5.0, 3.0], [2.0, 1.0]])\n",
        "points"
      ],
      "execution_count": 31,
      "outputs": [
        {
          "output_type": "execute_result",
          "data": {
            "text/plain": [
              "tensor([[4., 1.],\n",
              "        [5., 3.],\n",
              "        [2., 1.]])"
            ]
          },
          "metadata": {
            "tags": []
          },
          "execution_count": 31
        }
      ]
    },
    {
      "cell_type": "code",
      "metadata": {
        "id": "8JiTL6JrmgOK",
        "outputId": "dcff64fe-cb51-498b-b6d8-3b7e2e37742e",
        "colab": {
          "base_uri": "https://localhost:8080/"
        }
      },
      "source": [
        "points_t = points.t()\n",
        "points_t"
      ],
      "execution_count": 32,
      "outputs": [
        {
          "output_type": "execute_result",
          "data": {
            "text/plain": [
              "tensor([[4., 5., 2.],\n",
              "        [1., 3., 1.]])"
            ]
          },
          "metadata": {
            "tags": []
          },
          "execution_count": 32
        }
      ]
    },
    {
      "cell_type": "code",
      "metadata": {
        "id": "6RVUaW8MmgOL",
        "outputId": "a1600024-a802-44cf-9516-8caf024ecf17",
        "colab": {
          "base_uri": "https://localhost:8080/"
        }
      },
      "source": [
        "id(points.storage()) == id(points_t.storage())"
      ],
      "execution_count": 33,
      "outputs": [
        {
          "output_type": "execute_result",
          "data": {
            "text/plain": [
              "True"
            ]
          },
          "metadata": {
            "tags": []
          },
          "execution_count": 33
        }
      ]
    },
    {
      "cell_type": "code",
      "metadata": {
        "id": "NtcpyxMFmgOM",
        "outputId": "556e5c51-c996-4acd-a9dc-3ee7837a373c",
        "colab": {
          "base_uri": "https://localhost:8080/"
        }
      },
      "source": [
        "points.stride()"
      ],
      "execution_count": 34,
      "outputs": [
        {
          "output_type": "execute_result",
          "data": {
            "text/plain": [
              "(2, 1)"
            ]
          },
          "metadata": {
            "tags": []
          },
          "execution_count": 34
        }
      ]
    },
    {
      "cell_type": "code",
      "metadata": {
        "id": "lBWNwZsrmgOM",
        "outputId": "082181cb-5411-4eda-d57b-4b4e9c5d4d44",
        "colab": {
          "base_uri": "https://localhost:8080/"
        }
      },
      "source": [
        "points_t.stride()"
      ],
      "execution_count": 35,
      "outputs": [
        {
          "output_type": "execute_result",
          "data": {
            "text/plain": [
              "(1, 2)"
            ]
          },
          "metadata": {
            "tags": []
          },
          "execution_count": 35
        }
      ]
    },
    {
      "cell_type": "code",
      "metadata": {
        "id": "FudjEx3vmgON",
        "outputId": "458fcce4-f93b-4494-e61d-9334d15de53a",
        "colab": {
          "base_uri": "https://localhost:8080/"
        }
      },
      "source": [
        "some_t = torch.ones(3, 4, 5)\n",
        "transpose_t = some_t.transpose(0, 2)\n",
        "some_t.shape"
      ],
      "execution_count": 36,
      "outputs": [
        {
          "output_type": "execute_result",
          "data": {
            "text/plain": [
              "torch.Size([3, 4, 5])"
            ]
          },
          "metadata": {
            "tags": []
          },
          "execution_count": 36
        }
      ]
    },
    {
      "cell_type": "code",
      "metadata": {
        "id": "Viyp6NCPmgOR",
        "outputId": "441b6b24-d9c0-4b65-c35e-e78df61a1c14",
        "colab": {
          "base_uri": "https://localhost:8080/"
        }
      },
      "source": [
        "transpose_t.shape"
      ],
      "execution_count": 37,
      "outputs": [
        {
          "output_type": "execute_result",
          "data": {
            "text/plain": [
              "torch.Size([5, 4, 3])"
            ]
          },
          "metadata": {
            "tags": []
          },
          "execution_count": 37
        }
      ]
    },
    {
      "cell_type": "code",
      "metadata": {
        "id": "u6RiE6WfmgOS",
        "outputId": "e36df45a-05e0-4640-9dce-107e0d490f9e",
        "colab": {
          "base_uri": "https://localhost:8080/"
        }
      },
      "source": [
        "some_t.stride()"
      ],
      "execution_count": 38,
      "outputs": [
        {
          "output_type": "execute_result",
          "data": {
            "text/plain": [
              "(20, 5, 1)"
            ]
          },
          "metadata": {
            "tags": []
          },
          "execution_count": 38
        }
      ]
    },
    {
      "cell_type": "code",
      "metadata": {
        "id": "Mf9xynPSmgOT",
        "outputId": "c924fc69-9f9e-4a6f-ba1d-31e118844bf3",
        "colab": {
          "base_uri": "https://localhost:8080/"
        }
      },
      "source": [
        "transpose_t.stride()"
      ],
      "execution_count": 39,
      "outputs": [
        {
          "output_type": "execute_result",
          "data": {
            "text/plain": [
              "(1, 5, 20)"
            ]
          },
          "metadata": {
            "tags": []
          },
          "execution_count": 39
        }
      ]
    },
    {
      "cell_type": "code",
      "metadata": {
        "id": "OjbUVGP0mgOU",
        "outputId": "08c1aac2-2ff7-4dab-c393-e91c19b13372",
        "colab": {
          "base_uri": "https://localhost:8080/"
        }
      },
      "source": [
        "points.is_contiguous()"
      ],
      "execution_count": 40,
      "outputs": [
        {
          "output_type": "execute_result",
          "data": {
            "text/plain": [
              "True"
            ]
          },
          "metadata": {
            "tags": []
          },
          "execution_count": 40
        }
      ]
    },
    {
      "cell_type": "code",
      "metadata": {
        "id": "Pue3ZxdAmgOV",
        "outputId": "674869ca-0c66-4c34-f471-d3ffeff066c6",
        "colab": {
          "base_uri": "https://localhost:8080/"
        }
      },
      "source": [
        "# storage上で非連続のテンソル（転置した場合など）で不都合が生じる（実行できない計算がある）\n",
        "# contiguous()関数で連続したテンソルに変換可能\n",
        "points_t.is_contiguous()"
      ],
      "execution_count": 41,
      "outputs": [
        {
          "output_type": "execute_result",
          "data": {
            "text/plain": [
              "False"
            ]
          },
          "metadata": {
            "tags": []
          },
          "execution_count": 41
        }
      ]
    },
    {
      "cell_type": "code",
      "metadata": {
        "id": "ED3fVXcOmgOV",
        "outputId": "be38ef98-1de3-4770-ab29-78672e4af05d",
        "colab": {
          "base_uri": "https://localhost:8080/"
        }
      },
      "source": [
        "points = torch.tensor([[4.0, 1.0], [5.0, 3.0], [2.0, 1.0]])\n",
        "points_t = points.t()\n",
        "points_t"
      ],
      "execution_count": 42,
      "outputs": [
        {
          "output_type": "execute_result",
          "data": {
            "text/plain": [
              "tensor([[4., 5., 2.],\n",
              "        [1., 3., 1.]])"
            ]
          },
          "metadata": {
            "tags": []
          },
          "execution_count": 42
        }
      ]
    },
    {
      "cell_type": "code",
      "metadata": {
        "id": "3VLFPuMqmgOW",
        "outputId": "f6ce60e4-1269-48f9-b513-97b4b38adf79",
        "colab": {
          "base_uri": "https://localhost:8080/"
        }
      },
      "source": [
        "points_t.storage()"
      ],
      "execution_count": 43,
      "outputs": [
        {
          "output_type": "execute_result",
          "data": {
            "text/plain": [
              " 4.0\n",
              " 1.0\n",
              " 5.0\n",
              " 3.0\n",
              " 2.0\n",
              " 1.0\n",
              "[torch.FloatStorage of size 6]"
            ]
          },
          "metadata": {
            "tags": []
          },
          "execution_count": 43
        }
      ]
    },
    {
      "cell_type": "code",
      "metadata": {
        "id": "hs7g4d6amgOX",
        "outputId": "7603290a-7431-4bfe-f6f7-f8fff910129f",
        "colab": {
          "base_uri": "https://localhost:8080/"
        }
      },
      "source": [
        "points_t.stride()"
      ],
      "execution_count": 44,
      "outputs": [
        {
          "output_type": "execute_result",
          "data": {
            "text/plain": [
              "(1, 2)"
            ]
          },
          "metadata": {
            "tags": []
          },
          "execution_count": 44
        }
      ]
    },
    {
      "cell_type": "code",
      "metadata": {
        "id": "WzJXwofMmgOY",
        "outputId": "771f895f-92bb-4a9d-c647-d3c4973c0993",
        "colab": {
          "base_uri": "https://localhost:8080/"
        }
      },
      "source": [
        "points_t_cont = points_t.contiguous()\n",
        "points_t_cont"
      ],
      "execution_count": 45,
      "outputs": [
        {
          "output_type": "execute_result",
          "data": {
            "text/plain": [
              "tensor([[4., 5., 2.],\n",
              "        [1., 3., 1.]])"
            ]
          },
          "metadata": {
            "tags": []
          },
          "execution_count": 45
        }
      ]
    },
    {
      "cell_type": "code",
      "metadata": {
        "id": "8qJpoJM8mgOZ",
        "outputId": "52872167-edaf-4f7a-c7b9-b34708e3462f",
        "colab": {
          "base_uri": "https://localhost:8080/"
        }
      },
      "source": [
        "points_t_cont.stride()"
      ],
      "execution_count": 46,
      "outputs": [
        {
          "output_type": "execute_result",
          "data": {
            "text/plain": [
              "(3, 1)"
            ]
          },
          "metadata": {
            "tags": []
          },
          "execution_count": 46
        }
      ]
    },
    {
      "cell_type": "code",
      "metadata": {
        "id": "L7LjRKFtmgOa",
        "outputId": "9e6be3a2-a494-4c6c-f3de-524dbfc030f0",
        "colab": {
          "base_uri": "https://localhost:8080/"
        }
      },
      "source": [
        "points_t_cont.storage()"
      ],
      "execution_count": 47,
      "outputs": [
        {
          "output_type": "execute_result",
          "data": {
            "text/plain": [
              " 4.0\n",
              " 5.0\n",
              " 2.0\n",
              " 1.0\n",
              " 3.0\n",
              " 1.0\n",
              "[torch.FloatStorage of size 6]"
            ]
          },
          "metadata": {
            "tags": []
          },
          "execution_count": 47
        }
      ]
    },
    {
      "cell_type": "code",
      "metadata": {
        "id": "lIm2otTumgOa"
      },
      "source": [
        "double_points = torch.ones(10, 2, dtype=torch.double)\n",
        "short_points = torch.tensor([[1, 2], [3, 4]], dtype=torch.short)"
      ],
      "execution_count": 48,
      "outputs": []
    },
    {
      "cell_type": "code",
      "metadata": {
        "id": "jOj2dtyamgOa",
        "outputId": "8e0f9c06-cb43-4819-c028-99509c7be5dd",
        "colab": {
          "base_uri": "https://localhost:8080/"
        }
      },
      "source": [
        "short_points.dtype"
      ],
      "execution_count": 49,
      "outputs": [
        {
          "output_type": "execute_result",
          "data": {
            "text/plain": [
              "torch.int16"
            ]
          },
          "metadata": {
            "tags": []
          },
          "execution_count": 49
        }
      ]
    },
    {
      "cell_type": "code",
      "metadata": {
        "id": "Wy7phyQjmgOb"
      },
      "source": [
        "double_points = torch.zeros(10, 2).double()\n",
        "short_points = torch.ones(10, 2).short()"
      ],
      "execution_count": 50,
      "outputs": []
    },
    {
      "cell_type": "code",
      "metadata": {
        "id": "-onnDrFhmgOb"
      },
      "source": [
        "double_points = torch.zeros(10, 2).to(torch.double)\n",
        "short_points = torch.ones(10, 2).to(dtype=torch.short)"
      ],
      "execution_count": 51,
      "outputs": []
    },
    {
      "cell_type": "code",
      "metadata": {
        "id": "tccVWFoumgOb",
        "outputId": "6ea1ac0f-e95b-491d-9362-5036d989291d",
        "colab": {
          "base_uri": "https://localhost:8080/"
        }
      },
      "source": [
        "points_64 = torch.rand(5, dtype=torch.double)  # <1>\n",
        "points_short = points_64.to(torch.short)\n",
        "points_64 * points_short  # works from PyTorch 1.3 onwards"
      ],
      "execution_count": 52,
      "outputs": [
        {
          "output_type": "execute_result",
          "data": {
            "text/plain": [
              "tensor([0., 0., 0., 0., 0.], dtype=torch.float64)"
            ]
          },
          "metadata": {
            "tags": []
          },
          "execution_count": 52
        }
      ]
    },
    {
      "cell_type": "code",
      "metadata": {
        "id": "ilCMtn1HmgOb"
      },
      "source": [
        "# reset points back to original value\n",
        "points = torch.tensor([[4.0, 1.0], [5.0, 3.0], [2.0, 1.0]])"
      ],
      "execution_count": 53,
      "outputs": []
    },
    {
      "cell_type": "code",
      "metadata": {
        "id": "UblQBM2smgOc",
        "outputId": "b3b46828-a5bc-43c2-9f2e-2c19ac8998fa",
        "colab": {
          "base_uri": "https://localhost:8080/"
        }
      },
      "source": [
        "some_list = list(range(6))\n",
        "some_list[:]     # <1>\n",
        "some_list[1:4]   # <2>\n",
        "some_list[1:]    # <3>\n",
        "some_list[:4]    # <4>\n",
        "some_list[:-1]   # <5>\n",
        "some_list[1:4:2] # <6>"
      ],
      "execution_count": 54,
      "outputs": [
        {
          "output_type": "execute_result",
          "data": {
            "text/plain": [
              "[1, 3]"
            ]
          },
          "metadata": {
            "tags": []
          },
          "execution_count": 54
        }
      ]
    },
    {
      "cell_type": "code",
      "metadata": {
        "id": "hNJP1d8OmgOc",
        "outputId": "a143d004-dbae-4af2-b9bd-d8fe0d0c820e",
        "colab": {
          "base_uri": "https://localhost:8080/"
        }
      },
      "source": [
        "points[1:]       # <1>\n",
        "points[1:, :]    # <2>\n",
        "points[1:, 0]    # <3>\n",
        "points[None]     # <4>"
      ],
      "execution_count": 55,
      "outputs": [
        {
          "output_type": "execute_result",
          "data": {
            "text/plain": [
              "tensor([[[4., 1.],\n",
              "         [5., 3.],\n",
              "         [2., 1.]]])"
            ]
          },
          "metadata": {
            "tags": []
          },
          "execution_count": 55
        }
      ]
    },
    {
      "cell_type": "code",
      "metadata": {
        "id": "CxfJXZ3rmgOd",
        "outputId": "77f87a39-f218-4697-d0f0-ffaaf0f7f665",
        "colab": {
          "base_uri": "https://localhost:8080/"
        }
      },
      "source": [
        "points = torch.ones(3, 4)\n",
        "points_np = points.numpy()\n",
        "points_np"
      ],
      "execution_count": 56,
      "outputs": [
        {
          "output_type": "execute_result",
          "data": {
            "text/plain": [
              "array([[1., 1., 1., 1.],\n",
              "       [1., 1., 1., 1.],\n",
              "       [1., 1., 1., 1.]], dtype=float32)"
            ]
          },
          "metadata": {
            "tags": []
          },
          "execution_count": 56
        }
      ]
    },
    {
      "cell_type": "code",
      "metadata": {
        "id": "PxaWPqxumgOd"
      },
      "source": [
        "points = torch.from_numpy(points_np)"
      ],
      "execution_count": 57,
      "outputs": []
    },
    {
      "cell_type": "code",
      "metadata": {
        "id": "dKp9eeJ_z3IV",
        "outputId": "2ae9d37b-f69b-42c3-beb3-43ebdf95b3b0",
        "colab": {
          "base_uri": "https://localhost:8080/"
        }
      },
      "source": [
        "from google.colab import drive\n",
        "drive.mount('/content/drive')\n",
        "%cd /content/drive/MyDrive/repos/deep-learning-with-pytorch-ja/"
      ],
      "execution_count": 59,
      "outputs": [
        {
          "output_type": "stream",
          "text": [
            "Drive already mounted at /content/drive; to attempt to forcibly remount, call drive.mount(\"/content/drive\", force_remount=True).\n",
            "/content/drive/MyDrive/repos/deep-learning-with-pytorch-ja\n"
          ],
          "name": "stdout"
        }
      ]
    },
    {
      "cell_type": "code",
      "metadata": {
        "id": "0AvjfXRmmgOe"
      },
      "source": [
        "last_points = torch.from_numpy(dset[-2:])\n",
        "f.close()"
      ],
      "execution_count": null,
      "outputs": []
    },
    {
      "cell_type": "code",
      "metadata": {
        "id": "G9rcgyDpmgOf"
      },
      "source": [
        "# GPU計算\n",
        "points_gpu = torch.tensor([[4.0, 1.0], [5.0, 3.0], [2.0, 1.0]], device='cuda')"
      ],
      "execution_count": 64,
      "outputs": []
    },
    {
      "cell_type": "code",
      "metadata": {
        "id": "XvXHcxZYmgOf"
      },
      "source": [
        "points_gpu = points.to(device='cuda')"
      ],
      "execution_count": 65,
      "outputs": []
    },
    {
      "cell_type": "code",
      "metadata": {
        "id": "U7D_Ue3MmgOf"
      },
      "source": [
        "# 複数のGPUがある場合の指定\n",
        "points_gpu = points.to(device='cuda:0')"
      ],
      "execution_count": 66,
      "outputs": []
    },
    {
      "cell_type": "code",
      "metadata": {
        "id": "jTYUnDr6mgOf"
      },
      "source": [
        "points = 2 * points  # <1>\n",
        "points_gpu = 2 * points.to(device='cuda')  # <2>"
      ],
      "execution_count": 67,
      "outputs": []
    },
    {
      "cell_type": "code",
      "metadata": {
        "id": "4hCgZdGvmgOf"
      },
      "source": [
        "points_gpu = points_gpu + 4"
      ],
      "execution_count": 68,
      "outputs": []
    },
    {
      "cell_type": "code",
      "metadata": {
        "id": "FuuhBtAgmgOg"
      },
      "source": [
        "points_cpu = points_gpu.to(device='cpu')"
      ],
      "execution_count": 69,
      "outputs": []
    },
    {
      "cell_type": "code",
      "metadata": {
        "id": "zwQMWj4AmgOg"
      },
      "source": [
        "# to()ではなくcuda()やcpu()でも可\n",
        "points_gpu = points.cuda()  # <1>\n",
        "points_gpu = points.cuda(0)\n",
        "points_cpu = points_gpu.cpu()"
      ],
      "execution_count": 70,
      "outputs": []
    },
    {
      "cell_type": "code",
      "metadata": {
        "id": "Jo2KNopMmgOg",
        "outputId": "7715d662-9f07-4097-b997-36d0573686d0"
      },
      "source": [
        "a = torch.ones(3, 2)\n",
        "a_t = torch.transpose(a, 0, 1)\n",
        "\n",
        "a.shape, a_t.shape"
      ],
      "execution_count": null,
      "outputs": [
        {
          "output_type": "execute_result",
          "data": {
            "text/plain": [
              "(torch.Size([3, 2]), torch.Size([2, 3]))"
            ]
          },
          "metadata": {
            "tags": []
          },
          "execution_count": 71
        }
      ]
    },
    {
      "cell_type": "code",
      "metadata": {
        "id": "SUUvxnWvmgOg",
        "outputId": "35f10c57-5d23-496a-8f82-f0861fae2ff6"
      },
      "source": [
        "a = torch.ones(3, 2)\n",
        "a_t = a.transpose(0, 1)\n",
        "\n",
        "a.shape, a_t.shape"
      ],
      "execution_count": null,
      "outputs": [
        {
          "output_type": "execute_result",
          "data": {
            "text/plain": [
              "(torch.Size([3, 2]), torch.Size([2, 3]))"
            ]
          },
          "metadata": {
            "tags": []
          },
          "execution_count": 72
        }
      ]
    },
    {
      "cell_type": "code",
      "metadata": {
        "id": "yz1eDuBjmgOh"
      },
      "source": [
        "a = torch.ones(3, 2)"
      ],
      "execution_count": null,
      "outputs": []
    },
    {
      "cell_type": "code",
      "metadata": {
        "id": "u9Ooy01lmgOh",
        "outputId": "bb18e31c-19c1-4174-ffdb-3145a08356d4"
      },
      "source": [
        "a.zero_()\n",
        "a"
      ],
      "execution_count": null,
      "outputs": [
        {
          "output_type": "execute_result",
          "data": {
            "text/plain": [
              "tensor([[0., 0.],\n",
              "        [0., 0.],\n",
              "        [0., 0.]])"
            ]
          },
          "metadata": {
            "tags": []
          },
          "execution_count": 74
        }
      ]
    },
    {
      "cell_type": "code",
      "metadata": {
        "id": "AW4_sMDzmgOd"
      },
      "source": [
        "# pickle保存\n",
        "torch.save(points, 'data/p1ch3/ourpoints.t')"
      ],
      "execution_count": 60,
      "outputs": []
    },
    {
      "cell_type": "code",
      "metadata": {
        "id": "x-OxWqMDmgOd"
      },
      "source": [
        "with open('data/p1ch3/ourpoints.t','wb') as f:\n",
        "   torch.save(points, f)"
      ],
      "execution_count": 71,
      "outputs": []
    },
    {
      "cell_type": "code",
      "metadata": {
        "id": "2lXmXk-GmgOe"
      },
      "source": [
        "# ロード\n",
        "points = torch.load('data/p1ch3/ourpoints.t')"
      ],
      "execution_count": 72,
      "outputs": []
    },
    {
      "cell_type": "code",
      "metadata": {
        "id": "8afeaatNmgOe"
      },
      "source": [
        "with open('data/p1ch3/ourpoints.t','rb') as f:\n",
        "   points = torch.load(f)"
      ],
      "execution_count": 73,
      "outputs": []
    },
    {
      "cell_type": "code",
      "metadata": {
        "id": "h-4UJvkQmgOe"
      },
      "source": [
        "# PyTorch以外でTensorを読みたい場合はHDF5形式で保存\n",
        "import h5py\n",
        "\n",
        "f = h5py.File('data/p1ch3/ourpoints.hdf5', 'w')\n",
        "dset = f.create_dataset('coords', data=points.numpy())\n",
        "f.close()"
      ],
      "execution_count": 75,
      "outputs": []
    },
    {
      "cell_type": "code",
      "metadata": {
        "id": "8mRctBpOmgOe"
      },
      "source": [
        "f = h5py.File('data/p1ch3/ourpoints.hdf5', 'r')\n",
        "dset = f['coords']\n",
        "last_points = dset[-2:]"
      ],
      "execution_count": 76,
      "outputs": []
    },
    {
      "cell_type": "code",
      "metadata": {
        "id": "wmTQ0qs75D56"
      },
      "source": [
        ""
      ],
      "execution_count": null,
      "outputs": []
    }
  ]
}